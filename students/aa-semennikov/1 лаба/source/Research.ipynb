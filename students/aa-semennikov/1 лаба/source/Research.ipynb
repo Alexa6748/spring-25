{
 "cells": [
  {
   "cell_type": "code",
   "execution_count": 1,
   "metadata": {},
   "outputs": [],
   "source": [
    "import pandas as pd\n",
    "import numpy as np\n",
    "from time import time\n",
    "from sklearn.model_selection import train_test_split\n",
    "from sklearn.metrics import r2_score\n",
    "from sklearn.ensemble import BaggingRegressor"
   ]
  },
  {
   "cell_type": "code",
   "execution_count": 2,
   "metadata": {},
   "outputs": [],
   "source": [
    "df = pd.read_csv('../data/Clean_Dataset.csv')"
   ]
  },
  {
   "cell_type": "code",
   "execution_count": 3,
   "metadata": {},
   "outputs": [],
   "source": [
    "df = df.drop('Unnamed: 0', axis=1)\n",
    "df = df.drop('flight', axis=1)\n",
    "\n",
    "df['class'] = df['class'].apply(lambda x: 1 if x == 'Business' else 0)"
   ]
  },
  {
   "cell_type": "code",
   "execution_count": 4,
   "metadata": {},
   "outputs": [],
   "source": [
    "df.stops = pd.factorize(df.stops)[0]"
   ]
  },
  {
   "cell_type": "code",
   "execution_count": 5,
   "metadata": {},
   "outputs": [],
   "source": [
    "df = df.join(pd.get_dummies(df.airline, prefix='airline')).drop('airline', axis=1)\n",
    "df = df.join(pd.get_dummies(df.source_city, prefix='source_city')).drop('source_city', axis=1)\n",
    "df = df.join(pd.get_dummies(df.destination_city, prefix='destination_city')).drop('destination_city', axis=1)\n",
    "df = df.join(pd.get_dummies(df.arrival_time, prefix='arrival_time')).drop('arrival_time', axis=1)\n",
    "df = df.join(pd.get_dummies(df.departure_time, prefix='departure_time')).drop('departure_time', axis=1)"
   ]
  },
  {
   "cell_type": "code",
   "execution_count": 6,
   "metadata": {},
   "outputs": [],
   "source": [
    "X = df.drop(['price'], axis=1).to_numpy()\n",
    "y = df['price'].to_numpy()"
   ]
  },
  {
   "cell_type": "code",
   "execution_count": 7,
   "metadata": {},
   "outputs": [
    {
     "data": {
      "text/plain": [
       "((240122, 34), (240122,))"
      ]
     },
     "execution_count": 7,
     "metadata": {},
     "output_type": "execute_result"
    }
   ],
   "source": [
    "X_train, X_test, y_train, y_test = train_test_split(X, y, test_size=0.2, random_state=42)\n",
    "X_train.shape, y_train.shape"
   ]
  },
  {
   "cell_type": "code",
   "execution_count": 8,
   "metadata": {},
   "outputs": [],
   "source": [
    "from Regressor import BaggingRegressor as BR\n",
    "\n",
    "model1 = BR(n_estimators=20)\n",
    "\n",
    "start1 = time()\n",
    "model1.fit(X_train, y_train)\n",
    "end1 = time()"
   ]
  },
  {
   "cell_type": "code",
   "execution_count": 16,
   "metadata": {},
   "outputs": [
    {
     "name": "stdout",
     "output_type": "stream",
     "text": [
      "0.9839\n"
     ]
    }
   ],
   "source": [
    "y_pred = model1.predict(X_test)\n",
    "print(f'{r2_score(y_pred, y_test):.4f}')"
   ]
  },
  {
   "cell_type": "code",
   "execution_count": 10,
   "metadata": {},
   "outputs": [],
   "source": [
    "model2 = BaggingRegressor(n_estimators=20)\n",
    "\n",
    "start2 = time()\n",
    "model2.fit(X_train, y_train)\n",
    "end2 = time()"
   ]
  },
  {
   "cell_type": "code",
   "execution_count": 18,
   "metadata": {},
   "outputs": [
    {
     "name": "stdout",
     "output_type": "stream",
     "text": [
      "0.9944\n"
     ]
    }
   ],
   "source": [
    "y_pred = model2.predict(X_test)\n",
    "print(f'{r2_score(y_pred, y_test):.4f}')"
   ]
  },
  {
   "cell_type": "code",
   "execution_count": 12,
   "metadata": {},
   "outputs": [
    {
     "name": "stdout",
     "output_type": "stream",
     "text": [
      "Время обучения кастомного алгоритма: 46.91 с\n",
      "Время обучения библиотечного алгоритма: 37.40 с\n"
     ]
    }
   ],
   "source": [
    "print(f\"Время обучения кастомного алгоритма: {(end1 - start1):.2f} с\")\n",
    "print(f\"Время обучения библиотечного алгоритма: {(end2 - start2):.2f} с\")"
   ]
  },
  {
   "cell_type": "code",
   "execution_count": 13,
   "metadata": {},
   "outputs": [],
   "source": [
    "def cross_validate(model, X, y, n_folds=5):\n",
    "    scores = []\n",
    "    for n in range(n_folds):\n",
    "        X_train, X_test, y_train, y_test = train_test_split(X, y, test_size=0.2)\n",
    "        model.fit(X_train, y_train)\n",
    "        scores += [r2_score(model.predict(X_test), y_test)]\n",
    "    return scores"
   ]
  },
  {
   "cell_type": "code",
   "execution_count": 14,
   "metadata": {},
   "outputs": [],
   "source": [
    "custom_scores = cross_validate(model1, X, y, n_folds=10)\n",
    "sklearn_scores = cross_validate(model2, X, y, n_folds=10)"
   ]
  },
  {
   "cell_type": "code",
   "execution_count": 15,
   "metadata": {},
   "outputs": [
    {
     "name": "stdout",
     "output_type": "stream",
     "text": [
      "Средний R2 на 10 выборках у кастомного алгоритма: 0.995\n",
      "Средний R2 на 10 выборках у библиотечного алгоритма: 0.985\n"
     ]
    }
   ],
   "source": [
    "print(f\"Средний R2 на {10} выборках у кастомного алгоритма: {np.mean(custom_scores):.3f}\")\n",
    "print(f\"Средний R2 на {10} выборках у библиотечного алгоритма: {np.mean(sklearn_scores):.3f}\")"
   ]
  }
 ],
 "metadata": {
  "kernelspec": {
   "display_name": "Python 3",
   "language": "python",
   "name": "python3"
  },
  "language_info": {
   "codemirror_mode": {
    "name": "ipython",
    "version": 3
   },
   "file_extension": ".py",
   "mimetype": "text/x-python",
   "name": "python",
   "nbconvert_exporter": "python",
   "pygments_lexer": "ipython3",
   "version": "3.12.0"
  }
 },
 "nbformat": 4,
 "nbformat_minor": 2
}
