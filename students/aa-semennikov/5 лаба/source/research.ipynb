{
 "cells": [
  {
   "cell_type": "code",
   "execution_count": 4,
   "metadata": {},
   "outputs": [
    {
     "data": {
      "application/vnd.microsoft.datawrangler.viewer.v0+json": {
       "columns": [
        {
         "name": "index",
         "rawType": "int64",
         "type": "integer"
        },
        {
         "name": "user_id",
         "rawType": "int64",
         "type": "integer"
        },
        {
         "name": "item_id",
         "rawType": "int64",
         "type": "integer"
        },
        {
         "name": "rating",
         "rawType": "int64",
         "type": "integer"
        },
        {
         "name": "timestamp",
         "rawType": "int64",
         "type": "integer"
        }
       ],
       "ref": "c3e29e70-3e08-4381-9898-dbad835d5fd7",
       "rows": [
        [
         "0",
         "196",
         "242",
         "3",
         "881250949"
        ],
        [
         "1",
         "186",
         "302",
         "3",
         "891717742"
        ],
        [
         "2",
         "22",
         "377",
         "1",
         "878887116"
        ],
        [
         "3",
         "244",
         "51",
         "2",
         "880606923"
        ],
        [
         "4",
         "166",
         "346",
         "1",
         "886397596"
        ]
       ],
       "shape": {
        "columns": 4,
        "rows": 5
       }
      },
      "text/html": [
       "<div>\n",
       "<style scoped>\n",
       "    .dataframe tbody tr th:only-of-type {\n",
       "        vertical-align: middle;\n",
       "    }\n",
       "\n",
       "    .dataframe tbody tr th {\n",
       "        vertical-align: top;\n",
       "    }\n",
       "\n",
       "    .dataframe thead th {\n",
       "        text-align: right;\n",
       "    }\n",
       "</style>\n",
       "<table border=\"1\" class=\"dataframe\">\n",
       "  <thead>\n",
       "    <tr style=\"text-align: right;\">\n",
       "      <th></th>\n",
       "      <th>user_id</th>\n",
       "      <th>item_id</th>\n",
       "      <th>rating</th>\n",
       "      <th>timestamp</th>\n",
       "    </tr>\n",
       "  </thead>\n",
       "  <tbody>\n",
       "    <tr>\n",
       "      <th>0</th>\n",
       "      <td>196</td>\n",
       "      <td>242</td>\n",
       "      <td>3</td>\n",
       "      <td>881250949</td>\n",
       "    </tr>\n",
       "    <tr>\n",
       "      <th>1</th>\n",
       "      <td>186</td>\n",
       "      <td>302</td>\n",
       "      <td>3</td>\n",
       "      <td>891717742</td>\n",
       "    </tr>\n",
       "    <tr>\n",
       "      <th>2</th>\n",
       "      <td>22</td>\n",
       "      <td>377</td>\n",
       "      <td>1</td>\n",
       "      <td>878887116</td>\n",
       "    </tr>\n",
       "    <tr>\n",
       "      <th>3</th>\n",
       "      <td>244</td>\n",
       "      <td>51</td>\n",
       "      <td>2</td>\n",
       "      <td>880606923</td>\n",
       "    </tr>\n",
       "    <tr>\n",
       "      <th>4</th>\n",
       "      <td>166</td>\n",
       "      <td>346</td>\n",
       "      <td>1</td>\n",
       "      <td>886397596</td>\n",
       "    </tr>\n",
       "  </tbody>\n",
       "</table>\n",
       "</div>"
      ],
      "text/plain": [
       "   user_id  item_id  rating  timestamp\n",
       "0      196      242       3  881250949\n",
       "1      186      302       3  891717742\n",
       "2       22      377       1  878887116\n",
       "3      244       51       2  880606923\n",
       "4      166      346       1  886397596"
      ]
     },
     "execution_count": 4,
     "metadata": {},
     "output_type": "execute_result"
    }
   ],
   "source": [
    "import pandas as pd\n",
    "\n",
    "data = pd.read_csv('../data/ml-100k/u.data', sep='\\t', names=['user_id', 'item_id', 'rating', 'timestamp'])\n",
    "data.head()"
   ]
  },
  {
   "cell_type": "code",
   "execution_count": 5,
   "metadata": {},
   "outputs": [
    {
     "data": {
      "application/vnd.microsoft.datawrangler.viewer.v0+json": {
       "columns": [
        {
         "name": "index",
         "rawType": "int64",
         "type": "integer"
        },
        {
         "name": "user_id",
         "rawType": "int64",
         "type": "integer"
        },
        {
         "name": "item_id",
         "rawType": "int64",
         "type": "integer"
        },
        {
         "name": "rating",
         "rawType": "int64",
         "type": "integer"
        },
        {
         "name": "user_idx",
         "rawType": "int64",
         "type": "integer"
        },
        {
         "name": "item_idx",
         "rawType": "int64",
         "type": "integer"
        }
       ],
       "ref": "b940cebc-fe68-489c-98c0-484d270798b3",
       "rows": [
        [
         "75220",
         "807",
         "1411",
         "1",
         "804",
         "901"
        ],
        [
         "48955",
         "474",
         "659",
         "5",
         "467",
         "488"
        ],
        [
         "44966",
         "463",
         "268",
         "4",
         "465",
         "139"
        ],
        [
         "13568",
         "139",
         "286",
         "4",
         "321",
         "289"
        ],
        [
         "92727",
         "621",
         "751",
         "4",
         "618",
         "261"
        ]
       ],
       "shape": {
        "columns": 5,
        "rows": 5
       }
      },
      "text/html": [
       "<div>\n",
       "<style scoped>\n",
       "    .dataframe tbody tr th:only-of-type {\n",
       "        vertical-align: middle;\n",
       "    }\n",
       "\n",
       "    .dataframe tbody tr th {\n",
       "        vertical-align: top;\n",
       "    }\n",
       "\n",
       "    .dataframe thead th {\n",
       "        text-align: right;\n",
       "    }\n",
       "</style>\n",
       "<table border=\"1\" class=\"dataframe\">\n",
       "  <thead>\n",
       "    <tr style=\"text-align: right;\">\n",
       "      <th></th>\n",
       "      <th>user_id</th>\n",
       "      <th>item_id</th>\n",
       "      <th>rating</th>\n",
       "      <th>user_idx</th>\n",
       "      <th>item_idx</th>\n",
       "    </tr>\n",
       "  </thead>\n",
       "  <tbody>\n",
       "    <tr>\n",
       "      <th>75220</th>\n",
       "      <td>807</td>\n",
       "      <td>1411</td>\n",
       "      <td>1</td>\n",
       "      <td>804</td>\n",
       "      <td>901</td>\n",
       "    </tr>\n",
       "    <tr>\n",
       "      <th>48955</th>\n",
       "      <td>474</td>\n",
       "      <td>659</td>\n",
       "      <td>5</td>\n",
       "      <td>467</td>\n",
       "      <td>488</td>\n",
       "    </tr>\n",
       "    <tr>\n",
       "      <th>44966</th>\n",
       "      <td>463</td>\n",
       "      <td>268</td>\n",
       "      <td>4</td>\n",
       "      <td>465</td>\n",
       "      <td>139</td>\n",
       "    </tr>\n",
       "    <tr>\n",
       "      <th>13568</th>\n",
       "      <td>139</td>\n",
       "      <td>286</td>\n",
       "      <td>4</td>\n",
       "      <td>321</td>\n",
       "      <td>289</td>\n",
       "    </tr>\n",
       "    <tr>\n",
       "      <th>92727</th>\n",
       "      <td>621</td>\n",
       "      <td>751</td>\n",
       "      <td>4</td>\n",
       "      <td>618</td>\n",
       "      <td>261</td>\n",
       "    </tr>\n",
       "  </tbody>\n",
       "</table>\n",
       "</div>"
      ],
      "text/plain": [
       "       user_id  item_id  rating  user_idx  item_idx\n",
       "75220      807     1411       1       804       901\n",
       "48955      474      659       5       467       488\n",
       "44966      463      268       4       465       139\n",
       "13568      139      286       4       321       289\n",
       "92727      621      751       4       618       261"
      ]
     },
     "execution_count": 5,
     "metadata": {},
     "output_type": "execute_result"
    }
   ],
   "source": [
    "from sklearn.model_selection import train_test_split\n",
    "\n",
    "data = data[['user_id', 'item_id', 'rating']]\n",
    "users = data['user_id'].unique()\n",
    "items = data['item_id'].unique()\n",
    "user_to_index = {u: idx for idx, u in enumerate(users)}\n",
    "item_to_index = {i: idx for idx, i in enumerate(items)}\n",
    "data['user_idx'] = data['user_id'].map(user_to_index)\n",
    "data['item_idx'] = data['item_id'].map(item_to_index)\n",
    "\n",
    "train_data, test_data = train_test_split(data, test_size=0.2, random_state=42)\n",
    "train_data.head()"
   ]
  },
  {
   "cell_type": "code",
   "execution_count": 6,
   "metadata": {},
   "outputs": [
    {
     "ename": "AttributeError",
     "evalue": "'LFM' object has no attribute 'reg'",
     "output_type": "error",
     "traceback": [
      "\u001b[31m---------------------------------------------------------------------------\u001b[39m",
      "\u001b[31mAttributeError\u001b[39m                            Traceback (most recent call last)",
      "\u001b[36mCell\u001b[39m\u001b[36m \u001b[39m\u001b[32mIn[6]\u001b[39m\u001b[32m, line 9\u001b[39m\n\u001b[32m      6\u001b[39m model = LFM(n_users=n_users, n_items=n_items, n_factors=\u001b[32m20\u001b[39m, lr=\u001b[32m0.01\u001b[39m, reg_coef=\u001b[32m0.02\u001b[39m, n_epochs=\u001b[32m20\u001b[39m)\n\u001b[32m      8\u001b[39m start1 = time.time()\n\u001b[32m----> \u001b[39m\u001b[32m9\u001b[39m \u001b[43mmodel\u001b[49m\u001b[43m.\u001b[49m\u001b[43mfit\u001b[49m\u001b[43m(\u001b[49m\u001b[43mtrain_data\u001b[49m\u001b[43m)\u001b[49m\n\u001b[32m     10\u001b[39m end1 = time.time()\n\u001b[32m     12\u001b[39m rmse, mae = model.evaluate(test_data)\n",
      "\u001b[36mFile \u001b[39m\u001b[32md:\\ITMO\\АМО\\2 семестр\\5 лаба\\source\\LFM.py:44\u001b[39m, in \u001b[36mLFM.fit\u001b[39m\u001b[34m(self, data)\u001b[39m\n\u001b[32m     42\u001b[39m \u001b[38;5;28mself\u001b[39m.user_factors[u] += \u001b[38;5;28mself\u001b[39m.lr * (error * \u001b[38;5;28mself\u001b[39m.item_factors[i] - \u001b[38;5;28mself\u001b[39m.reg_coef * \u001b[38;5;28mself\u001b[39m.user_factors[u])\n\u001b[32m     43\u001b[39m \u001b[38;5;28mself\u001b[39m.item_factors[i] += \u001b[38;5;28mself\u001b[39m.lr * (error * \u001b[38;5;28mself\u001b[39m.user_factors[u] - \u001b[38;5;28mself\u001b[39m.reg_coef * \u001b[38;5;28mself\u001b[39m.item_factors[i])\n\u001b[32m---> \u001b[39m\u001b[32m44\u001b[39m \u001b[38;5;28mself\u001b[39m.user_means[u] += \u001b[38;5;28mself\u001b[39m.lr * (error - \u001b[38;5;28;43mself\u001b[39;49m\u001b[43m.\u001b[49m\u001b[43mreg\u001b[49m * \u001b[38;5;28mself\u001b[39m.user_means[u])\n\u001b[32m     45\u001b[39m \u001b[38;5;28mself\u001b[39m.item_means[i] += \u001b[38;5;28mself\u001b[39m.lr * (error - \u001b[38;5;28mself\u001b[39m.reg * \u001b[38;5;28mself\u001b[39m.item_means[i])\n",
      "\u001b[31mAttributeError\u001b[39m: 'LFM' object has no attribute 'reg'"
     ]
    }
   ],
   "source": [
    "import time\n",
    "from LFM import LFM\n",
    "\n",
    "n_users = len(users)\n",
    "n_items = len(items)\n",
    "model = LFM(n_users=n_users, n_items=n_items, n_factors=20, lr=0.01, reg_coef=0.02, n_epochs=20)\n",
    "\n",
    "start1 = time.time()\n",
    "model.fit(train_data)\n",
    "end1 = time.time()\n",
    "\n",
    "rmse, mae = model.evaluate(test_data)\n",
    "print(f\"RMSE кастомного алгоритма: {rmse:.3f}\")\n",
    "print(f\"MAE кастомного алгоритма: {mae:.3f}\")\n",
    "print(f\"Время обучения кастомного алгоритма: {end1 - start1:.3f} с\")"
   ]
  },
  {
   "cell_type": "code",
   "execution_count": 15,
   "metadata": {},
   "outputs": [
    {
     "name": "stdout",
     "output_type": "stream",
     "text": [
      "RMSE библиотечного алгоритма: 0.940\n",
      "MAE библиотечного алгоритма: 0.737\n",
      "Время обучения библиотечного алгоритма: 0.771 с\n"
     ]
    }
   ],
   "source": [
    "import numpy as np\n",
    "from sklearn.metrics import mean_squared_error\n",
    "from sklearn.metrics import mean_absolute_error\n",
    "from surprise import Dataset, Reader, SVD\n",
    "from surprise.model_selection import train_test_split\n",
    "\n",
    "\n",
    "reader = Reader(rating_scale=(1, 5))\n",
    "surprise_data = Dataset.load_builtin('ml-100k', prompt=False)\n",
    "trainset, testset = train_test_split(surprise_data, test_size=0.2, random_state=42)\n",
    "\n",
    "model_surprise = SVD(n_factors=20, lr_all=0.01, reg_all=0.02, n_epochs=20)\n",
    "start2 = time.time()\n",
    "model_surprise.fit(trainset)\n",
    "end2 = time.time()\n",
    "\n",
    "predictions = model_surprise.test(testset)\n",
    "rmse_surprise = np.sqrt(mean_squared_error([p.r_ui for p in predictions], [p.est for p in predictions]))\n",
    "mae_surprise = mean_absolute_error([p.r_ui for p in predictions], [p.est for p in predictions])\n",
    "print(f\"RMSE библиотечного алгоритма: {rmse_surprise:.3f}\")\n",
    "print(f\"MAE библиотечного алгоритма: {mae_surprise:.3f}\")\n",
    "print(f\"Время обучения библиотечного алгоритма: {end2 - start2:.3f} с\")"
   ]
  }
 ],
 "metadata": {
  "kernelspec": {
   "display_name": "Python 3",
   "language": "python",
   "name": "python3"
  },
  "language_info": {
   "codemirror_mode": {
    "name": "ipython",
    "version": 3
   },
   "file_extension": ".py",
   "mimetype": "text/x-python",
   "name": "python",
   "nbconvert_exporter": "python",
   "pygments_lexer": "ipython3",
   "version": "3.11.9"
  }
 },
 "nbformat": 4,
 "nbformat_minor": 2
}
