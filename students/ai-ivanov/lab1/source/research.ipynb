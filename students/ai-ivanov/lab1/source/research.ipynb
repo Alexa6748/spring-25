{
 "cells": [
  {
   "cell_type": "code",
   "execution_count": 1,
   "metadata": {},
   "outputs": [
    {
     "data": {
      "text/html": [
       "<div>\n",
       "<style scoped>\n",
       "    .dataframe tbody tr th:only-of-type {\n",
       "        vertical-align: middle;\n",
       "    }\n",
       "\n",
       "    .dataframe tbody tr th {\n",
       "        vertical-align: top;\n",
       "    }\n",
       "\n",
       "    .dataframe thead th {\n",
       "        text-align: right;\n",
       "    }\n",
       "</style>\n",
       "<table border=\"1\" class=\"dataframe\">\n",
       "  <thead>\n",
       "    <tr style=\"text-align: right;\">\n",
       "      <th></th>\n",
       "      <th>id</th>\n",
       "      <th>name</th>\n",
       "      <th>host_id</th>\n",
       "      <th>host_name</th>\n",
       "      <th>neighbourhood_group</th>\n",
       "      <th>neighbourhood</th>\n",
       "      <th>latitude</th>\n",
       "      <th>longitude</th>\n",
       "      <th>room_type</th>\n",
       "      <th>price</th>\n",
       "      <th>minimum_nights</th>\n",
       "      <th>number_of_reviews</th>\n",
       "      <th>last_review</th>\n",
       "      <th>reviews_per_month</th>\n",
       "      <th>calculated_host_listings_count</th>\n",
       "      <th>availability_365</th>\n",
       "    </tr>\n",
       "  </thead>\n",
       "  <tbody>\n",
       "    <tr>\n",
       "      <th>0</th>\n",
       "      <td>2539</td>\n",
       "      <td>Clean &amp; quiet apt home by the park</td>\n",
       "      <td>2787</td>\n",
       "      <td>John</td>\n",
       "      <td>Brooklyn</td>\n",
       "      <td>Kensington</td>\n",
       "      <td>40.64749</td>\n",
       "      <td>-73.97237</td>\n",
       "      <td>Private room</td>\n",
       "      <td>149</td>\n",
       "      <td>1</td>\n",
       "      <td>9</td>\n",
       "      <td>2018-10-19</td>\n",
       "      <td>0.21</td>\n",
       "      <td>6</td>\n",
       "      <td>365</td>\n",
       "    </tr>\n",
       "    <tr>\n",
       "      <th>1</th>\n",
       "      <td>2595</td>\n",
       "      <td>Skylit Midtown Castle</td>\n",
       "      <td>2845</td>\n",
       "      <td>Jennifer</td>\n",
       "      <td>Manhattan</td>\n",
       "      <td>Midtown</td>\n",
       "      <td>40.75362</td>\n",
       "      <td>-73.98377</td>\n",
       "      <td>Entire home/apt</td>\n",
       "      <td>225</td>\n",
       "      <td>1</td>\n",
       "      <td>45</td>\n",
       "      <td>2019-05-21</td>\n",
       "      <td>0.38</td>\n",
       "      <td>2</td>\n",
       "      <td>355</td>\n",
       "    </tr>\n",
       "    <tr>\n",
       "      <th>2</th>\n",
       "      <td>3647</td>\n",
       "      <td>THE VILLAGE OF HARLEM....NEW YORK !</td>\n",
       "      <td>4632</td>\n",
       "      <td>Elisabeth</td>\n",
       "      <td>Manhattan</td>\n",
       "      <td>Harlem</td>\n",
       "      <td>40.80902</td>\n",
       "      <td>-73.94190</td>\n",
       "      <td>Private room</td>\n",
       "      <td>150</td>\n",
       "      <td>3</td>\n",
       "      <td>0</td>\n",
       "      <td>NaN</td>\n",
       "      <td>NaN</td>\n",
       "      <td>1</td>\n",
       "      <td>365</td>\n",
       "    </tr>\n",
       "    <tr>\n",
       "      <th>3</th>\n",
       "      <td>3831</td>\n",
       "      <td>Cozy Entire Floor of Brownstone</td>\n",
       "      <td>4869</td>\n",
       "      <td>LisaRoxanne</td>\n",
       "      <td>Brooklyn</td>\n",
       "      <td>Clinton Hill</td>\n",
       "      <td>40.68514</td>\n",
       "      <td>-73.95976</td>\n",
       "      <td>Entire home/apt</td>\n",
       "      <td>89</td>\n",
       "      <td>1</td>\n",
       "      <td>270</td>\n",
       "      <td>2019-07-05</td>\n",
       "      <td>4.64</td>\n",
       "      <td>1</td>\n",
       "      <td>194</td>\n",
       "    </tr>\n",
       "    <tr>\n",
       "      <th>4</th>\n",
       "      <td>5022</td>\n",
       "      <td>Entire Apt: Spacious Studio/Loft by central park</td>\n",
       "      <td>7192</td>\n",
       "      <td>Laura</td>\n",
       "      <td>Manhattan</td>\n",
       "      <td>East Harlem</td>\n",
       "      <td>40.79851</td>\n",
       "      <td>-73.94399</td>\n",
       "      <td>Entire home/apt</td>\n",
       "      <td>80</td>\n",
       "      <td>10</td>\n",
       "      <td>9</td>\n",
       "      <td>2018-11-19</td>\n",
       "      <td>0.10</td>\n",
       "      <td>1</td>\n",
       "      <td>0</td>\n",
       "    </tr>\n",
       "  </tbody>\n",
       "</table>\n",
       "</div>"
      ],
      "text/plain": [
       "     id                                              name  host_id  \\\n",
       "0  2539                Clean & quiet apt home by the park     2787   \n",
       "1  2595                             Skylit Midtown Castle     2845   \n",
       "2  3647               THE VILLAGE OF HARLEM....NEW YORK !     4632   \n",
       "3  3831                   Cozy Entire Floor of Brownstone     4869   \n",
       "4  5022  Entire Apt: Spacious Studio/Loft by central park     7192   \n",
       "\n",
       "     host_name neighbourhood_group neighbourhood  latitude  longitude  \\\n",
       "0         John            Brooklyn    Kensington  40.64749  -73.97237   \n",
       "1     Jennifer           Manhattan       Midtown  40.75362  -73.98377   \n",
       "2    Elisabeth           Manhattan        Harlem  40.80902  -73.94190   \n",
       "3  LisaRoxanne            Brooklyn  Clinton Hill  40.68514  -73.95976   \n",
       "4        Laura           Manhattan   East Harlem  40.79851  -73.94399   \n",
       "\n",
       "         room_type  price  minimum_nights  number_of_reviews last_review  \\\n",
       "0     Private room    149               1                  9  2018-10-19   \n",
       "1  Entire home/apt    225               1                 45  2019-05-21   \n",
       "2     Private room    150               3                  0         NaN   \n",
       "3  Entire home/apt     89               1                270  2019-07-05   \n",
       "4  Entire home/apt     80              10                  9  2018-11-19   \n",
       "\n",
       "   reviews_per_month  calculated_host_listings_count  availability_365  \n",
       "0               0.21                               6               365  \n",
       "1               0.38                               2               355  \n",
       "2                NaN                               1               365  \n",
       "3               4.64                               1               194  \n",
       "4               0.10                               1                 0  "
      ]
     },
     "execution_count": 1,
     "metadata": {},
     "output_type": "execute_result"
    }
   ],
   "source": [
    "import pandas as pd\n",
    "\n",
    "\n",
    "df = pd.read_csv(\"data/AB_NYC_2019.csv\")\n",
    "\n",
    "df.head()"
   ]
  },
  {
   "cell_type": "code",
   "execution_count": 2,
   "metadata": {},
   "outputs": [
    {
     "data": {
      "text/plain": [
       "room_type\n",
       "Entire home/apt    25409\n",
       "Private room       22326\n",
       "Shared room         1160\n",
       "Name: count, dtype: int64"
      ]
     },
     "execution_count": 2,
     "metadata": {},
     "output_type": "execute_result"
    }
   ],
   "source": [
    "df[\"room_type\"].value_counts()"
   ]
  },
  {
   "cell_type": "code",
   "execution_count": 3,
   "metadata": {},
   "outputs": [
    {
     "name": "stdout",
     "output_type": "stream",
     "text": [
      "<class 'pandas.core.frame.DataFrame'>\n",
      "RangeIndex: 48895 entries, 0 to 48894\n",
      "Data columns (total 11 columns):\n",
      " #   Column                          Non-Null Count  Dtype  \n",
      "---  ------                          --------------  -----  \n",
      " 0   neighbourhood_group             48895 non-null  object \n",
      " 1   latitude                        48895 non-null  float64\n",
      " 2   longitude                       48895 non-null  float64\n",
      " 3   room_type                       48895 non-null  object \n",
      " 4   price                           48895 non-null  int64  \n",
      " 5   minimum_nights                  48895 non-null  int64  \n",
      " 6   number_of_reviews               48895 non-null  int64  \n",
      " 7   last_review                     38843 non-null  object \n",
      " 8   reviews_per_month               38843 non-null  float64\n",
      " 9   calculated_host_listings_count  48895 non-null  int64  \n",
      " 10  availability_365                48895 non-null  int64  \n",
      "dtypes: float64(3), int64(5), object(3)\n",
      "memory usage: 4.1+ MB\n"
     ]
    }
   ],
   "source": [
    "df = df.drop(\n",
    "    columns=[\n",
    "        \"id\",\n",
    "        \"name\",\n",
    "        \"host_id\",\n",
    "        \"host_name\",\n",
    "        \"neighbourhood\",\n",
    "    ]\n",
    ")\n",
    "\n",
    "df.info()"
   ]
  },
  {
   "cell_type": "code",
   "execution_count": 4,
   "metadata": {},
   "outputs": [
    {
     "name": "stdout",
     "output_type": "stream",
     "text": [
      "Размер обучающей выборки: (39116, 13)\n",
      "Размер тестовой выборки: (9779, 13)\n"
     ]
    }
   ],
   "source": [
    "from sklearn.preprocessing import LabelEncoder, StandardScaler\n",
    "from sklearn.model_selection import train_test_split\n",
    "\n",
    "# Загрузка данных\n",
    "df = pd.read_csv(\"data/AB_NYC_2019.csv\")\n",
    "\n",
    "# Создаем копию для предобработки\n",
    "df_prep = df.copy()\n",
    "\n",
    "# Кодируем категориальные переменные\n",
    "le = LabelEncoder()\n",
    "df_prep[\"room_type\"] = le.fit_transform(df_prep[\"room_type\"])\n",
    "\n",
    "# Заполняем пропущенные значения\n",
    "numeric_columns = [\n",
    "    \"price\",\n",
    "    \"minimum_nights\",\n",
    "    \"number_of_reviews\",\n",
    "    \"reviews_per_month\",\n",
    "    \"calculated_host_listings_count\",\n",
    "    \"availability_365\",\n",
    "    \"latitude\",\n",
    "    \"longitude\",\n",
    "]\n",
    "df_prep[numeric_columns] = df_prep[numeric_columns].fillna(\n",
    "    df_prep[numeric_columns].mean()\n",
    ")\n",
    "\n",
    "# Масштабируем числовые признаки\n",
    "scaler = StandardScaler()\n",
    "df_prep[numeric_columns] = scaler.fit_transform(df_prep[numeric_columns])\n",
    "\n",
    "# One-hot encoding для neighbourhood_group using pandas\n",
    "neighbourhood_group_encoded = pd.get_dummies(\n",
    "    df_prep[\"neighbourhood_group\"], prefix=\"neighbourhood_group\"\n",
    ")\n",
    "\n",
    "# Удаляем оригинальный столбец и добавляем закодированные\n",
    "df_prep = pd.concat(\n",
    "    [df_prep.drop(\"neighbourhood_group\", axis=1), neighbourhood_group_encoded], axis=1\n",
    ")\n",
    "\n",
    "# Подготовка признаков и целевой переменной\n",
    "X = df_prep.drop(\n",
    "    [\"room_type\", \"id\", \"name\", \"host_id\", \"host_name\", \"neighbourhood\", \"last_review\"],\n",
    "    axis=1,\n",
    ")\n",
    "y = df_prep[\"room_type\"]\n",
    "X = X.to_numpy()\n",
    "y = y.to_numpy()\n",
    "\n",
    "# Разделение на обучающую и тестовую выборки\n",
    "X_train, X_test, y_train, y_test = train_test_split(\n",
    "    X, y, test_size=0.2, random_state=42\n",
    ")\n",
    "\n",
    "print(\"Размер обучающей выборки:\", X_train.shape)\n",
    "print(\"Размер тестовой выборки:\", X_test.shape)"
   ]
  },
  {
   "cell_type": "code",
   "execution_count": 5,
   "metadata": {},
   "outputs": [
    {
     "data": {
      "text/plain": [
       "<random_forest.RandomForestClassifier at 0x11fd786e0>"
      ]
     },
     "execution_count": 5,
     "metadata": {},
     "output_type": "execute_result"
    }
   ],
   "source": [
    "from random_forest import RandomForestClassifier\n",
    "\n",
    "\n",
    "cls = RandomForestClassifier(n_estimators=100, bootstrap_size=0.5, min_oob_score=0.5)\n",
    "cls.fit(X_train, y_train)"
   ]
  },
  {
   "cell_type": "code",
   "execution_count": 6,
   "metadata": {},
   "outputs": [
    {
     "data": {
      "text/plain": [
       "array([1, 1, 0, ..., 1, 0, 1], shape=(9779,))"
      ]
     },
     "execution_count": 6,
     "metadata": {},
     "output_type": "execute_result"
    }
   ],
   "source": [
    "cls.predict(X_test)"
   ]
  },
  {
   "cell_type": "code",
   "execution_count": 7,
   "metadata": {},
   "outputs": [
    {
     "name": "stdout",
     "output_type": "stream",
     "text": [
      "Точность модели: 0.8550\n",
      "\n",
      "Отчет о классификации:\n",
      "              precision    recall  f1-score   support\n",
      "\n",
      "           0       0.87      0.89      0.88      5029\n",
      "           1       0.84      0.85      0.85      4509\n",
      "           2       0.87      0.28      0.42       241\n",
      "\n",
      "    accuracy                           0.85      9779\n",
      "   macro avg       0.86      0.67      0.71      9779\n",
      "weighted avg       0.86      0.85      0.85      9779\n",
      "\n"
     ]
    }
   ],
   "source": [
    "from sklearn.metrics import accuracy_score, classification_report, confusion_matrix\n",
    "\n",
    "\n",
    "# Получаем предсказания\n",
    "y_pred = cls.predict(X_test)\n",
    "\n",
    "# Вычисляем точность\n",
    "accuracy = accuracy_score(y_test, y_pred)\n",
    "print(f\"Точность модели: {accuracy:.4f}\")\n",
    "\n",
    "# Выводим подробный отчет о классификации\n",
    "print(\"\\nОтчет о классификации:\")\n",
    "print(classification_report(y_test, y_pred))"
   ]
  },
  {
   "cell_type": "code",
   "execution_count": 12,
   "metadata": {},
   "outputs": [
    {
     "name": "stdout",
     "output_type": "stream",
     "text": [
      "n_estimators: 50, bootstrap_size: 0.5, min_oob_score: 0.5\n",
      "n_estimators: 50, bootstrap_size: 0.5, min_oob_score: 0.7\n",
      "n_estimators: 50, bootstrap_size: 0.7, min_oob_score: 0.5\n",
      "n_estimators: 50, bootstrap_size: 0.7, min_oob_score: 0.7\n",
      "n_estimators: 100, bootstrap_size: 0.5, min_oob_score: 0.5\n",
      "n_estimators: 100, bootstrap_size: 0.5, min_oob_score: 0.7\n",
      "n_estimators: 100, bootstrap_size: 0.7, min_oob_score: 0.5\n",
      "n_estimators: 100, bootstrap_size: 0.7, min_oob_score: 0.7\n",
      "n_estimators: 300, bootstrap_size: 0.5, min_oob_score: 0.5\n",
      "n_estimators: 300, bootstrap_size: 0.5, min_oob_score: 0.7\n",
      "n_estimators: 300, bootstrap_size: 0.7, min_oob_score: 0.5\n",
      "n_estimators: 300, bootstrap_size: 0.7, min_oob_score: 0.7\n",
      "Точность модели для разных параметров:\n",
      "\n",
      "bootstrap_size →\n",
      "bootstrap_size     0.5             0.7        \n",
      "min_oob_score      0.5     0.7     0.5     0.7\n",
      "n_estimators                                  \n",
      "50              0.8535  0.8516  0.8563  0.8541\n",
      "100             0.8581  0.8563  0.8590  0.8558\n",
      "300             0.8584  0.8571  0.8607  0.8581\n"
     ]
    }
   ],
   "source": [
    "n_estimators_values = [50, 100, 300]\n",
    "bootstrap_size_values = [0.5, 0.7]\n",
    "min_oob_score_values = [0.5, 0.7]\n",
    "\n",
    "# Создаем список для хранения результатов\n",
    "results = []\n",
    "\n",
    "# Проводим эксперименты\n",
    "for n_est in n_estimators_values:\n",
    "    for bs_size in bootstrap_size_values:\n",
    "        for min_oob_score in min_oob_score_values:\n",
    "            print(f\"n_estimators: {n_est}, bootstrap_size: {bs_size}, min_oob_score: {min_oob_score}\")\n",
    "            # Обучаем модель с текущими параметрами\n",
    "            clf = RandomForestClassifier(n_estimators=n_est, bootstrap_size=bs_size, min_oob_score=min_oob_score)\n",
    "            clf.fit(X_train, y_train)\n",
    "\n",
    "            # Получаем предсказания\n",
    "            y_pred = clf.predict(X_test)\n",
    "\n",
    "            # Вычисляем метрики\n",
    "            accuracy = accuracy_score(y_test, y_pred)\n",
    "\n",
    "            # Сохраняем результаты\n",
    "            results.append(\n",
    "                {\"n_estimators\": n_est, \"bootstrap_size\": bs_size, \"min_oob_score\": min_oob_score, \"accuracy\": accuracy}\n",
    "            )\n",
    "\n",
    "# Создаем DataFrame с результатами\n",
    "results_df = pd.DataFrame(results)\n",
    "\n",
    "# Преобразуем таблицу в более читаемый формат\n",
    "pivot_table = results_df.pivot(\n",
    "    index=\"n_estimators\", columns=[\"bootstrap_size\", \"min_oob_score\"], values=\"accuracy\"\n",
    ")\n",
    "\n",
    "# Выводим таблицу с форматированием\n",
    "print(\"Точность модели для разных параметров:\")\n",
    "print(\"\\nbootstrap_size →\")\n",
    "print(pivot_table.round(4))"
   ]
  },
  {
   "cell_type": "code",
   "execution_count": 13,
   "metadata": {},
   "outputs": [
    {
     "name": "stdout",
     "output_type": "stream",
     "text": [
      "Точность модели sklearn: 0.8593\n",
      "\n",
      "Отчет о классификации sklearn:\n",
      "              precision    recall  f1-score   support\n",
      "\n",
      "           0       0.87      0.89      0.88      5029\n",
      "           1       0.85      0.85      0.85      4509\n",
      "           2       0.92      0.25      0.39       241\n",
      "\n",
      "    accuracy                           0.86      9779\n",
      "   macro avg       0.88      0.67      0.71      9779\n",
      "weighted avg       0.86      0.86      0.85      9779\n",
      "\n"
     ]
    }
   ],
   "source": [
    "from sklearn.ensemble import RandomForestClassifier as SklearnRF\n",
    "\n",
    "# Создаем и обучаем модель из sklearn\n",
    "sklearn_clf = SklearnRF(n_estimators=100, max_samples=0.5, random_state=42)\n",
    "sklearn_clf.fit(X_train, y_train)\n",
    "\n",
    "# Получаем предсказания\n",
    "y_pred_sklearn = sklearn_clf.predict(X_test)\n",
    "\n",
    "# Вычисляем точность\n",
    "accuracy_sklearn = accuracy_score(y_test, y_pred_sklearn)\n",
    "print(f\"Точность модели sklearn: {accuracy_sklearn:.4f}\")\n",
    "\n",
    "# Выводим подробный отчет о классификации\n",
    "print(\"\\nОтчет о классификации sklearn:\")\n",
    "print(classification_report(y_test, y_pred_sklearn))"
   ]
  },
  {
   "cell_type": "code",
   "execution_count": null,
   "metadata": {},
   "outputs": [
    {
     "name": "stdout",
     "output_type": "stream",
     "text": [
      "Сравнение реализаций Random Forest:\n",
      "--------------------------------------------------\n"
     ]
    }
   ],
   "source": [
    "from sklearn.model_selection import cross_val_score\n",
    "import time\n",
    "import numpy as np\n",
    "\n",
    "\n",
    "# Параметры\n",
    "n_estimators = 100\n",
    "bootstrap_size = 0.5\n",
    "n_folds = 5\n",
    "\n",
    "# Сравнение времени обучения и качества\n",
    "print(\"Сравнение реализаций Random Forest:\")\n",
    "print(\"-\" * 50)\n",
    "\n",
    "# Наша реализация\n",
    "start_time = time.time()\n",
    "our_scores = []\n",
    "for fold in range(n_folds):\n",
    "    # Создаем и обучаем модель\n",
    "    our_clf = RandomForestClassifier(\n",
    "        n_estimators=n_estimators, bootstrap_size=bootstrap_size\n",
    "    )\n",
    "    our_clf.fit(X_train, y_train)\n",
    "    our_scores.append(accuracy_score(y_test, our_clf.predict(X_test)))\n",
    "our_time = time.time() - start_time\n",
    "\n",
    "print(\"Наша реализация:\")\n",
    "print(f\"Среднее качество: {np.mean(our_scores):.4f} ± {np.std(our_scores):.4f}\")\n",
    "print(f\"Время обучения: {our_time:.2f} секунд\")\n",
    "\n",
    "# Реализация sklearn\n",
    "start_time = time.time()\n",
    "sklearn_clf = SklearnRF(\n",
    "    n_estimators=n_estimators, max_samples=bootstrap_size, random_state=42\n",
    ")\n",
    "sklearn_scores = cross_val_score(sklearn_clf, X_train, y_train, cv=n_folds)\n",
    "sklearn_time = time.time() - start_time\n",
    "\n",
    "print(\"\\nSklearn реализация:\")\n",
    "print(f\"Среднее качество: {np.mean(sklearn_scores):.4f} ± {np.std(sklearn_scores):.4f}\")\n",
    "print(f\"Время обучения: {sklearn_time:.2f} секунд\")"
   ]
  }
 ],
 "metadata": {
  "kernelspec": {
   "display_name": ".venv",
   "language": "python",
   "name": "python3"
  },
  "language_info": {
   "codemirror_mode": {
    "name": "ipython",
    "version": 3
   },
   "file_extension": ".py",
   "mimetype": "text/x-python",
   "name": "python",
   "nbconvert_exporter": "python",
   "pygments_lexer": "ipython3",
   "version": "3.13.2"
  }
 },
 "nbformat": 4,
 "nbformat_minor": 2
}
