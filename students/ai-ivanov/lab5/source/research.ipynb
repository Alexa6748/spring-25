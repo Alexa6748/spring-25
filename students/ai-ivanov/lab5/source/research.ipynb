{
 "cells": [
  {
   "cell_type": "code",
   "execution_count": 1,
   "metadata": {},
   "outputs": [
    {
     "name": "stderr",
     "output_type": "stream",
     "text": [
      "/var/folders/4p/dl7135912qnd6kpg_p9nlm7h0000gn/T/ipykernel_14600/3705107979.py:6: DtypeWarning: Columns (0) have mixed types. Specify dtype option on import or set low_memory=False.\n",
      "  users_df = pd.read_csv('data/Users.csv', sep=';')\n"
     ]
    }
   ],
   "source": [
    "import pandas as pd\n",
    "\n",
    "\n",
    "ratings_df = pd.read_csv(\"data/Ratings.csv\", sep=\";\")\n",
    "books_df = pd.read_csv(\"data/Books.csv\", sep=\";\")\n",
    "users_df = pd.read_csv(\"data/Users.csv\", sep=\";\")\n",
    "\n",
    "# Заменяем нечисловые значения на NaN и конвертируем в Int32\n",
    "users_df[\"User-ID\"] = pd.to_numeric(users_df[\"User-ID\"], errors=\"coerce\").astype(\n",
    "    \"Int32\"\n",
    ")\n",
    "users_df[\"Age\"] = pd.to_numeric(users_df[\"Age\"], errors=\"coerce\").astype(\"Int32\")"
   ]
  },
  {
   "cell_type": "code",
   "execution_count": 10,
   "metadata": {},
   "outputs": [
    {
     "data": {
      "text/html": [
       "<div>\n",
       "<style scoped>\n",
       "    .dataframe tbody tr th:only-of-type {\n",
       "        vertical-align: middle;\n",
       "    }\n",
       "\n",
       "    .dataframe tbody tr th {\n",
       "        vertical-align: top;\n",
       "    }\n",
       "\n",
       "    .dataframe thead th {\n",
       "        text-align: right;\n",
       "    }\n",
       "</style>\n",
       "<table border=\"1\" class=\"dataframe\">\n",
       "  <thead>\n",
       "    <tr style=\"text-align: right;\">\n",
       "      <th></th>\n",
       "      <th>User-ID</th>\n",
       "      <th>ISBN</th>\n",
       "      <th>Rating</th>\n",
       "    </tr>\n",
       "  </thead>\n",
       "  <tbody>\n",
       "    <tr>\n",
       "      <th>0</th>\n",
       "      <td>276725</td>\n",
       "      <td>034545104X</td>\n",
       "      <td>0</td>\n",
       "    </tr>\n",
       "    <tr>\n",
       "      <th>1</th>\n",
       "      <td>276726</td>\n",
       "      <td>0155061224</td>\n",
       "      <td>5</td>\n",
       "    </tr>\n",
       "    <tr>\n",
       "      <th>2</th>\n",
       "      <td>276727</td>\n",
       "      <td>0446520802</td>\n",
       "      <td>0</td>\n",
       "    </tr>\n",
       "    <tr>\n",
       "      <th>3</th>\n",
       "      <td>276729</td>\n",
       "      <td>052165615X</td>\n",
       "      <td>3</td>\n",
       "    </tr>\n",
       "    <tr>\n",
       "      <th>4</th>\n",
       "      <td>276729</td>\n",
       "      <td>0521795028</td>\n",
       "      <td>6</td>\n",
       "    </tr>\n",
       "  </tbody>\n",
       "</table>\n",
       "</div>"
      ],
      "text/plain": [
       "   User-ID        ISBN  Rating\n",
       "0   276725  034545104X       0\n",
       "1   276726  0155061224       5\n",
       "2   276727  0446520802       0\n",
       "3   276729  052165615X       3\n",
       "4   276729  0521795028       6"
      ]
     },
     "execution_count": 10,
     "metadata": {},
     "output_type": "execute_result"
    }
   ],
   "source": [
    "ratings_df.head()"
   ]
  },
  {
   "cell_type": "code",
   "execution_count": 11,
   "metadata": {},
   "outputs": [
    {
     "data": {
      "text/html": [
       "<div>\n",
       "<style scoped>\n",
       "    .dataframe tbody tr th:only-of-type {\n",
       "        vertical-align: middle;\n",
       "    }\n",
       "\n",
       "    .dataframe tbody tr th {\n",
       "        vertical-align: top;\n",
       "    }\n",
       "\n",
       "    .dataframe thead th {\n",
       "        text-align: right;\n",
       "    }\n",
       "</style>\n",
       "<table border=\"1\" class=\"dataframe\">\n",
       "  <thead>\n",
       "    <tr style=\"text-align: right;\">\n",
       "      <th></th>\n",
       "      <th>ISBN</th>\n",
       "      <th>Title</th>\n",
       "      <th>Author</th>\n",
       "      <th>Year</th>\n",
       "      <th>Publisher</th>\n",
       "    </tr>\n",
       "  </thead>\n",
       "  <tbody>\n",
       "    <tr>\n",
       "      <th>0</th>\n",
       "      <td>0195153448</td>\n",
       "      <td>Classical Mythology</td>\n",
       "      <td>Mark P. O. Morford</td>\n",
       "      <td>2002</td>\n",
       "      <td>Oxford University Press</td>\n",
       "    </tr>\n",
       "    <tr>\n",
       "      <th>1</th>\n",
       "      <td>0002005018</td>\n",
       "      <td>Clara Callan</td>\n",
       "      <td>Richard Bruce Wright</td>\n",
       "      <td>2001</td>\n",
       "      <td>HarperFlamingo Canada</td>\n",
       "    </tr>\n",
       "    <tr>\n",
       "      <th>2</th>\n",
       "      <td>0060973129</td>\n",
       "      <td>Decision in Normandy</td>\n",
       "      <td>Carlo D'Este</td>\n",
       "      <td>1991</td>\n",
       "      <td>HarperPerennial</td>\n",
       "    </tr>\n",
       "    <tr>\n",
       "      <th>3</th>\n",
       "      <td>0374157065</td>\n",
       "      <td>Flu: The Story of the Great Influenza Pandemic...</td>\n",
       "      <td>Gina Bari Kolata</td>\n",
       "      <td>1999</td>\n",
       "      <td>Farrar Straus Giroux</td>\n",
       "    </tr>\n",
       "    <tr>\n",
       "      <th>4</th>\n",
       "      <td>0393045218</td>\n",
       "      <td>The Mummies of Urumchi</td>\n",
       "      <td>E. J. W. Barber</td>\n",
       "      <td>1999</td>\n",
       "      <td>W. W. Norton &amp; Company</td>\n",
       "    </tr>\n",
       "  </tbody>\n",
       "</table>\n",
       "</div>"
      ],
      "text/plain": [
       "         ISBN                                              Title  \\\n",
       "0  0195153448                                Classical Mythology   \n",
       "1  0002005018                                       Clara Callan   \n",
       "2  0060973129                               Decision in Normandy   \n",
       "3  0374157065  Flu: The Story of the Great Influenza Pandemic...   \n",
       "4  0393045218                             The Mummies of Urumchi   \n",
       "\n",
       "                 Author  Year                Publisher  \n",
       "0    Mark P. O. Morford  2002  Oxford University Press  \n",
       "1  Richard Bruce Wright  2001    HarperFlamingo Canada  \n",
       "2          Carlo D'Este  1991          HarperPerennial  \n",
       "3      Gina Bari Kolata  1999     Farrar Straus Giroux  \n",
       "4       E. J. W. Barber  1999   W. W. Norton & Company  "
      ]
     },
     "execution_count": 11,
     "metadata": {},
     "output_type": "execute_result"
    }
   ],
   "source": [
    "books_df.head()"
   ]
  },
  {
   "cell_type": "code",
   "execution_count": 12,
   "metadata": {},
   "outputs": [
    {
     "data": {
      "text/html": [
       "<div>\n",
       "<style scoped>\n",
       "    .dataframe tbody tr th:only-of-type {\n",
       "        vertical-align: middle;\n",
       "    }\n",
       "\n",
       "    .dataframe tbody tr th {\n",
       "        vertical-align: top;\n",
       "    }\n",
       "\n",
       "    .dataframe thead th {\n",
       "        text-align: right;\n",
       "    }\n",
       "</style>\n",
       "<table border=\"1\" class=\"dataframe\">\n",
       "  <thead>\n",
       "    <tr style=\"text-align: right;\">\n",
       "      <th></th>\n",
       "      <th>User-ID</th>\n",
       "      <th>Age</th>\n",
       "    </tr>\n",
       "  </thead>\n",
       "  <tbody>\n",
       "    <tr>\n",
       "      <th>0</th>\n",
       "      <td>1</td>\n",
       "      <td>&lt;NA&gt;</td>\n",
       "    </tr>\n",
       "    <tr>\n",
       "      <th>1</th>\n",
       "      <td>2</td>\n",
       "      <td>18</td>\n",
       "    </tr>\n",
       "    <tr>\n",
       "      <th>2</th>\n",
       "      <td>3</td>\n",
       "      <td>&lt;NA&gt;</td>\n",
       "    </tr>\n",
       "    <tr>\n",
       "      <th>3</th>\n",
       "      <td>4</td>\n",
       "      <td>17</td>\n",
       "    </tr>\n",
       "    <tr>\n",
       "      <th>4</th>\n",
       "      <td>5</td>\n",
       "      <td>&lt;NA&gt;</td>\n",
       "    </tr>\n",
       "  </tbody>\n",
       "</table>\n",
       "</div>"
      ],
      "text/plain": [
       "   User-ID   Age\n",
       "0        1  <NA>\n",
       "1        2    18\n",
       "2        3  <NA>\n",
       "3        4    17\n",
       "4        5  <NA>"
      ]
     },
     "execution_count": 12,
     "metadata": {},
     "output_type": "execute_result"
    }
   ],
   "source": [
    "users_df.head()"
   ]
  },
  {
   "cell_type": "markdown",
   "metadata": {
    "vscode": {
     "languageId": "raw"
    }
   },
   "source": [
    "## Подготовка данных для обучения модели"
   ]
  },
  {
   "cell_type": "code",
   "execution_count": 2,
   "metadata": {},
   "outputs": [
    {
     "name": "stderr",
     "output_type": "stream",
     "text": [
      "/Users/alexanderivanov/programs/python/spring-25/.venv/lib/python3.12/site-packages/tqdm/auto.py:21: TqdmWarning: IProgress not found. Please update jupyter and ipywidgets. See https://ipywidgets.readthedocs.io/en/stable/user_install.html\n",
      "  from .autonotebook import tqdm as notebook_tqdm\n"
     ]
    },
    {
     "name": "stdout",
     "output_type": "stream",
     "text": [
      "Размер данных: (383856, 8)\n",
      "Количество уникальных пользователей: 68092\n",
      "Количество уникальных книг: 149842\n",
      "Диапазон рейтингов: 1 - 10\n",
      "Размер тренировочной выборки: 307084\n",
      "Размер тестовой выборки: 76772\n"
     ]
    }
   ],
   "source": [
    "from sklearn.model_selection import train_test_split\n",
    "from sklearn.metrics import mean_squared_error\n",
    "import time\n",
    "import numpy as np\n",
    "\n",
    "from lfm import LFM\n",
    "\n",
    "df = pd.merge(pd.merge(ratings_df, books_df, on=\"ISBN\"), users_df, on=\"User-ID\")\n",
    "df = df[df[\"Rating\"] != 0]\n",
    "\n",
    "print(f\"Размер данных: {df.shape}\")\n",
    "print(f\"Количество уникальных пользователей: {df['User-ID'].nunique()}\")\n",
    "print(f\"Количество уникальных книг: {df['ISBN'].nunique()}\")\n",
    "print(f\"Диапазон рейтингов: {df['Rating'].min()} - {df['Rating'].max()}\")\n",
    "\n",
    "X = df[[\"User-ID\", \"ISBN\"]]\n",
    "y = df[\"Rating\"]\n",
    "\n",
    "X_train, X_test, y_train, y_test = train_test_split(\n",
    "    X, y, test_size=0.2, random_state=42\n",
    ")\n",
    "\n",
    "print(f\"Размер тренировочной выборки: {X_train.shape[0]}\")\n",
    "print(f\"Размер тестовой выборки: {X_test.shape[0]}\")"
   ]
  },
  {
   "cell_type": "markdown",
   "metadata": {
    "vscode": {
     "languageId": "raw"
    }
   },
   "source": [
    "## Обучение собственной модели LFM\n"
   ]
  },
  {
   "cell_type": "code",
   "execution_count": 6,
   "metadata": {},
   "outputs": [
    {
     "name": "stderr",
     "output_type": "stream",
     "text": [
      "Обучение LFM: 100%|██████████| 20/20 [02:12<00:00,  6.61s/it]"
     ]
    },
    {
     "name": "stdout",
     "output_type": "stream",
     "text": [
      "Время обучения LFM: 132.51 сек\n"
     ]
    },
    {
     "name": "stderr",
     "output_type": "stream",
     "text": [
      "\n"
     ]
    }
   ],
   "source": [
    "lfm = LFM(\n",
    "    n_factors=50,\n",
    "    n_epochs=20,\n",
    "    lr=0.01,\n",
    "    reg=0.02,\n",
    "    random_state=42,\n",
    "    verbose=True,\n",
    ")\n",
    "\n",
    "start_time = time.time()\n",
    "lfm.fit(X_train, y_train)\n",
    "training_time = time.time() - start_time\n",
    "\n",
    "print(f\"Время обучения LFM: {training_time:.2f} сек\")"
   ]
  },
  {
   "cell_type": "markdown",
   "metadata": {
    "vscode": {
     "languageId": "raw"
    }
   },
   "source": [
    "## Оценка качества и времени предсказания\n"
   ]
  },
  {
   "cell_type": "code",
   "execution_count": 7,
   "metadata": {},
   "outputs": [
    {
     "name": "stdout",
     "output_type": "stream",
     "text": [
      "RMSE на тестовой выборке: 1.6163\n",
      "Время предсказания LFM: 1.1022 сек\n",
      "Средний абсолютный отклонение (MAE): 1.2415\n",
      "Среднее предсказанное значение: 7.6835\n",
      "Среднее истинное значение: 7.6287\n"
     ]
    }
   ],
   "source": [
    "start_time = time.time()\n",
    "y_pred = lfm.predict(X_test)\n",
    "prediction_time = time.time() - start_time\n",
    "\n",
    "rmse = np.sqrt(mean_squared_error(y_test, y_pred))\n",
    "\n",
    "print(f\"RMSE на тестовой выборке: {rmse:.4f}\")\n",
    "print(f\"Время предсказания LFM: {prediction_time:.4f} сек\")\n",
    "\n",
    "print(f\"Средний абсолютный отклонение (MAE): {np.mean(np.abs(y_test - y_pred)):.4f}\")\n",
    "print(f\"Среднее предсказанное значение: {np.mean(y_pred):.4f}\")\n",
    "print(f\"Среднее истинное значение: {np.mean(y_test):.4f}\")"
   ]
  },
  {
   "cell_type": "markdown",
   "metadata": {
    "vscode": {
     "languageId": "raw"
    }
   },
   "source": [
    "## Сравнение с эталонной реализацией из Surprise\n"
   ]
  },
  {
   "cell_type": "code",
   "execution_count": 3,
   "metadata": {},
   "outputs": [
    {
     "name": "stdout",
     "output_type": "stream",
     "text": [
      "Подготовка данных для Surprise...\n",
      "Обучение Surprise SVD...\n",
      "Время обучения Surprise SVD: 2.98 сек\n"
     ]
    }
   ],
   "source": [
    "from surprise import SVD, Dataset, Reader\n",
    "\n",
    "print(\"Подготовка данных для Surprise...\")\n",
    "\n",
    "# Подготавливаем данные в формате для Surprise\n",
    "train_data = pd.merge(\n",
    "    X_train, y_train.to_frame(\"Rating\"), left_index=True, right_index=True\n",
    ")\n",
    "\n",
    "# Создаем Reader для Surprise\n",
    "reader = Reader(rating_scale=(1, 10))\n",
    "\n",
    "# Загружаем тренировочные данные\n",
    "surprise_dataset = Dataset.load_from_df(\n",
    "    train_data[[\"User-ID\", \"ISBN\", \"Rating\"]], reader\n",
    ")\n",
    "surprise_trainset = surprise_dataset.build_full_trainset()\n",
    "\n",
    "# Создаем алгоритм SVD с аналогичными параметрами\n",
    "surprise_svd = SVD(\n",
    "    n_factors=50, n_epochs=20, lr_all=0.01, reg_all=0.02, random_state=42\n",
    ")\n",
    "\n",
    "print(\"Обучение Surprise SVD...\")\n",
    "start_time = time.time()\n",
    "surprise_svd.fit(surprise_trainset)\n",
    "surprise_training_time = time.time() - start_time\n",
    "\n",
    "print(f\"Время обучения Surprise SVD: {surprise_training_time:.2f} сек\")"
   ]
  },
  {
   "cell_type": "code",
   "execution_count": 4,
   "metadata": {},
   "outputs": [
    {
     "name": "stdout",
     "output_type": "stream",
     "text": [
      "Предсказание Surprise SVD...\n",
      "RMSE (Surprise SVD): 1.6406\n",
      "Время предсказания Surprise SVD: 1.2769 сек\n",
      "MAE (Surprise SVD): 1.2613\n"
     ]
    }
   ],
   "source": [
    "# Предсказание для Surprise SVD\n",
    "print(\"Предсказание Surprise SVD...\")\n",
    "start_time = time.time()\n",
    "\n",
    "# Получаем предсказания для тестовой выборки\n",
    "y_pred_surprise = []\n",
    "for _, row in X_test.iterrows():\n",
    "    user_id, isbn = row[\"User-ID\"], row[\"ISBN\"]\n",
    "\n",
    "    # Делаем предсказание\n",
    "    prediction = surprise_svd.predict(user_id, isbn)\n",
    "    y_pred_surprise.append(prediction.est)\n",
    "\n",
    "y_pred_surprise = np.array(y_pred_surprise)\n",
    "surprise_prediction_time = time.time() - start_time\n",
    "\n",
    "# Вычисляем метрики для Surprise SVD\n",
    "rmse_surprise = np.sqrt(mean_squared_error(y_test, y_pred_surprise))\n",
    "\n",
    "print(f\"RMSE (Surprise SVD): {rmse_surprise:.4f}\")\n",
    "print(f\"Время предсказания Surprise SVD: {surprise_prediction_time:.4f} сек\")\n",
    "print(f\"MAE (Surprise SVD): {np.mean(np.abs(y_test - y_pred_surprise)):.4f}\")"
   ]
  },
  {
   "cell_type": "markdown",
   "metadata": {
    "vscode": {
     "languageId": "raw"
    }
   },
   "source": [
    "## Сравнительная таблица результатов\n"
   ]
  },
  {
   "cell_type": "code",
   "execution_count": 8,
   "metadata": {},
   "outputs": [
    {
     "name": "stdout",
     "output_type": "stream",
     "text": [
      "Сравнение моделей:\n",
      "         Модель     RMSE      MAE  Время обучения (сек)  Время предсказания (сек)\n",
      "Собственная LFM 1.616271 1.241472            132.505874                  1.102199\n",
      "   Surprise SVD 1.640645 1.261276              2.977292                  1.276916\n",
      "\n",
      "==================================================\n",
      "ВЫВОДЫ:\n",
      "==================================================\n",
      "✅ Собственная LFM показала лучшее качество по RMSE\n",
      "❌ Surprise SVD обучается быстрее\n",
      "Разница в RMSE: 0.0244\n",
      "Разница во времени обучения: 129.53 сек\n"
     ]
    }
   ],
   "source": [
    "# Создаем сравнительную таблицу\n",
    "results_df = pd.DataFrame(\n",
    "    {\n",
    "        \"Модель\": [\"Собственная LFM\", \"Surprise SVD\"],\n",
    "        \"RMSE\": [rmse, rmse_surprise],\n",
    "        \"MAE\": [\n",
    "            np.mean(np.abs(y_test - y_pred)),\n",
    "            np.mean(np.abs(y_test - y_pred_surprise)),\n",
    "        ],\n",
    "        \"Время обучения (сек)\": [training_time, surprise_training_time],\n",
    "        \"Время предсказания (сек)\": [prediction_time, surprise_prediction_time],\n",
    "    }\n",
    ")\n",
    "\n",
    "print(\"Сравнение моделей:\")\n",
    "print(results_df.to_string(index=False))\n",
    "\n",
    "# Выводы\n",
    "print(\"\\n\" + \"=\" * 50)\n",
    "print(\"ВЫВОДЫ:\")\n",
    "print(\"=\" * 50)\n",
    "\n",
    "if rmse < rmse_surprise:\n",
    "    print(\"✅ Собственная LFM показала лучшее качество по RMSE\")\n",
    "else:\n",
    "    print(\"❌ Surprise SVD показала лучшее качество по RMSE\")\n",
    "\n",
    "if training_time < surprise_training_time:\n",
    "    print(\"✅ Собственная LFM обучается быстрее\")\n",
    "else:\n",
    "    print(\"❌ Surprise SVD обучается быстрее\")\n",
    "\n",
    "print(f\"Разница в RMSE: {abs(rmse - rmse_surprise):.4f}\")\n",
    "print(\n",
    "    f\"Разница во времени обучения: {abs(training_time - surprise_training_time):.2f} сек\"\n",
    ")"
   ]
  }
 ],
 "metadata": {
  "kernelspec": {
   "display_name": ".venv",
   "language": "python",
   "name": "python3"
  },
  "language_info": {
   "codemirror_mode": {
    "name": "ipython",
    "version": 3
   },
   "file_extension": ".py",
   "mimetype": "text/x-python",
   "name": "python",
   "nbconvert_exporter": "python",
   "pygments_lexer": "ipython3",
   "version": "3.12.6"
  }
 },
 "nbformat": 4,
 "nbformat_minor": 2
}
