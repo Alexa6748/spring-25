{
 "cells": [
  {
   "cell_type": "code",
   "execution_count": 9,
   "id": "initial_id",
   "metadata": {
    "collapsed": true,
    "ExecuteTime": {
     "end_time": "2025-02-27T15:05:56.897804Z",
     "start_time": "2025-02-27T15:05:56.888172Z"
    }
   },
   "outputs": [],
   "source": [
    "from sklearn.datasets import load_iris\n",
    "from sklearn.ensemble import BaggingClassifier\n",
    "from sklearn.model_selection import cross_val_score\n",
    "from sklearn.tree import DecisionTreeClassifier\n",
    "\n",
    "import time\n",
    "\n",
    "from bagging import BaggingClassifier as MyBaggingClassifier"
   ]
  },
  {
   "cell_type": "code",
   "execution_count": 10,
   "outputs": [],
   "source": [
    "data = load_iris()\n",
    "X, y = data.data, data.target"
   ],
   "metadata": {
    "collapsed": false,
    "ExecuteTime": {
     "end_time": "2025-02-27T15:05:56.900442Z",
     "start_time": "2025-02-27T15:05:56.892815Z"
    }
   },
   "id": "aaf039f9e12cbcf0"
  },
  {
   "cell_type": "code",
   "execution_count": 11,
   "outputs": [
    {
     "name": "stdout",
     "output_type": "stream",
     "text": [
      "```\n",
      "MY BAGGING: 1xDecisionTreeClassifier(max_depth=1, random_state=42)\n",
      "Время работы: 0.009\n",
      "Кросс-валидация: 0.127\n",
      "\n",
      "SKLEARN BAGGING: 1xDecisionTreeClassifier(max_depth=1, random_state=42)\n",
      "Время работы: 0.011\n",
      "Кросс-валидация: 0.613\n",
      "\n",
      "```\n",
      "\n",
      "```\n",
      "MY BAGGING: 5xDecisionTreeClassifier(max_depth=1, random_state=42)\n",
      "Время работы: 0.015\n",
      "Кросс-валидация: 0.127\n",
      "\n",
      "SKLEARN BAGGING: 5xDecisionTreeClassifier(max_depth=1, random_state=42)\n",
      "Время работы: 0.023\n",
      "Кросс-валидация: 0.953\n",
      "\n",
      "```\n",
      "\n",
      "```\n",
      "MY BAGGING: 10xDecisionTreeClassifier(max_depth=1, random_state=42)\n",
      "Время работы: 0.019\n",
      "Кросс-валидация: 0.127\n",
      "\n",
      "SKLEARN BAGGING: 10xDecisionTreeClassifier(max_depth=1, random_state=42)\n",
      "Время работы: 0.034\n",
      "Кросс-валидация: 0.967\n",
      "\n",
      "```\n",
      "\n",
      "```\n",
      "MY BAGGING: 1xDecisionTreeClassifier(max_depth=2, random_state=42)\n",
      "Время работы: 0.004\n",
      "Кросс-валидация: 0.927\n",
      "\n",
      "SKLEARN BAGGING: 1xDecisionTreeClassifier(max_depth=2, random_state=42)\n",
      "Время работы: 0.007\n",
      "Кросс-валидация: 0.947\n",
      "\n",
      "```\n",
      "\n",
      "```\n",
      "MY BAGGING: 5xDecisionTreeClassifier(max_depth=2, random_state=42)\n",
      "Время работы: 0.010\n",
      "Кросс-валидация: 0.920\n",
      "\n",
      "SKLEARN BAGGING: 5xDecisionTreeClassifier(max_depth=2, random_state=42)\n",
      "Время работы: 0.019\n",
      "Кросс-валидация: 0.947\n",
      "\n",
      "```\n",
      "\n",
      "```\n",
      "MY BAGGING: 10xDecisionTreeClassifier(max_depth=2, random_state=42)\n",
      "Время работы: 0.020\n",
      "Кросс-валидация: 0.913\n",
      "\n",
      "SKLEARN BAGGING: 10xDecisionTreeClassifier(max_depth=2, random_state=42)\n",
      "Время работы: 0.043\n",
      "Кросс-валидация: 0.960\n",
      "\n",
      "```\n"
     ]
    }
   ],
   "source": [
    "random_state = 42\n",
    "\n",
    "for estimator in (\n",
    "\tDecisionTreeClassifier(max_depth=1, random_state=42),\n",
    "\tDecisionTreeClassifier(max_depth=2, random_state=42),\n",
    "):\n",
    "\tfor n_estimators in (1, 5, 10):\n",
    "\t\tprint('```')\n",
    "\t\t\n",
    "\t\tfor label, model in (\n",
    "\t\t\t('My Bagging', MyBaggingClassifier),\n",
    "\t\t\t('Sklearn Bagging', BaggingClassifier),\n",
    "\t\t):\n",
    "\t\t\tbagging = model(estimator=estimator, n_estimators=n_estimators, random_state=random_state)\n",
    "\t\t\tstart_time = time.time()\n",
    "\t\t\tscores = cross_val_score(bagging, X, y, cv=5, scoring='accuracy')\n",
    "\t\t\tend_time = time.time()\n",
    "\t\t\t\n",
    "\t\t\tprint(f'{label.upper()}: {n_estimators}x{estimator}')\n",
    "\t\t\tprint(f'Время работы: {end_time - start_time:.3f}')\n",
    "\t\t\tprint(f'Кросс-валидация: {scores.mean():.3f}')\n",
    "\t\t\tprint()\n",
    "\t\t\t\n",
    "\t\tprint('```\\n')\n",
    "\t\t\t\n"
   ],
   "metadata": {
    "collapsed": false,
    "ExecuteTime": {
     "end_time": "2025-02-27T15:05:57.169942Z",
     "start_time": "2025-02-27T15:05:56.900590Z"
    }
   },
   "id": "f5c68d2057d475b8"
  },
  {
   "cell_type": "code",
   "execution_count": 11,
   "outputs": [],
   "source": [],
   "metadata": {
    "collapsed": false,
    "ExecuteTime": {
     "end_time": "2025-02-27T15:05:57.170120Z",
     "start_time": "2025-02-27T15:05:57.116601Z"
    }
   },
   "id": "bb70999dbd934188"
  }
 ],
 "metadata": {
  "kernelspec": {
   "display_name": "Python 3",
   "language": "python",
   "name": "python3"
  },
  "language_info": {
   "codemirror_mode": {
    "name": "ipython",
    "version": 2
   },
   "file_extension": ".py",
   "mimetype": "text/x-python",
   "name": "python",
   "nbconvert_exporter": "python",
   "pygments_lexer": "ipython2",
   "version": "2.7.6"
  }
 },
 "nbformat": 4,
 "nbformat_minor": 5
}
