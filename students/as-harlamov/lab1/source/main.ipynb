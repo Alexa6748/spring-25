{
 "cells": [
  {
   "cell_type": "code",
   "execution_count": 1,
   "id": "initial_id",
   "metadata": {
    "collapsed": true,
    "ExecuteTime": {
     "end_time": "2025-02-28T08:28:10.174783Z",
     "start_time": "2025-02-28T08:28:09.509988Z"
    }
   },
   "outputs": [],
   "source": [
    "from sklearn.datasets import load_iris\n",
    "from sklearn.ensemble import BaggingClassifier\n",
    "from sklearn.model_selection import cross_val_score\n",
    "from sklearn.tree import DecisionTreeClassifier\n",
    "\n",
    "import time\n",
    "\n",
    "from bagging import BaggingClassifier as MyBaggingClassifier"
   ]
  },
  {
   "cell_type": "code",
   "execution_count": 2,
   "outputs": [],
   "source": [
    "data = load_iris()\n",
    "X, y = data.data, data.target"
   ],
   "metadata": {
    "collapsed": false,
    "ExecuteTime": {
     "end_time": "2025-02-28T08:28:10.201223Z",
     "start_time": "2025-02-28T08:28:10.174297Z"
    }
   },
   "id": "aaf039f9e12cbcf0"
  },
  {
   "cell_type": "code",
   "execution_count": null,
   "outputs": [],
   "source": [
    "random_state = 42\n",
    "\n",
    "for estimator in (\n",
    "\tDecisionTreeClassifier(max_depth=1),\n",
    "\tDecisionTreeClassifier(max_depth=2),\n",
    "):\n",
    "\tfor n_estimators in (1, 10, 100, 1000):\n",
    "\t\tprint('```')\n",
    "\t\t\n",
    "\t\tfor label, model in (\n",
    "\t\t\t('My Bagging', MyBaggingClassifier(estimator=estimator, n_estimators=n_estimators, min_quality_threshold=0.9)),\n",
    "\t\t\t('Sklearn Bagging', BaggingClassifier(estimator=estimator, n_estimators=n_estimators)),\n",
    "\t\t):\n",
    "\t\t\tstart_time = time.time()\n",
    "\t\t\tscores = cross_val_score(model, X, y, cv=5, scoring='accuracy')\n",
    "\t\t\tend_time = time.time()\n",
    "\t\t\t\n",
    "\t\t\tprint(f'{label.upper()}: {n_estimators}x{estimator}')\n",
    "\t\t\tprint(f'Время работы: {end_time - start_time:.3f}')\n",
    "\t\t\tprint(f'Кросс-валидация: {scores.mean():.3f}')\n",
    "\t\t\tprint()\n",
    "\t\t\t\n",
    "\t\tprint('```\\n')\n",
    "\t\t\t\n"
   ],
   "metadata": {
    "collapsed": false
   },
   "id": "f5c68d2057d475b8"
  },
  {
   "cell_type": "code",
   "execution_count": null,
   "outputs": [],
   "source": [
    "estimator = DecisionTreeClassifier(max_depth=1)\n",
    "for n in (1, 2, 5, 10, 100):\n",
    "\tclf = MyBaggingClassifier(estimator, n_estimators=n, min_quality_threshold=0.9)\n",
    "\tscore = cross_val_score(clf, X, y, cv=5, scoring='accuracy').mean()\n",
    "\tprint(n, score)\n"
   ],
   "metadata": {
    "collapsed": false
   },
   "id": "bb70999dbd934188"
  },
  {
   "cell_type": "code",
   "execution_count": 4,
   "outputs": [],
   "source": [],
   "metadata": {
    "collapsed": false,
    "ExecuteTime": {
     "end_time": "2025-02-28T08:28:22.124700Z",
     "start_time": "2025-02-28T08:28:22.123671Z"
    }
   },
   "id": "c8bcbb74be3d8e18"
  }
 ],
 "metadata": {
  "kernelspec": {
   "display_name": "Python 3",
   "language": "python",
   "name": "python3"
  },
  "language_info": {
   "codemirror_mode": {
    "name": "ipython",
    "version": 2
   },
   "file_extension": ".py",
   "mimetype": "text/x-python",
   "name": "python",
   "nbconvert_exporter": "python",
   "pygments_lexer": "ipython2",
   "version": "2.7.6"
  }
 },
 "nbformat": 4,
 "nbformat_minor": 5
}
