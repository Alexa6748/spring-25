{
 "cells": [
  {
   "cell_type": "code",
   "execution_count": 4,
   "id": "initial_id",
   "metadata": {
    "collapsed": true,
    "ExecuteTime": {
     "end_time": "2025-03-27T15:43:41.705956Z",
     "start_time": "2025-03-27T15:43:41.687233Z"
    }
   },
   "outputs": [],
   "source": [
    "import pandas as pd\n",
    "import numpy as np\n",
    "\n",
    "from sklearn.tree import DecisionTreeRegressor\n",
    "from sklearn.ensemble import GradientBoostingRegressor\n",
    "from sklearn.model_selection import train_test_split\n",
    "from sklearn.preprocessing import LabelEncoder\n",
    "from sklearn.metrics import mean_squared_error\n",
    "\n",
    "import random\n",
    "import time"
   ]
  },
  {
   "cell_type": "code",
   "execution_count": 2,
   "outputs": [
    {
     "data": {
      "text/plain": "array([[ 0.07076875,  0.05068012,  0.01211685, ...,  0.03430886,\n         0.02736405, -0.0010777 ],\n       [-0.00914709,  0.05068012, -0.01806189, ...,  0.07120998,\n         0.00027248,  0.01963284],\n       [ 0.00538306, -0.04464164,  0.04984027, ..., -0.00259226,\n         0.01703607, -0.01350402],\n       ...,\n       [ 0.03081083, -0.04464164, -0.02021751, ..., -0.03949338,\n        -0.01090325, -0.0010777 ],\n       [-0.01277963, -0.04464164, -0.02345095, ..., -0.00259226,\n        -0.03845972, -0.03835666],\n       [-0.09269548, -0.04464164,  0.02828403, ..., -0.03949338,\n        -0.00514219, -0.0010777 ]])"
     },
     "execution_count": 2,
     "metadata": {},
     "output_type": "execute_result"
    }
   ],
   "source": [
    "from sklearn.datasets import load_diabetes\n",
    "\n",
    "X, y = load_diabetes(return_X_y=True)\n",
    "X_train, X_test, y_train, y_test = train_test_split(X, y, test_size=0.2, random_state=42)\n",
    "X_train"
   ],
   "metadata": {
    "collapsed": false,
    "ExecuteTime": {
     "end_time": "2025-03-27T15:41:27.125242Z",
     "start_time": "2025-03-27T15:41:26.978224Z"
    }
   },
   "id": "369baa6c4eb5502b"
  },
  {
   "cell_type": "code",
   "execution_count": 7,
   "outputs": [
    {
     "name": "stdout",
     "output_type": "stream",
     "text": [
      "Sklearn MSE: 3236.9647\n",
      "Sklearn Time: 0.0724\n"
     ]
    }
   ],
   "source": [
    "sklearn_regressor = GradientBoostingRegressor(n_estimators=100, learning_rate=0.01, max_depth=3)\n",
    "start = time.time()\n",
    "sklearn_regressor.fit(X_train, y_train)\n",
    "end = time.time()\n",
    "y_pred = sklearn_regressor.predict(X_test)\n",
    "print(f'Sklearn MSE: {mean_squared_error(y_test, y_pred):.4f}')\n",
    "print(f'Sklearn Time: {end - start:.4f}')"
   ],
   "metadata": {
    "collapsed": false,
    "ExecuteTime": {
     "end_time": "2025-03-27T15:44:49.672588Z",
     "start_time": "2025-03-27T15:44:49.594227Z"
    }
   },
   "id": "82d0b6df7499f61e"
  },
  {
   "cell_type": "code",
   "execution_count": 8,
   "outputs": [
    {
     "name": "stdout",
     "output_type": "stream",
     "text": [
      "Sklearn MSE: 3236.9647\n",
      "Sklearn Time: 0.0632\n"
     ]
    }
   ],
   "source": [
    "from boosting import GradientBoostingRegressor as GBR\n",
    "\n",
    "my_regressor = GBR(n_estimators=100, learning_rate=0.01, max_depth=3)\n",
    "start = time.time()\n",
    "my_regressor.fit(X_train, y_train)\n",
    "end = time.time()\n",
    "y_pred = my_regressor.predict(X_test)\n",
    "print(f'Sklearn MSE: {mean_squared_error(y_test, y_pred):.4f}')\n",
    "print(f'Sklearn Time: {end - start:.4f}')"
   ],
   "metadata": {
    "collapsed": false,
    "ExecuteTime": {
     "end_time": "2025-03-27T15:45:58.462337Z",
     "start_time": "2025-03-27T15:45:58.381474Z"
    }
   },
   "id": "e2b80ccd4f1cedc0"
  },
  {
   "cell_type": "code",
   "execution_count": null,
   "outputs": [],
   "source": [],
   "metadata": {
    "collapsed": false
   },
   "id": "6b7d698999a28de8"
  }
 ],
 "metadata": {
  "kernelspec": {
   "display_name": "Python 3",
   "language": "python",
   "name": "python3"
  },
  "language_info": {
   "codemirror_mode": {
    "name": "ipython",
    "version": 2
   },
   "file_extension": ".py",
   "mimetype": "text/x-python",
   "name": "python",
   "nbconvert_exporter": "python",
   "pygments_lexer": "ipython2",
   "version": "2.7.6"
  }
 },
 "nbformat": 4,
 "nbformat_minor": 5
}
