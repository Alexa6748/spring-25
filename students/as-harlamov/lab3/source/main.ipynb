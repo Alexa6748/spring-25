{
 "cells": [
  {
   "cell_type": "code",
   "execution_count": 17,
   "id": "initial_id",
   "metadata": {
    "collapsed": true,
    "ExecuteTime": {
     "end_time": "2025-03-27T14:37:07.229331Z",
     "start_time": "2025-03-27T14:37:07.160611Z"
    }
   },
   "outputs": [],
   "source": [
    "import time\n",
    "\n",
    "import numpy as np\n",
    "import pandas as pd\n",
    "\n",
    "from sklearn.feature_extraction.text import CountVectorizer\n",
    "from sklearn.metrics import accuracy_score\n",
    "from sklearn.model_selection import KFold, cross_val_score, train_test_split\n",
    "\n",
    "data = pd.read_csv(\"spam.csv\", encoding='latin-1')\n",
    "data = data[['v1', 'v2']]\n",
    "data.columns = ['label', 'message']\n",
    "\n",
    "X_train, X_test, y_train, y_test = train_test_split(data['message'], data['label'], test_size=0.2, random_state=42)\n",
    "\n",
    "vectorizer = CountVectorizer()\n",
    "X_train_vec = vectorizer.fit_transform(X_train)\n",
    "X_test_vec = vectorizer.transform(X_test)"
   ]
  },
  {
   "cell_type": "code",
   "execution_count": 18,
   "outputs": [
    {
     "name": "stdout",
     "output_type": "stream",
     "text": [
      "Time (Custom): 0.0143\n",
      "Accuracy (Custom): 0.9848\n"
     ]
    }
   ],
   "source": [
    "from bayes_classifier import NaiveBayesClassifier\n",
    "\n",
    "# Обучение собственной реализации\n",
    "nb_custom = NaiveBayesClassifier()\n",
    "\n",
    "start_time = time.time()\n",
    "nb_custom.fit(X_train, y_train)\n",
    "custom_time = time.time() - start_time\n",
    "print(f\"Time (Custom): {custom_time:.4f}\")\n",
    "\n",
    "y_pred_custom = nb_custom.predict(X_test)\n",
    "accuracy_custom = accuracy_score(y_test, y_pred_custom)\n",
    "print(f\"Accuracy (Custom): {accuracy_custom:.4f}\")"
   ],
   "metadata": {
    "collapsed": false,
    "ExecuteTime": {
     "end_time": "2025-03-27T14:37:07.353910Z",
     "start_time": "2025-03-27T14:37:07.216498Z"
    }
   },
   "id": "9c7d971b95bfa3d"
  },
  {
   "cell_type": "code",
   "execution_count": 19,
   "outputs": [
    {
     "name": "stdout",
     "output_type": "stream",
     "text": [
      "Time (sklearn): 0.0054\n",
      "Accuracy (sklearn): 0.9839\n"
     ]
    }
   ],
   "source": [
    "from sklearn.naive_bayes import MultinomialNB\n",
    "\n",
    "# Обучение эталонной модели\n",
    "nb_sklearn = MultinomialNB()\n",
    "\n",
    "start_time = time.time()\n",
    "nb_sklearn.fit(X_train_vec, y_train)\n",
    "sklearn_time = time.time() - start_time\n",
    "print(f\"Time (sklearn): {sklearn_time:.4f}\")\n",
    "\n",
    "y_pred_sklearn = nb_sklearn.predict(X_test_vec)\n",
    "accuracy_sklearn = accuracy_score(y_test, y_pred_sklearn)\n",
    "print(f\"Accuracy (sklearn): {accuracy_sklearn:.4f}\")"
   ],
   "metadata": {
    "collapsed": false,
    "ExecuteTime": {
     "end_time": "2025-03-27T14:37:07.376145Z",
     "start_time": "2025-03-27T14:37:07.256910Z"
    }
   },
   "id": "6353c096b78ea3c1"
  },
  {
   "cell_type": "code",
   "execution_count": 20,
   "outputs": [
    {
     "name": "stdout",
     "output_type": "stream",
     "text": [
      "Mean Accuracy (Custom): 0.9961 ± 0.0057\n"
     ]
    }
   ],
   "source": [
    "def cross_validate_custom_model(X, y, clf, k=5):\n",
    "    kf = KFold(n_splits=k, shuffle=True, random_state=42)\n",
    "    accuracies = []\n",
    "\n",
    "    for train_index, test_index in kf.split(X):\n",
    "        X_train, X_test = X[train_index], X[test_index]\n",
    "        y_train, y_test = y[train_index], y[test_index]\n",
    "\n",
    "        # Обучение модели\n",
    "        clf.fit(X_train, y_train)\n",
    "\n",
    "        # Предсказание и оценка точности\n",
    "        y_pred = clf.predict(X_test)\n",
    "        accuracy = accuracy_score(y_test, y_pred)\n",
    "        accuracies.append(accuracy)\n",
    "\n",
    "    return np.mean(accuracies), np.std(accuracies)\n",
    "\n",
    "# Преобразование данных в массивы numpy\n",
    "X = data['message'].values\n",
    "y = data['label'].values\n",
    "\n",
    "# Кросс-валидация собственной модели\n",
    "mean_accuracy_custom, std_accuracy_custom = cross_validate_custom_model(X, y, NaiveBayesClassifier(), k=5)\n",
    "print(f\"Mean Accuracy (Custom): {mean_accuracy_custom:.4f} ± {std_accuracy_custom:.4f}\")"
   ],
   "metadata": {
    "collapsed": false,
    "ExecuteTime": {
     "end_time": "2025-03-27T14:37:07.429248Z",
     "start_time": "2025-03-27T14:37:07.260902Z"
    }
   },
   "id": "669a2abe842cc1e7"
  },
  {
   "cell_type": "code",
   "execution_count": 21,
   "outputs": [
    {
     "name": "stdout",
     "output_type": "stream",
     "text": [
      "Mean Accuracy (sklearn): 0.9808 ± 0.0017\n"
     ]
    }
   ],
   "source": [
    "# Векторизация текста\n",
    "vectorizer = CountVectorizer()\n",
    "X_vec = vectorizer.fit_transform(data['message'])\n",
    "\n",
    "# Кросс-валидация эталонной модели\n",
    "nb_sklearn = MultinomialNB()\n",
    "scores_sklearn = cross_val_score(nb_sklearn, X_vec, data['label'], cv=5, scoring='accuracy')\n",
    "\n",
    "mean_accuracy_sklearn = np.mean(scores_sklearn)\n",
    "std_accuracy_sklearn = np.std(scores_sklearn)\n",
    "print(f\"Mean Accuracy (sklearn): {mean_accuracy_sklearn:.4f} ± {std_accuracy_sklearn:.4f}\")"
   ],
   "metadata": {
    "collapsed": false,
    "ExecuteTime": {
     "end_time": "2025-03-27T14:37:07.503735Z",
     "start_time": "2025-03-27T14:37:07.429582Z"
    }
   },
   "id": "2e73b568309d24"
  }
 ],
 "metadata": {
  "kernelspec": {
   "display_name": "Python 3",
   "language": "python",
   "name": "python3"
  },
  "language_info": {
   "codemirror_mode": {
    "name": "ipython",
    "version": 2
   },
   "file_extension": ".py",
   "mimetype": "text/x-python",
   "name": "python",
   "nbconvert_exporter": "python",
   "pygments_lexer": "ipython2",
   "version": "2.7.6"
  }
 },
 "nbformat": 4,
 "nbformat_minor": 5
}
