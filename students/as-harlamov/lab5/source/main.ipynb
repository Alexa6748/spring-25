{
 "cells": [
  {
   "cell_type": "code",
   "execution_count": 5,
   "id": "initial_id",
   "metadata": {
    "collapsed": true,
    "ExecuteTime": {
     "end_time": "2025-05-22T14:42:12.379002Z",
     "start_time": "2025-05-22T14:42:12.329031Z"
    }
   },
   "outputs": [
    {
     "data": {
      "text/plain": "   user_id  item_id  rating  timestamp\n0      196      242       3  881250949\n1      186      302       3  891717742\n2       22      377       1  878887116\n3      244       51       2  880606923\n4      166      346       1  886397596",
      "text/html": "<div>\n<style scoped>\n    .dataframe tbody tr th:only-of-type {\n        vertical-align: middle;\n    }\n\n    .dataframe tbody tr th {\n        vertical-align: top;\n    }\n\n    .dataframe thead th {\n        text-align: right;\n    }\n</style>\n<table border=\"1\" class=\"dataframe\">\n  <thead>\n    <tr style=\"text-align: right;\">\n      <th></th>\n      <th>user_id</th>\n      <th>item_id</th>\n      <th>rating</th>\n      <th>timestamp</th>\n    </tr>\n  </thead>\n  <tbody>\n    <tr>\n      <th>0</th>\n      <td>196</td>\n      <td>242</td>\n      <td>3</td>\n      <td>881250949</td>\n    </tr>\n    <tr>\n      <th>1</th>\n      <td>186</td>\n      <td>302</td>\n      <td>3</td>\n      <td>891717742</td>\n    </tr>\n    <tr>\n      <th>2</th>\n      <td>22</td>\n      <td>377</td>\n      <td>1</td>\n      <td>878887116</td>\n    </tr>\n    <tr>\n      <th>3</th>\n      <td>244</td>\n      <td>51</td>\n      <td>2</td>\n      <td>880606923</td>\n    </tr>\n    <tr>\n      <th>4</th>\n      <td>166</td>\n      <td>346</td>\n      <td>1</td>\n      <td>886397596</td>\n    </tr>\n  </tbody>\n</table>\n</div>"
     },
     "execution_count": 5,
     "metadata": {},
     "output_type": "execute_result"
    }
   ],
   "source": [
    "import pandas as pd\n",
    "\n",
    "\n",
    "# Загрузка данных\n",
    "data = pd.read_csv('u.data', sep='\\t', names=['user_id', 'item_id', 'rating', 'timestamp'])\n",
    "data.head()"
   ]
  },
  {
   "cell_type": "code",
   "execution_count": 6,
   "outputs": [
    {
     "data": {
      "text/plain": "       user_id  item_id  rating  user_idx  item_idx\n75220      807     1411       1       804       901\n48955      474      659       5       467       488\n44966      463      268       4       465       139\n13568      139      286       4       321       289\n92727      621      751       4       618       261",
      "text/html": "<div>\n<style scoped>\n    .dataframe tbody tr th:only-of-type {\n        vertical-align: middle;\n    }\n\n    .dataframe tbody tr th {\n        vertical-align: top;\n    }\n\n    .dataframe thead th {\n        text-align: right;\n    }\n</style>\n<table border=\"1\" class=\"dataframe\">\n  <thead>\n    <tr style=\"text-align: right;\">\n      <th></th>\n      <th>user_id</th>\n      <th>item_id</th>\n      <th>rating</th>\n      <th>user_idx</th>\n      <th>item_idx</th>\n    </tr>\n  </thead>\n  <tbody>\n    <tr>\n      <th>75220</th>\n      <td>807</td>\n      <td>1411</td>\n      <td>1</td>\n      <td>804</td>\n      <td>901</td>\n    </tr>\n    <tr>\n      <th>48955</th>\n      <td>474</td>\n      <td>659</td>\n      <td>5</td>\n      <td>467</td>\n      <td>488</td>\n    </tr>\n    <tr>\n      <th>44966</th>\n      <td>463</td>\n      <td>268</td>\n      <td>4</td>\n      <td>465</td>\n      <td>139</td>\n    </tr>\n    <tr>\n      <th>13568</th>\n      <td>139</td>\n      <td>286</td>\n      <td>4</td>\n      <td>321</td>\n      <td>289</td>\n    </tr>\n    <tr>\n      <th>92727</th>\n      <td>621</td>\n      <td>751</td>\n      <td>4</td>\n      <td>618</td>\n      <td>261</td>\n    </tr>\n  </tbody>\n</table>\n</div>"
     },
     "execution_count": 6,
     "metadata": {},
     "output_type": "execute_result"
    }
   ],
   "source": [
    "from sklearn.model_selection import train_test_split\n",
    "\n",
    "data = data[['user_id', 'item_id', 'rating']]\n",
    "\n",
    "# Сопоставление ID с индексами\n",
    "users = data['user_id'].unique()\n",
    "items = data['item_id'].unique()\n",
    "\n",
    "user_to_index = {u: idx for idx, u in enumerate(users)}\n",
    "item_to_index = {i: idx for idx, i in enumerate(items)}\n",
    "\n",
    "data['user_idx'] = data['user_id'].map(user_to_index)\n",
    "data['item_idx'] = data['item_id'].map(item_to_index)\n",
    "\n",
    "# Разделение на train/test\n",
    "train_data, test_data = train_test_split(data, test_size=0.2, random_state=42)\n",
    "train_data.head()"
   ],
   "metadata": {
    "collapsed": false,
    "ExecuteTime": {
     "end_time": "2025-05-22T14:42:25.154215Z",
     "start_time": "2025-05-22T14:42:25.122479Z"
    }
   },
   "id": "6e6ef289d56f1550"
  },
  {
   "cell_type": "code",
   "execution_count": 7,
   "outputs": [
    {
     "data": {
      "text/plain": "       user_id  item_id  rating  user_idx  item_idx\n75721      877      381       4       873       377\n80184      815      602       3       808       601\n19864       94      431       4        90       354\n76699      416      875       2       409       570\n92991      500      182       2       496       356",
      "text/html": "<div>\n<style scoped>\n    .dataframe tbody tr th:only-of-type {\n        vertical-align: middle;\n    }\n\n    .dataframe tbody tr th {\n        vertical-align: top;\n    }\n\n    .dataframe thead th {\n        text-align: right;\n    }\n</style>\n<table border=\"1\" class=\"dataframe\">\n  <thead>\n    <tr style=\"text-align: right;\">\n      <th></th>\n      <th>user_id</th>\n      <th>item_id</th>\n      <th>rating</th>\n      <th>user_idx</th>\n      <th>item_idx</th>\n    </tr>\n  </thead>\n  <tbody>\n    <tr>\n      <th>75721</th>\n      <td>877</td>\n      <td>381</td>\n      <td>4</td>\n      <td>873</td>\n      <td>377</td>\n    </tr>\n    <tr>\n      <th>80184</th>\n      <td>815</td>\n      <td>602</td>\n      <td>3</td>\n      <td>808</td>\n      <td>601</td>\n    </tr>\n    <tr>\n      <th>19864</th>\n      <td>94</td>\n      <td>431</td>\n      <td>4</td>\n      <td>90</td>\n      <td>354</td>\n    </tr>\n    <tr>\n      <th>76699</th>\n      <td>416</td>\n      <td>875</td>\n      <td>2</td>\n      <td>409</td>\n      <td>570</td>\n    </tr>\n    <tr>\n      <th>92991</th>\n      <td>500</td>\n      <td>182</td>\n      <td>2</td>\n      <td>496</td>\n      <td>356</td>\n    </tr>\n  </tbody>\n</table>\n</div>"
     },
     "execution_count": 7,
     "metadata": {},
     "output_type": "execute_result"
    }
   ],
   "source": [
    "test_data.head()"
   ],
   "metadata": {
    "collapsed": false,
    "ExecuteTime": {
     "end_time": "2025-05-22T14:43:15.070054Z",
     "start_time": "2025-05-22T14:43:15.060982Z"
    }
   },
   "id": "c6e9781b290e8bc8"
  },
  {
   "cell_type": "code",
   "execution_count": 3,
   "outputs": [
    {
     "name": "stdout",
     "output_type": "stream",
     "text": [
      "Custom RMSE: 0.9739\n",
      "Custom MAE: 0.7597\n",
      "Custom train time: 44.4593s\n"
     ]
    }
   ],
   "source": [
    "import time\n",
    "\n",
    "from lfm import LatentFactorModel\n",
    "\n",
    "\n",
    "n_users = len(users)\n",
    "n_items = len(items)\n",
    "model = LatentFactorModel(n_users=n_users, n_items=n_items, n_factors=20, lr=0.01, reg=0.02, n_epochs=30)\n",
    "\n",
    "start = time.time()\n",
    "model.fit(train_data)\n",
    "end = time.time()\n",
    "\n",
    "rmse, mae = model.evaluate(test_data)\n",
    "print(f\"Custom RMSE: {rmse:.4f}\")\n",
    "print(f\"Custom MAE: {mae:.4f}\")\n",
    "print(f\"Custom train time: {end - start:.4f}s\")"
   ],
   "metadata": {
    "collapsed": false,
    "ExecuteTime": {
     "end_time": "2025-05-22T14:34:26.995361Z",
     "start_time": "2025-05-22T14:33:42.254205Z"
    }
   },
   "id": "a8a282f1ace65e0b"
  },
  {
   "cell_type": "code",
   "execution_count": 4,
   "outputs": [
    {
     "name": "stdout",
     "output_type": "stream",
     "text": [
      "Dataset ml-100k could not be found. Do you want to download it? [Y/n] Trying to download dataset from https://files.grouplens.org/datasets/movielens/ml-100k.zip...\n",
      "Done! Dataset ml-100k has been saved to /Users/wignorbo/.surprise_data/ml-100k\n",
      "Surprise RMSE: 0.9619\n",
      "Surprise MAE: 0.7514\n",
      "Surprise train time: 0.2001s\n"
     ]
    }
   ],
   "source": [
    "import numpy as np\n",
    "\n",
    "from sklearn.metrics import mean_squared_error\n",
    "from sklearn.metrics import mean_absolute_error\n",
    "from surprise import Dataset, Reader, SVD\n",
    "from surprise.model_selection import train_test_split\n",
    "\n",
    "\n",
    "reader = Reader(rating_scale=(1, 5))\n",
    "surprise_data = Dataset.load_builtin('ml-100k', prompt=False)\n",
    "trainset, testset = train_test_split(surprise_data, test_size=0.2, random_state=42)\n",
    "\n",
    "model_surprise = SVD(n_factors=20, lr_all=0.01, reg_all=0.02, n_epochs=30)\n",
    "start_time = time.time()\n",
    "model_surprise.fit(trainset)\n",
    "end_time = time.time()\n",
    "\n",
    "predictions = model_surprise.test(testset)\n",
    "rmse_surprise = np.sqrt(mean_squared_error([p.r_ui for p in predictions], [p.est for p in predictions]))\n",
    "mae_surprise = mean_absolute_error([p.r_ui for p in predictions], [p.est for p in predictions])\n",
    "\n",
    "print(f\"Surprise RMSE: {rmse_surprise:.4f}\")\n",
    "print(f\"Surprise MAE: {mae_surprise:.4f}\")\n",
    "print(f\"Surprise train time: {end_time - start_time:.4f}s\")"
   ],
   "metadata": {
    "collapsed": false,
    "ExecuteTime": {
     "end_time": "2025-05-22T14:34:37.144238Z",
     "start_time": "2025-05-22T14:34:26.979535Z"
    }
   },
   "id": "7fc980732ae2c53a"
  }
 ],
 "metadata": {
  "kernelspec": {
   "display_name": "Python 3",
   "language": "python",
   "name": "python3"
  },
  "language_info": {
   "codemirror_mode": {
    "name": "ipython",
    "version": 2
   },
   "file_extension": ".py",
   "mimetype": "text/x-python",
   "name": "python",
   "nbconvert_exporter": "python",
   "pygments_lexer": "ipython2",
   "version": "2.7.6"
  }
 },
 "nbformat": 4,
 "nbformat_minor": 5
}
