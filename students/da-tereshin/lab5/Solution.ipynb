{
 "cells": [
  {
   "cell_type": "code",
   "execution_count": 28,
   "metadata": {
    "collapsed": true
   },
   "outputs": [],
   "source": [
    "import numpy as np\n",
    "\n",
    "import timeit\n",
    "\n",
    "from LFM import SVDCustom\n",
    "\n",
    "from surprise import Dataset, SVD, accuracy\n",
    "from surprise.model_selection import train_test_split"
   ]
  },
  {
   "cell_type": "code",
   "execution_count": 83,
   "outputs": [],
   "source": [
    "seed = 17"
   ],
   "metadata": {
    "collapsed": false
   }
  },
  {
   "cell_type": "markdown",
   "source": [
    "# Датасет\n",
    "\n",
    "URL: https://www.kaggle.com/datasets/prajitdatta/movielens-100k-dataset\n",
    "\n",
    "Набор данны MovieLens был собран в рамках исследовательского проекта GroupLens\n",
    "в Университете Миннесоты.\n",
    "\n",
    "Этот набор данных включает в себя:\n",
    "* 100 000 оценок (1-5) от 943 пользователей для 1682 фильмов.\n",
    "* Каждый пользователь оценил не менее 20 фильмов.\n",
    "\n",
    "Данные были собраны с помощью веб-сайта MovieLens (movielens.umn.edu) в течение семи месяцев с 19 сентября 1997 г.\n",
    "по 22 апреля 1998 г, 1997 года по 22 апреля 1998 года. Эти данные были очищены - пользователи, у которых было менее 20 оценок или не было полной демографической информации, были удалены из этого набора данных.\n"
   ],
   "metadata": {
    "collapsed": false
   }
  },
  {
   "cell_type": "code",
   "execution_count": 84,
   "outputs": [],
   "source": [
    "data = Dataset.load_builtin('ml-100k')"
   ],
   "metadata": {
    "collapsed": false
   }
  },
  {
   "cell_type": "code",
   "execution_count": 85,
   "outputs": [
    {
     "data": {
      "text/plain": "[('196', '242', 3.0, '881250949'),\n ('186', '302', 3.0, '891717742'),\n ('22', '377', 1.0, '878887116'),\n ('244', '51', 2.0, '880606923'),\n ('166', '346', 1.0, '886397596'),\n ('298', '474', 4.0, '884182806'),\n ('115', '265', 2.0, '881171488'),\n ('253', '465', 5.0, '891628467'),\n ('305', '451', 3.0, '886324817'),\n ('6', '86', 3.0, '883603013'),\n ('62', '257', 2.0, '879372434'),\n ('286', '1014', 5.0, '879781125'),\n ('200', '222', 5.0, '876042340'),\n ('210', '40', 3.0, '891035994'),\n ('224', '29', 3.0, '888104457'),\n ('303', '785', 3.0, '879485318'),\n ('122', '387', 5.0, '879270459'),\n ('194', '274', 2.0, '879539794'),\n ('291', '1042', 4.0, '874834944'),\n ('234', '1184', 2.0, '892079237')]"
     },
     "execution_count": 85,
     "metadata": {},
     "output_type": "execute_result"
    }
   ],
   "source": [
    "data.raw_ratings[:20]"
   ],
   "metadata": {
    "collapsed": false
   }
  },
  {
   "cell_type": "code",
   "execution_count": 100,
   "outputs": [],
   "source": [
    "trainset, testset = train_test_split(data, test_size=0.25, random_state=seed)"
   ],
   "metadata": {
    "collapsed": false
   }
  },
  {
   "cell_type": "code",
   "execution_count": 101,
   "outputs": [
    {
     "name": "stdout",
     "output_type": "stream",
     "text": [
      "943\n",
      "1627\n",
      "75000\n"
     ]
    }
   ],
   "source": [
    "print(trainset.n_users)\n",
    "print(trainset.n_items)\n",
    "print(trainset.n_ratings)"
   ],
   "metadata": {
    "collapsed": false
   }
  },
  {
   "cell_type": "code",
   "execution_count": 102,
   "outputs": [],
   "source": [
    "train_data = np.array([(int(trainset.to_raw_uid(u)),\n",
    "                        int(trainset.to_raw_iid(i)),\n",
    "                        int(r)) for (u, i, r) in trainset.all_ratings()])\n",
    "\n",
    "test_data = np.array([(int(u), int(i), int(r)) for (u, i, r) in testset])"
   ],
   "metadata": {
    "collapsed": false
   }
  },
  {
   "cell_type": "code",
   "execution_count": 103,
   "outputs": [
    {
     "data": {
      "text/plain": "array([[ 254,  343,    2],\n       [ 254,  214,    1],\n       [ 254,  136,    4],\n       [ 254,  496,    4],\n       [ 254,  257,    3],\n       [ 254,  167,    3],\n       [ 254,  575,    3],\n       [ 254, 1183,    4],\n       [ 254,  951,    4],\n       [ 254,   28,    4]])"
     },
     "execution_count": 103,
     "metadata": {},
     "output_type": "execute_result"
    }
   ],
   "source": [
    "train_data[:10]"
   ],
   "metadata": {
    "collapsed": false
   }
  },
  {
   "cell_type": "markdown",
   "source": [
    "Параметры обучения"
   ],
   "metadata": {
    "collapsed": false
   }
  },
  {
   "cell_type": "code",
   "execution_count": 104,
   "outputs": [],
   "source": [
    "n_factors = 10\n",
    "n_epochs = 20\n",
    "lr = 0.005\n",
    "reg = 0.02"
   ],
   "metadata": {
    "collapsed": false
   }
  },
  {
   "cell_type": "markdown",
   "source": [
    "# Своя реализация"
   ],
   "metadata": {
    "collapsed": false
   }
  },
  {
   "cell_type": "code",
   "execution_count": 105,
   "outputs": [],
   "source": [
    "svd_custom = SVDCustom(\n",
    "    n_factors=n_factors,\n",
    "    n_epochs=n_epochs,\n",
    "    lr=lr,\n",
    "    reg=reg\n",
    ")"
   ],
   "metadata": {
    "collapsed": false
   }
  },
  {
   "cell_type": "code",
   "execution_count": 111,
   "outputs": [
    {
     "name": "stdout",
     "output_type": "stream",
     "text": [
      "1.17 s ± 22.4 ms per loop (mean ± std. dev. of 7 runs, 1 loop each)\n"
     ]
    }
   ],
   "source": [
    "%timeit svd_custom.fit(train_data)"
   ],
   "metadata": {
    "collapsed": false
   }
  },
  {
   "cell_type": "code",
   "execution_count": 93,
   "outputs": [],
   "source": [
    "rmse_custom, mae_custom = svd_custom.test(test_data)"
   ],
   "metadata": {
    "collapsed": false
   }
  },
  {
   "cell_type": "code",
   "execution_count": 109,
   "outputs": [
    {
     "name": "stdout",
     "output_type": "stream",
     "text": [
      "0.9724\n",
      "0.7651\n"
     ]
    }
   ],
   "source": [
    "print(round(rmse_custom,4))\n",
    "print(round(mae_custom,4))"
   ],
   "metadata": {
    "collapsed": false
   }
  },
  {
   "cell_type": "markdown",
   "source": [
    "# Библиотечная реализация"
   ],
   "metadata": {
    "collapsed": false
   }
  },
  {
   "cell_type": "code",
   "execution_count": 95,
   "outputs": [],
   "source": [
    "svd_surprise = SVD(n_factors=n_factors,\n",
    "                   n_epochs=n_epochs,\n",
    "                   lr_all=lr,\n",
    "                   reg_all=reg)"
   ],
   "metadata": {
    "collapsed": false
   }
  },
  {
   "cell_type": "code",
   "execution_count": 110,
   "outputs": [
    {
     "name": "stdout",
     "output_type": "stream",
     "text": [
      "95.3 ms ± 7.44 ms per loop (mean ± std. dev. of 7 runs, 10 loops each)\n"
     ]
    }
   ],
   "source": [
    "%timeit svd_surprise.fit(trainset)"
   ],
   "metadata": {
    "collapsed": false
   }
  },
  {
   "cell_type": "code",
   "execution_count": 97,
   "outputs": [],
   "source": [
    "predictions = svd_surprise.test(testset)"
   ],
   "metadata": {
    "collapsed": false
   }
  },
  {
   "cell_type": "code",
   "execution_count": 98,
   "outputs": [
    {
     "data": {
      "text/plain": "[Prediction(uid='120', iid='405', r_ui=4.0, est=3.412809037610637, details={'was_impossible': False}),\n Prediction(uid='83', iid='254', r_ui=2.0, est=2.513058757723105, details={'was_impossible': False}),\n Prediction(uid='559', iid='311', r_ui=3.0, est=3.607584305419473, details={'was_impossible': False}),\n Prediction(uid='263', iid='921', r_ui=3.0, est=4.366432661628452, details={'was_impossible': False}),\n Prediction(uid='198', iid='871', r_ui=1.0, est=1.865979078990469, details={'was_impossible': False}),\n Prediction(uid='72', iid='515', r_ui=4.0, est=4.331550319280693, details={'was_impossible': False}),\n Prediction(uid='705', iid='252', r_ui=1.0, est=3.338251419048947, details={'was_impossible': False}),\n Prediction(uid='102', iid='840', r_ui=2.0, est=2.2123970798116517, details={'was_impossible': False}),\n Prediction(uid='417', iid='685', r_ui=1.0, est=3.062594870790964, details={'was_impossible': False}),\n Prediction(uid='497', iid='550', r_ui=4.0, est=3.257597234233468, details={'was_impossible': False})]"
     },
     "execution_count": 98,
     "metadata": {},
     "output_type": "execute_result"
    }
   ],
   "source": [
    "predictions[:10]"
   ],
   "metadata": {
    "collapsed": false
   }
  },
  {
   "cell_type": "code",
   "execution_count": 99,
   "outputs": [
    {
     "name": "stdout",
     "output_type": "stream",
     "text": [
      "RMSE: 0.9339\n",
      "MAE:  0.7383\n"
     ]
    }
   ],
   "source": [
    "surprise_rmse = accuracy.rmse(predictions)\n",
    "surprise_mae = accuracy.mae(predictions)"
   ],
   "metadata": {
    "collapsed": false
   }
  },
  {
   "cell_type": "code",
   "execution_count": null,
   "outputs": [],
   "source": [],
   "metadata": {
    "collapsed": false
   }
  }
 ],
 "metadata": {
  "kernelspec": {
   "display_name": "Python 3",
   "language": "python",
   "name": "python3"
  },
  "language_info": {
   "codemirror_mode": {
    "name": "ipython",
    "version": 2
   },
   "file_extension": ".py",
   "mimetype": "text/x-python",
   "name": "python",
   "nbconvert_exporter": "python",
   "pygments_lexer": "ipython2",
   "version": "2.7.6"
  }
 },
 "nbformat": 4,
 "nbformat_minor": 0
}
