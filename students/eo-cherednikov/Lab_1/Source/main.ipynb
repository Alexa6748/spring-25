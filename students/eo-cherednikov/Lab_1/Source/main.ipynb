{
 "cells": [
  {
   "cell_type": "code",
   "id": "initial_id",
   "metadata": {
    "collapsed": true,
    "ExecuteTime": {
     "end_time": "2025-03-27T14:52:49.238669600Z",
     "start_time": "2025-03-27T14:52:49.191802300Z"
    }
   },
   "source": [
    "import time\n",
    "import numpy as np\n",
    "from sklearn.datasets import load_iris, load_wine\n",
    "from sklearn.model_selection import cross_val_score\n",
    "from sklearn.tree import DecisionTreeClassifier\n",
    "from sklearn.ensemble import BaggingClassifier as SklearnBaggingClassifier\n",
    "from bagging import BaggingClassifier"
   ],
   "outputs": [],
   "execution_count": 5
  },
  {
   "metadata": {
    "ExecuteTime": {
     "end_time": "2025-03-27T14:52:49.254296100Z",
     "start_time": "2025-03-27T14:52:49.207423300Z"
    }
   },
   "cell_type": "code",
   "source": [
    "datasets = {\n",
    "        \"Iris\": load_iris(return_X_y=True),\n",
    "        \"Wine\": load_wine(return_X_y=True)\n",
    "    }\n",
    "results = []"
   ],
   "id": "96ea09720ce3ab60",
   "outputs": [],
   "execution_count": 6
  },
  {
   "metadata": {
    "ExecuteTime": {
     "end_time": "2025-03-27T14:52:49.301171600Z",
     "start_time": "2025-03-27T14:52:49.269921100Z"
    }
   },
   "cell_type": "code",
   "source": [
    "def evaluate_model_cv(model, X, y, cv=5):\n",
    "    scores = cross_val_score(model, X, y, scoring='accuracy', cv=cv)\n",
    "    return np.mean(scores)\n",
    "\n",
    "def train_and_measure_time(model, X, y, cv=5):\n",
    "    start_time = time.time()\n",
    "    model.fit(X, y)\n",
    "    train_time = time.time() - start_time\n",
    "\n",
    "    score = evaluate_model_cv(model, X, y, cv=cv)\n",
    "    return train_time, score"
   ],
   "id": "207b89ad516db2f7",
   "outputs": [],
   "execution_count": 7
  },
  {
   "metadata": {
    "ExecuteTime": {
     "end_time": "2025-03-27T14:53:27.396360300Z",
     "start_time": "2025-03-27T14:52:49.301171600Z"
    }
   },
   "cell_type": "code",
   "source": [
    "for ds_name, (X, y) in datasets.items():\n",
    "    print(f\"\\n=== Dataset: {ds_name} ===\")\n",
    "\n",
    "    my_model = BaggingClassifier(\n",
    "        estimator=DecisionTreeClassifier(),\n",
    "        n_estimators=10,\n",
    "        accuracy_threshold=0.6,\n",
    "        random_state=42,\n",
    "        n_jobs=2\n",
    "    )\n",
    "\n",
    "    try:\n",
    "        my_time, my_score = train_and_measure_time(my_model, X, y, cv=5)\n",
    "        print(f\"CustomBagging:       time={my_time:.4f} s,  accuracy(cv)={my_score:.4f}\")\n",
    "    except TimeoutError as e:\n",
    "        my_time = None\n",
    "        my_score = None\n",
    "        print(f\"CustomBagging:       FAILED (TimeoutError)\")\n",
    "\n",
    "    sklearn_model = SklearnBaggingClassifier(\n",
    "        estimator=DecisionTreeClassifier(),\n",
    "        n_estimators=10,\n",
    "        random_state=42,\n",
    "        n_jobs=2\n",
    "    )\n",
    "    sk_time, sk_score = train_and_measure_time(sklearn_model, X, y, cv=5)\n",
    "    print(f\"SklearnBagging:  time={sk_time:.4f} s,  accuracy(cv)={sk_score:.4f}\")\n",
    "    results.append((ds_name, my_time, my_score, sk_time, sk_score))"
   ],
   "id": "af3872cf89237e72",
   "outputs": [
    {
     "name": "stdout",
     "output_type": "stream",
     "text": [
      "\n",
      "=== Dataset: Iris ===\n",
      "CustomBagging:       time=5.5206 s,  accuracy(cv)=0.9133\n",
      "SklearnBagging:  time=5.3044 s,  accuracy(cv)=0.9533\n",
      "\n",
      "=== Dataset: Wine ===\n",
      "CustomBagging:       time=0.0237 s,  accuracy(cv)=0.9046\n",
      "SklearnBagging:  time=10.3730 s,  accuracy(cv)=0.9386\n"
     ]
    }
   ],
   "execution_count": 8
  }
 ],
 "metadata": {
  "kernelspec": {
   "display_name": "Python 3",
   "language": "python",
   "name": "python3"
  },
  "language_info": {
   "codemirror_mode": {
    "name": "ipython",
    "version": 2
   },
   "file_extension": ".py",
   "mimetype": "text/x-python",
   "name": "python",
   "nbconvert_exporter": "python",
   "pygments_lexer": "ipython2",
   "version": "2.7.6"
  }
 },
 "nbformat": 4,
 "nbformat_minor": 5
}
