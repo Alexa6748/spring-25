{
 "cells": [
  {
   "cell_type": "code",
   "id": "initial_id",
   "metadata": {
    "collapsed": true,
    "ExecuteTime": {
     "end_time": "2025-04-10T00:51:53.882676Z",
     "start_time": "2025-04-10T00:51:53.880Z"
    }
   },
   "source": [
    "import pandas as pd\n",
    "from sklearn.preprocessing import StandardScaler\n",
    "from sklearn.compose import ColumnTransformer\n",
    "from sklearn.preprocessing import OneHotEncoder\n",
    "from sklearn.ensemble import GradientBoostingClassifier, GradientBoostingRegressor\n",
    "from sklearn.metrics import accuracy_score, r2_score\n",
    "from sklearn.model_selection import train_test_split, cross_val_score, KFold\n",
    "import time\n",
    "from Boosting import *"
   ],
   "outputs": [],
   "execution_count": 11
  },
  {
   "metadata": {
    "ExecuteTime": {
     "end_time": "2025-04-10T00:51:53.900129Z",
     "start_time": "2025-04-10T00:51:53.897326Z"
    }
   },
   "cell_type": "code",
   "source": [
    "def custom_cross_val_score(model_class, X, y, cv=5, **model_params):\n",
    "    scores = []\n",
    "    kf = KFold(n_splits=cv, shuffle=True, random_state=42)\n",
    "\n",
    "    for train_idx, test_idx in kf.split(X):\n",
    "        X_train, X_test = X.iloc[train_idx], X.iloc[test_idx]\n",
    "        y_train, y_test = y.iloc[train_idx], y.iloc[test_idx]\n",
    "\n",
    "        model = model_class(**model_params)\n",
    "        model.fit(X_train, y_train)\n",
    "        preds = model.predict(X_test)\n",
    "\n",
    "        scores.append(accuracy_score(y_test, preds))\n",
    "\n",
    "    return np.mean(scores)"
   ],
   "id": "936b953a1ffe2e5f",
   "outputs": [],
   "execution_count": 12
  },
  {
   "metadata": {
    "ExecuteTime": {
     "end_time": "2025-04-10T00:51:54.141716Z",
     "start_time": "2025-04-10T00:51:53.942181Z"
    }
   },
   "cell_type": "code",
   "source": [
    "diabetes_df = pd.read_csv(\"diabetes.csv\")\n",
    "X_clf = diabetes_df.drop(\"Outcome\", axis=1).values\n",
    "y_clf = diabetes_df[\"Outcome\"].values\n",
    "\n",
    "X_train_clf, X_test_clf, y_train_clf, y_test_clf = train_test_split(\n",
    "    X_clf, y_clf, test_size=0.3, random_state=42\n",
    ")\n",
    "\n",
    "start_time = time.time()\n",
    "custom_gb_clf = CustomGradientBoosting(\n",
    "    n_estimators=100,\n",
    "    learning_rate=0.1,\n",
    "    max_depth=3,\n",
    "    task_type=TaskType.CLASSIFICATION\n",
    ")\n",
    "\n",
    "custom_gb_clf.fit(X_train_clf, y_train_clf)\n",
    "train_time = time.time() - start_time\n",
    "\n",
    "y_pred_clf = custom_gb_clf.predict(X_test_clf)\n",
    "acc_custom = accuracy_score(y_test_clf, y_pred_clf)\n",
    "\n",
    "print(\"=== Custom GB Classifier (Single train/test split) ===\")\n",
    "print(f\"Accuracy: {acc_custom:.4f}\")\n",
    "print(f\"Training time: {train_time:.4f} сек.\\n\")\n",
    "\n",
    "\n",
    "start_time = time.time()\n",
    "sk_gb_clf = GradientBoostingClassifier(\n",
    "    n_estimators=100, learning_rate=0.1, max_depth=3, random_state=42\n",
    ")\n",
    "sk_gb_clf.fit(X_train_clf, y_train_clf)\n",
    "train_time_sklearn = time.time() - start_time\n",
    "\n",
    "y_pred_clf_sklearn = sk_gb_clf.predict(X_test_clf)\n",
    "acc_sklearn = accuracy_score(y_test_clf, y_pred_clf_sklearn)\n",
    "\n",
    "print(\"=== Sklearn GB Classifier (Single train/test split) ===\")\n",
    "print(f\"Accuracy: {acc_sklearn:.4f}\")\n",
    "print(f\"Training time: {train_time_sklearn:.4f} сек.\\n\")"
   ],
   "id": "7e1c9ae944810bfa",
   "outputs": [
    {
     "name": "stdout",
     "output_type": "stream",
     "text": [
      "=== Custom GB Classifier (Single train/test split) ===\n",
      "Accuracy: 0.7143\n",
      "Training time: 0.0936 сек.\n",
      "\n",
      "=== Sklearn GB Classifier (Single train/test split) ===\n",
      "Accuracy: 0.7489\n",
      "Training time: 0.0924 сек.\n",
      "\n"
     ]
    }
   ],
   "execution_count": 13
  },
  {
   "metadata": {
    "ExecuteTime": {
     "end_time": "2025-04-10T00:51:54.222630Z",
     "start_time": "2025-04-10T00:51:54.220017Z"
    }
   },
   "cell_type": "code",
   "source": [
    "from sklearn.preprocessing import LabelEncoder\n",
    "encoder = LabelEncoder()"
   ],
   "id": "6cc9a4e2252f6cc9",
   "outputs": [],
   "execution_count": 14
  },
  {
   "metadata": {
    "ExecuteTime": {
     "end_time": "2025-04-10T00:51:54.461835Z",
     "start_time": "2025-04-10T00:51:54.243608Z"
    }
   },
   "cell_type": "code",
   "source": [
    "housing_df = pd.read_csv(\"housing.csv\")\n",
    "X_reg = housing_df.drop(\"price\", axis=1)\n",
    "for column in X_reg.columns:\n",
    "    X_reg[column] = encoder.fit_transform(X_reg[column])\n",
    "y_reg = housing_df[\"price\"].values\n",
    "\n",
    "X_train_reg, X_test_reg, y_train_reg, y_test_reg = train_test_split(\n",
    "    X_reg, y_reg, test_size=0.2, random_state=42\n",
    ")\n",
    "\n",
    "custom_gb_reg = CustomGradientBoosting(\n",
    "    n_estimators=100,\n",
    "    learning_rate=0.1,\n",
    "    max_depth=3,\n",
    "    task_type=TaskType.REGRESSION\n",
    ")\n",
    "\n",
    "start_time = time.time()\n",
    "custom_gb_reg.fit(X_train_reg, y_train_reg)\n",
    "train_time_reg = time.time() - start_time\n",
    "\n",
    "y_pred_reg = custom_gb_reg.predict(X_test_reg)\n",
    "r2_custom = r2_score(y_test_reg, y_pred_reg)\n",
    "\n",
    "print(\"=== Custom GB Regressor (Single train/test split) ===\")\n",
    "print(f\"R^2: {r2_custom:.4f}\")\n",
    "print(f\"Training time: {train_time_reg:.4f} сек.\\n\")\n",
    "\n",
    "# Сравниваем со sklearn\n",
    "sk_gb_reg = GradientBoostingRegressor(\n",
    "    n_estimators=100, learning_rate=0.1, max_depth=3, random_state=42\n",
    ")\n",
    "\n",
    "start_time = time.time()\n",
    "sk_gb_reg.fit(X_train_reg, y_train_reg)\n",
    "train_time_reg_sklearn = time.time() - start_time\n",
    "\n",
    "y_pred_reg_sklearn = sk_gb_reg.predict(X_test_reg)\n",
    "r2_sklearn = r2_score(y_test_reg, y_pred_reg_sklearn)\n",
    "\n",
    "print(\"=== Sklearn GB Regressor (Single train/test split) ===\")\n",
    "print(f\"R^2: {r2_sklearn:.4f}\")\n",
    "print(f\"Training time: {train_time_reg_sklearn:.4f} сек.\\n\")"
   ],
   "id": "945d3436af785133",
   "outputs": [
    {
     "name": "stdout",
     "output_type": "stream",
     "text": [
      "=== Custom GB Regressor (Single train/test split) ===\n",
      "R^2: 0.6557\n",
      "Training time: 0.1207 сек.\n",
      "\n",
      "=== Sklearn GB Regressor (Single train/test split) ===\n",
      "R^2: 0.6556\n",
      "Training time: 0.0450 сек.\n",
      "\n"
     ]
    }
   ],
   "execution_count": 15
  }
 ],
 "metadata": {
  "kernelspec": {
   "display_name": "Python 3",
   "language": "python",
   "name": "python3"
  },
  "language_info": {
   "codemirror_mode": {
    "name": "ipython",
    "version": 2
   },
   "file_extension": ".py",
   "mimetype": "text/x-python",
   "name": "python",
   "nbconvert_exporter": "python",
   "pygments_lexer": "ipython2",
   "version": "2.7.6"
  }
 },
 "nbformat": 4,
 "nbformat_minor": 5
}
