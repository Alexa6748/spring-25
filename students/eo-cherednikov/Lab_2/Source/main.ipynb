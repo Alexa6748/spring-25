{
 "cells": [
  {
   "cell_type": "code",
   "id": "initial_id",
   "metadata": {
    "collapsed": true,
    "ExecuteTime": {
     "end_time": "2025-04-10T20:50:26.204201900Z",
     "start_time": "2025-04-10T20:50:26.188573200Z"
    }
   },
   "source": [
    "import pandas as pd\n",
    "from sklearn.ensemble import GradientBoostingClassifier, GradientBoostingRegressor\n",
    "from sklearn.metrics import accuracy_score, r2_score\n",
    "from sklearn.model_selection import train_test_split, cross_val_score, KFold\n",
    "import time\n",
    "from Boosting import *"
   ],
   "outputs": [],
   "execution_count": 19
  },
  {
   "metadata": {
    "ExecuteTime": {
     "end_time": "2025-04-10T20:50:26.225835800Z",
     "start_time": "2025-04-10T20:50:26.221243400Z"
    }
   },
   "cell_type": "code",
   "source": [
    "def custom_cross_val_score(model_class, X, y, cv=5, **model_params):\n",
    "    scores = []\n",
    "    kf = KFold(n_splits=cv, shuffle=True, random_state=42)\n",
    "\n",
    "    for train_idx, test_idx in kf.split(X):\n",
    "        X_train, X_test = X.iloc[train_idx], X.iloc[test_idx]\n",
    "        y_train, y_test = y.iloc[train_idx], y.iloc[test_idx]\n",
    "\n",
    "        model = model_class(**model_params)\n",
    "        model.fit(X_train, y_train)\n",
    "        preds = model.predict(X_test)\n",
    "\n",
    "        scores.append(accuracy_score(y_test, preds))\n",
    "\n",
    "    return np.mean(scores)"
   ],
   "id": "936b953a1ffe2e5f",
   "outputs": [],
   "execution_count": 20
  },
  {
   "metadata": {
    "ExecuteTime": {
     "end_time": "2025-04-10T20:50:33.620486300Z",
     "start_time": "2025-04-10T20:50:26.241469500Z"
    }
   },
   "cell_type": "code",
   "source": [
    "diabetes_df = pd.read_csv(\"diabetes.csv\")\n",
    "X_clf = diabetes_df.drop(\"Outcome\", axis=1)\n",
    "y_clf = diabetes_df[\"Outcome\"]\n",
    "\n",
    "X_train_clf, X_test_clf, y_train_clf, y_test_clf = train_test_split(\n",
    "    X_clf, y_clf, test_size=0.2, random_state=33\n",
    ")\n",
    "\n",
    "start_time = time.time()\n",
    "custom_gb_clf = CustomGradientBoosting(\n",
    "    n_estimators=100,\n",
    "    learning_rate=0.1,\n",
    "    max_depth=5,\n",
    "    task_type=TaskType.CLASSIFICATION\n",
    ")\n",
    "\n",
    "custom_gb_clf.fit(X_train_clf, y_train_clf)\n",
    "train_time = time.time() - start_time\n",
    "\n",
    "y_pred_clf = custom_gb_clf.predict(X_test_clf)\n",
    "acc_custom = accuracy_score(y_test_clf, y_pred_clf)\n",
    "acc_custom_cv = custom_cross_val_score(CustomGradientBoosting, X_clf, y_clf, cv=5, n_estimators=100, learning_rate=0.1, max_depth=5, task_type=TaskType.CLASSIFICATION)\n",
    "\n",
    "\n",
    "print(\"=== Custom GB Classifier (Single train/test split) ===\")\n",
    "print(f\"Accuracy: {acc_custom:.4f}\")\n",
    "print(f\"Accuracy CV: {acc_custom_cv:.4f}\")\n",
    "print(f\"Training time: {train_time:.4f} сек.\\n\")\n",
    "\n",
    "\n",
    "start_time = time.time()\n",
    "sk_gb_clf = GradientBoostingClassifier(\n",
    "    n_estimators=100, learning_rate=0.1, max_depth=5, random_state=32\n",
    ")\n",
    "sk_gb_clf.fit(X_train_clf, y_train_clf)\n",
    "train_time_sklearn = time.time() - start_time\n",
    "\n",
    "y_pred_clf_sklearn = sk_gb_clf.predict(X_test_clf)\n",
    "acc_sklearn = accuracy_score(y_test_clf, y_pred_clf_sklearn)\n",
    "acc_sklearn_cv = cross_val_score(sk_gb_clf, X_clf, y_clf, cv=5)\n",
    "\n",
    "print(\"=== Sklearn GB Classifier (Single train/test split) ===\")\n",
    "print(f\"Accuracy: {acc_sklearn:.4f}\")\n",
    "print(f\"Accuracy CV: {acc_sklearn_cv.mean():.4f}\")\n",
    "print(f\"Training time: {train_time_sklearn:.4f} сек.\\n\")"
   ],
   "id": "7e1c9ae944810bfa",
   "outputs": [
    {
     "name": "stdout",
     "output_type": "stream",
     "text": [
      "=== Custom GB Classifier (Single train/test split) ===\n",
      "Accuracy: 0.6818\n",
      "Accuracy CV: 0.7617\n",
      "Training time: 0.9251 сек.\n",
      "\n",
      "=== Sklearn GB Classifier (Single train/test split) ===\n",
      "Accuracy: 0.7403\n",
      "Accuracy CV: 0.7761\n",
      "Training time: 0.4801 сек.\n",
      "\n"
     ]
    }
   ],
   "execution_count": 21
  },
  {
   "metadata": {
    "ExecuteTime": {
     "end_time": "2025-04-10T20:50:34.457794900Z",
     "start_time": "2025-04-10T20:50:33.651713700Z"
    }
   },
   "cell_type": "code",
   "source": [
    "housing_df = pd.read_csv(\"housing.csv\")\n",
    "X_reg = housing_df.drop(\"price\", axis=1)\n",
    "binary_cols = ['mainroad', 'guestroom', 'basement', 'hotwaterheating', 'airconditioning', 'prefarea']\n",
    "X_reg[binary_cols] = X_reg[binary_cols].replace({'yes': 1, 'no': 0})\n",
    "X_reg = pd.get_dummies(X_reg, columns=['furnishingstatus'], drop_first=True)\n",
    "y_reg = housing_df[\"price\"].values\n",
    "\n",
    "X_train_reg, X_test_reg, y_train_reg, y_test_reg = train_test_split(\n",
    "    X_reg, y_reg, test_size=0.2, random_state=42\n",
    ")\n",
    "\n",
    "custom_gb_reg = CustomGradientBoosting(\n",
    "    n_estimators=100,\n",
    "    learning_rate=0.1,\n",
    "    max_depth=5,\n",
    "    task_type=TaskType.REGRESSION\n",
    ")\n",
    "\n",
    "start_time = time.time()\n",
    "custom_gb_reg.fit(X_train_reg, y_train_reg)\n",
    "train_time_reg = time.time() - start_time\n",
    "\n",
    "y_pred_reg = custom_gb_reg.predict(X_test_reg)\n",
    "r2_custom = r2_score(y_test_reg, y_pred_reg)\n",
    "\n",
    "print(\"=== Custom GB Regressor (Single train/test split) ===\")\n",
    "print(f\"R^2: {r2_custom:.4f}\")\n",
    "print(f\"Training time: {train_time_reg:.4f} сек.\\n\")\n",
    "\n",
    "sk_gb_reg = GradientBoostingRegressor(\n",
    "    n_estimators=100, learning_rate=0.1, max_depth=5, random_state=42\n",
    ")\n",
    "\n",
    "start_time = time.time()\n",
    "sk_gb_reg.fit(X_train_reg, y_train_reg)\n",
    "train_time_reg_sklearn = time.time() - start_time\n",
    "\n",
    "y_pred_reg_sklearn = sk_gb_reg.predict(X_test_reg)\n",
    "r2_sklearn = r2_score(y_test_reg, y_pred_reg_sklearn)\n",
    "\n",
    "\n",
    "print(\"=== Sklearn GB Regressor (Single train/test split) ===\")\n",
    "print(f\"R^2: {r2_sklearn:.4f}\")\n",
    "print(f\"Training time: {train_time_reg_sklearn:.4f} сек.\\n\")"
   ],
   "id": "945d3436af785133",
   "outputs": [
    {
     "name": "stdout",
     "output_type": "stream",
     "text": [
      "=== Custom GB Regressor (Single train/test split) ===\n",
      "R^2: 0.6338\n",
      "Training time: 0.4568 сек.\n",
      "\n",
      "=== Sklearn GB Regressor (Single train/test split) ===\n",
      "R^2: 0.6321\n",
      "Training time: 0.1617 сек.\n",
      "\n"
     ]
    }
   ],
   "execution_count": 23
  }
 ],
 "metadata": {
  "kernelspec": {
   "display_name": "Python 3",
   "language": "python",
   "name": "python3"
  },
  "language_info": {
   "codemirror_mode": {
    "name": "ipython",
    "version": 2
   },
   "file_extension": ".py",
   "mimetype": "text/x-python",
   "name": "python",
   "nbconvert_exporter": "python",
   "pygments_lexer": "ipython2",
   "version": "2.7.6"
  }
 },
 "nbformat": 4,
 "nbformat_minor": 5
}
