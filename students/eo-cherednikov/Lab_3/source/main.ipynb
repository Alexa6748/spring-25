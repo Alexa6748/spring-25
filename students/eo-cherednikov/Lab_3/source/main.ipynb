{
 "cells": [
  {
   "cell_type": "code",
   "metadata": {
    "collapsed": true,
    "ExecuteTime": {
     "end_time": "2025-05-16T01:09:45.217390Z",
     "start_time": "2025-05-16T01:09:45.214697Z"
    }
   },
   "source": [
    "import numpy as np\n",
    "import pandas as pd\n",
    "from sklearn.model_selection import train_test_split, cross_val_score, KFold\n",
    "from NaiveBayes import GaussianNBClassifier as CustomNBClassifier\n",
    "from sklearn.metrics import accuracy_score, classification_report, confusion_matrix\n",
    "import time\n",
    "from sklearn.naive_bayes import GaussianNB\n",
    "from sklearn.preprocessing import LabelEncoder\n",
    "encoder = LabelEncoder()"
   ],
   "outputs": [],
   "execution_count": 23
  },
  {
   "cell_type": "code",
   "source": [
    "data = pd.read_csv('./titanic.csv')\n",
    "\n",
    "features = [\"Pclass\", \"Sex\", \"Age\", \"SibSp\", \"Parch\", \"Fare\", \"Embarked\"]\n",
    "target = \"Survived\"\n",
    "\n",
    "X = data[features]\n",
    "y = data[target]\n",
    "\n",
    "X = pd.get_dummies(X, columns=[\"Sex\", \"Embarked\"])\n",
    "\n",
    "X[\"Age\"] = X[\"Age\"].fillna(X[\"Age\"].median())\n",
    "X[\"Fare\"] = X[\"Fare\"].fillna(X[\"Fare\"].median())\n",
    "\n",
    "# for column in X.columns:\n",
    "#     X[column] = encoder.fit_transform(X[column])\n",
    "\n",
    "X_train, X_test, y_train, y_test = train_test_split(X, y, test_size=0.2, random_state=42)"
   ],
   "metadata": {
    "collapsed": false,
    "ExecuteTime": {
     "end_time": "2025-05-16T01:09:45.227625Z",
     "start_time": "2025-05-16T01:09:45.220446Z"
    }
   },
   "outputs": [],
   "execution_count": 24
  },
  {
   "cell_type": "code",
   "source": [
    "custom_nb = CustomNBClassifier()\n",
    "custom_start_time = time.time()\n",
    "custom_nb.fit(X_train, y_train)\n",
    "custom_train_time = time.time() - custom_start_time\n",
    "print(f\"Custom model training time: {custom_train_time:.3f} seconds\")"
   ],
   "metadata": {
    "collapsed": false,
    "ExecuteTime": {
     "end_time": "2025-05-16T01:09:45.243853Z",
     "start_time": "2025-05-16T01:09:45.239445Z"
    }
   },
   "outputs": [
    {
     "name": "stdout",
     "output_type": "stream",
     "text": [
      "Custom model training time: 0.002 seconds\n"
     ]
    }
   ],
   "execution_count": 25
  },
  {
   "metadata": {
    "ExecuteTime": {
     "end_time": "2025-05-16T01:09:45.312810Z",
     "start_time": "2025-05-16T01:09:45.307373Z"
    }
   },
   "cell_type": "code",
   "source": [
    "custom_pred = custom_nb.predict(X_test)\n",
    "custom_accuracy = accuracy_score(y_test, custom_pred)\n",
    "print(f\"Custom model accuracy: {custom_accuracy:.3f}\")"
   ],
   "outputs": [
    {
     "name": "stdout",
     "output_type": "stream",
     "text": [
      "Custom model accuracy: 0.777\n"
     ]
    }
   ],
   "execution_count": 26
  },
  {
   "metadata": {
    "ExecuteTime": {
     "end_time": "2025-05-16T01:09:45.420420Z",
     "start_time": "2025-05-16T01:09:45.393212Z"
    }
   },
   "cell_type": "code",
   "source": [
    "k_fold = KFold(n_splits=5, shuffle=True, random_state=42)\n",
    "custom_cv_scores = []\n",
    "\n",
    "custom_cv_start_time = time.time()\n",
    "for train_idx, test_idx in k_fold.split(X):\n",
    "    X_fold_train, X_fold_test = X.iloc[train_idx], X.iloc[test_idx]\n",
    "    y_fold_train, y_fold_test = y.iloc[train_idx], y.iloc[test_idx]\n",
    "\n",
    "    model = CustomNBClassifier()\n",
    "    model.fit(X_fold_train, y_fold_train)\n",
    "    predictions = model.predict(X_fold_test)\n",
    "    custom_cv_scores.append(accuracy_score(y_fold_test, predictions))\n",
    "\n",
    "custom_cv_time = time.time() - custom_cv_start_time\n",
    "print(f\"Custom model CV accuracy: {np.mean(custom_cv_scores):.3f} (±{np.std(custom_cv_scores):.3f})\")\n",
    "print(f\"Custom model CV time: {custom_cv_time:.3f} seconds\")"
   ],
   "outputs": [
    {
     "name": "stdout",
     "output_type": "stream",
     "text": [
      "Custom model CV accuracy: 0.789 (±0.024)\n",
      "Custom model CV time: 0.023 seconds\n"
     ]
    }
   ],
   "execution_count": 27
  },
  {
   "metadata": {
    "ExecuteTime": {
     "end_time": "2025-05-16T01:09:45.439549Z",
     "start_time": "2025-05-16T01:09:45.434522Z"
    }
   },
   "cell_type": "code",
   "source": [
    "sklearn_nb = GaussianNB()\n",
    "sklearn_start_time = time.time()\n",
    "sklearn_nb.fit(X_train, y_train)\n",
    "sklearn_train_time = time.time() - sklearn_start_time\n",
    "print(f\"Scikit-learn training time: {sklearn_train_time:.3f} seconds\")"
   ],
   "outputs": [
    {
     "name": "stdout",
     "output_type": "stream",
     "text": [
      "Scikit-learn training time: 0.002 seconds\n"
     ]
    }
   ],
   "execution_count": 28
  },
  {
   "metadata": {
    "ExecuteTime": {
     "end_time": "2025-05-16T01:09:45.457387Z",
     "start_time": "2025-05-16T01:09:45.453642Z"
    }
   },
   "cell_type": "code",
   "source": [
    "sklearn_predictions = sklearn_nb.predict(X_test)\n",
    "sklearn_accuracy = accuracy_score(y_test, sklearn_predictions)\n",
    "print(f\"Scikit-learn model accuracy: {sklearn_accuracy:.3f}\")"
   ],
   "outputs": [
    {
     "name": "stdout",
     "output_type": "stream",
     "text": [
      "Scikit-learn model accuracy: 0.777\n"
     ]
    }
   ],
   "execution_count": 29
  },
  {
   "metadata": {
    "ExecuteTime": {
     "end_time": "2025-05-16T01:09:45.486573Z",
     "start_time": "2025-05-16T01:09:45.471825Z"
    }
   },
   "cell_type": "code",
   "source": [
    "sklearn_cv_start_time = time.time()\n",
    "sklearn_cv_scores = cross_val_score(GaussianNB(), X, y, cv=k_fold)\n",
    "sklearn_cv_time = time.time() - sklearn_cv_start_time\n",
    "print(f\"Scikit-learn CV accuracy: {np.mean(sklearn_cv_scores):.3f} (±{np.std(sklearn_cv_scores):.3f})\")\n",
    "print(f\"Scikit-learn CV time: {sklearn_cv_time:.3f} seconds\")"
   ],
   "outputs": [
    {
     "name": "stdout",
     "output_type": "stream",
     "text": [
      "Scikit-learn CV accuracy: 0.789 (±0.024)\n",
      "Scikit-learn CV time: 0.012 seconds\n"
     ]
    }
   ],
   "execution_count": 30
  },
  {
   "metadata": {
    "ExecuteTime": {
     "end_time": "2025-05-16T01:09:45.503468Z",
     "start_time": "2025-05-16T01:09:45.500950Z"
    }
   },
   "cell_type": "code",
   "source": [
    "print(f\"Training time: Custom is {custom_train_time/sklearn_train_time:.3f}x slower than scikit-learn\")\n",
    "print(f\"CV time: Custom is {custom_cv_time/sklearn_cv_time:.3f}x slower than scikit-learn\")\n",
    "print(f\"Accuracy difference: {custom_accuracy - sklearn_accuracy:.3f}\")\n",
    "print(f\"CV accuracy difference: {np.mean(custom_cv_scores) - np.mean(sklearn_cv_scores):.3f}\")"
   ],
   "outputs": [
    {
     "name": "stdout",
     "output_type": "stream",
     "text": [
      "Training time: Custom is 0.858x slower than scikit-learn\n",
      "CV time: Custom is 1.906x slower than scikit-learn\n",
      "Accuracy difference: 0.000\n",
      "CV accuracy difference: 0.000\n"
     ]
    }
   ],
   "execution_count": 31
  }
 ],
 "metadata": {
  "kernelspec": {
   "display_name": "Python 3",
   "language": "python",
   "name": "python3"
  },
  "language_info": {
   "codemirror_mode": {
    "name": "ipython",
    "version": 2
   },
   "file_extension": ".py",
   "mimetype": "text/x-python",
   "name": "python",
   "nbconvert_exporter": "python",
   "pygments_lexer": "ipython2",
   "version": "2.7.6"
  }
 },
 "nbformat": 4,
 "nbformat_minor": 0
}
