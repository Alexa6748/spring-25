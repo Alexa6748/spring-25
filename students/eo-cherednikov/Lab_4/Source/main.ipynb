{
 "cells": [
  {
   "metadata": {
    "ExecuteTime": {
     "end_time": "2025-05-22T12:46:43.033694Z",
     "start_time": "2025-05-22T12:46:42.225908Z"
    }
   },
   "cell_type": "code",
   "source": [
    "import pandas as pd\n",
    "from sklearn.feature_extraction.text import CountVectorizer\n",
    "from latentDirichletLatentAllocation import LDA as CustomLDA\n",
    "import time\n",
    "from gensim.models import CoherenceModel\n",
    "from gensim.corpora import Dictionary"
   ],
   "id": "62e35c4fd253e753",
   "outputs": [],
   "execution_count": 1
  },
  {
   "metadata": {
    "ExecuteTime": {
     "end_time": "2025-05-22T12:46:43.173338Z",
     "start_time": "2025-05-22T12:46:43.035696Z"
    }
   },
   "cell_type": "code",
   "source": [
    "df = pd.read_csv(\"bbc_news.csv\")\n",
    "documents = df['description'].tolist()[:600]\n",
    "\n",
    "vectorizer = CountVectorizer(max_df=0.85, min_df=2, stop_words=\"english\")\n",
    "X = vectorizer.fit_transform(documents)\n",
    "vocab = vectorizer.get_feature_names_out()"
   ],
   "id": "9a72476ef24f1ff1",
   "outputs": [],
   "execution_count": 2
  },
  {
   "metadata": {
    "ExecuteTime": {
     "end_time": "2025-05-22T12:46:44.954755Z",
     "start_time": "2025-05-22T12:46:43.266241Z"
    }
   },
   "cell_type": "code",
   "source": [
    "num_topics = 5\n",
    "max_iter = 50\n",
    "\n",
    "start_time = time.time()\n",
    "lda_custom = CustomLDA(num_topics=num_topics, max_iter=max_iter)\n",
    "lda_custom.fit(documents)\n",
    "custom_time = time.time() - start_time\n",
    "\n",
    "print(f\"Custom realisation time: {custom_time:.3f}\")\n",
    "for topic_id, words in enumerate(lda_custom.get_top_words(n_words=5)):\n",
    "    print(f\"Topic {topic_id}: {words}\")"
   ],
   "id": "558986bccdb2924d",
   "outputs": [
    {
     "name": "stdout",
     "output_type": "stream",
     "text": [
      "Custom realisation time: 1.683\n",
      "Topic 0: ['says', 'help', 'years', 'ukraine', 'johnson']\n",
      "Topic 1: ['world', 'says', 'chelsea', 'russian', 'women']\n",
      "Topic 2: ['ukraine', 'russian', 'ukrainian', 'war', 'uk']\n",
      "Topic 3: ['russia', 'england', 'west', 'ukraine', 'president']\n",
      "Topic 4: ['country', 'old', 'ukraine', 'year', 'war']\n"
     ]
    }
   ],
   "execution_count": 3
  },
  {
   "metadata": {
    "ExecuteTime": {
     "end_time": "2025-05-22T12:46:55.695844Z",
     "start_time": "2025-05-22T12:46:44.960170Z"
    }
   },
   "cell_type": "code",
   "source": [
    "texts = [doc.lower().split() for doc in documents]\n",
    "dictionary = Dictionary(texts)\n",
    "corpus = [dictionary.doc2bow(text) for text in texts]\n",
    "\n",
    "topics_custom = lda_custom.get_top_words(n_words=10)\n",
    "topics_as_tokens = [[word for word in topic] for topic in topics_custom]\n",
    "coherence_model = CoherenceModel(\n",
    "    topics=topics_as_tokens,\n",
    "    texts=texts,\n",
    "    dictionary=dictionary,\n",
    "    coherence=\"c_v\"\n",
    ")\n",
    "custom_coherence = coherence_model.get_coherence()\n",
    "print(f\"Когерентность (custom): {custom_coherence:.3f}\")"
   ],
   "id": "2299e0d16c2d6200",
   "outputs": [
    {
     "name": "stdout",
     "output_type": "stream",
     "text": [
      "Когерентность (custom): 0.394\n"
     ]
    }
   ],
   "execution_count": 4
  },
  {
   "metadata": {
    "ExecuteTime": {
     "end_time": "2025-05-22T12:46:56.946131Z",
     "start_time": "2025-05-22T12:46:55.702358Z"
    }
   },
   "cell_type": "code",
   "source": [
    "from sklearn.decomposition import LatentDirichletAllocation\n",
    "\n",
    "start_time = time.time()\n",
    "lda_sklearn = LatentDirichletAllocation(\n",
    "    n_components=num_topics,\n",
    "    max_iter=max_iter,\n",
    "    learning_method=\"online\",\n",
    "    random_state=47\n",
    ")\n",
    "lda_sklearn.fit(X)\n",
    "sklearn_time = time.time() - start_time\n",
    "\n",
    "print(f\"\\nScikit-learn time: {sklearn_time:.3f}\")\n",
    "for topic_id, topic in enumerate(lda_sklearn.components_):\n",
    "    top_words = [vocab[i] for i in topic.argsort()[-5:][::-1]]\n",
    "    print(f\"topic {topic_id}: {top_words}\")"
   ],
   "id": "c77489e758bed4af",
   "outputs": [
    {
     "name": "stdout",
     "output_type": "stream",
     "text": [
      "\n",
      "Scikit-learn time: 1.184\n",
      "topic 0: ['russian', 'world', 'ukraine', 'war', 'old']\n",
      "topic 1: ['says', 'league', 'say', 'war', 'finals']\n",
      "topic 2: ['ukraine', 'uk', 'russia', 'ukrainian', 'children']\n",
      "topic 3: ['ukraine', 'says', 'social', 'bbc', 'thousands']\n",
      "topic 4: ['england', 'russia', 'west', 'ukraine', 'indies']\n"
     ]
    }
   ],
   "execution_count": 5
  },
  {
   "metadata": {
    "ExecuteTime": {
     "end_time": "2025-05-22T12:47:07.680896Z",
     "start_time": "2025-05-22T12:46:56.953662Z"
    }
   },
   "cell_type": "code",
   "source": [
    "topics_sklearn = []\n",
    "for topic in lda_sklearn.components_:\n",
    "    top_words = [vocab[i] for i in topic.argsort()[-10:][::-1]]\n",
    "    topics_sklearn.append(top_words)\n",
    "\n",
    "coherence_model = CoherenceModel(\n",
    "    topics=topics_sklearn,\n",
    "    texts=texts,\n",
    "    dictionary=dictionary,\n",
    "    coherence=\"c_v\"\n",
    ")\n",
    "sklearn_coherence = coherence_model.get_coherence()\n",
    "print(f\"Когерентность (sklearn): {sklearn_coherence:.3f}\")"
   ],
   "id": "5deb93d2f8a8450e",
   "outputs": [
    {
     "name": "stdout",
     "output_type": "stream",
     "text": [
      "Когерентность (sklearn): 0.372\n"
     ]
    }
   ],
   "execution_count": 6
  }
 ],
 "metadata": {
  "kernelspec": {
   "display_name": "Python 3",
   "language": "python",
   "name": "python3"
  },
  "language_info": {
   "codemirror_mode": {
    "name": "ipython",
    "version": 2
   },
   "file_extension": ".py",
   "mimetype": "text/x-python",
   "name": "python",
   "nbconvert_exporter": "python",
   "pygments_lexer": "ipython2",
   "version": "2.7.6"
  }
 },
 "nbformat": 4,
 "nbformat_minor": 5
}
