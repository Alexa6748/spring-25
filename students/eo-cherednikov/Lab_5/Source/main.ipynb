{
 "cells": [
  {
   "cell_type": "code",
   "id": "initial_id",
   "metadata": {
    "collapsed": true,
    "ExecuteTime": {
     "end_time": "2025-06-19T12:37:44.061881Z",
     "start_time": "2025-06-19T12:37:44.058864Z"
    }
   },
   "source": [
    "import time\n",
    "import numpy as np\n",
    "import pandas as pd\n",
    "from sklearn.model_selection import train_test_split\n",
    "from sklearn.metrics import mean_squared_error, mean_absolute_error\n",
    "from sklearn.decomposition import NMF\n",
    "from LMF import LatentFactorModel\n",
    "\n",
    "\n",
    "import warnings\n",
    "warnings.filterwarnings(\"ignore\", category=UserWarning)"
   ],
   "outputs": [],
   "execution_count": 8
  },
  {
   "metadata": {
    "ExecuteTime": {
     "end_time": "2025-06-19T12:37:44.090390Z",
     "start_time": "2025-06-19T12:37:44.066876Z"
    }
   },
   "cell_type": "code",
   "source": [
    "df = pd.read_csv(\n",
    "    \"./ml-100k/u.data\",\n",
    "    sep=\"\\t\",\n",
    "    names=[\"user\", \"item\", \"rating\", \"timestamp\"],\n",
    ")\n",
    "\n",
    "print(f\"Number of users: {df['user'].nunique()}\")\n",
    "print(f\"Number of items: {df['item'].nunique()}\")\n",
    "print(f\"Number of ratings: {len(df)}\")"
   ],
   "id": "517705feb0e747dd",
   "outputs": [
    {
     "name": "stdout",
     "output_type": "stream",
     "text": [
      "Number of users: 943\n",
      "Number of items: 1682\n",
      "Number of ratings: 100000\n"
     ]
    }
   ],
   "execution_count": 9
  },
  {
   "metadata": {
    "ExecuteTime": {
     "end_time": "2025-06-19T12:37:44.135995Z",
     "start_time": "2025-06-19T12:37:44.096608Z"
    }
   },
   "cell_type": "code",
   "source": [
    "user_map = {id_: idx for idx, id_ in enumerate(df['user'].unique())}\n",
    "item_map = {id_: idx for idx, id_ in enumerate(df['item'].unique())}\n",
    "\n",
    "df['user_idx'] = df['user'].map(user_map)\n",
    "df['item_idx'] = df['item'].map(item_map)\n",
    "\n",
    "train_data, test_data = train_test_split(df, test_size=0.2, random_state=42)\n",
    "\n",
    "train_ratings = list(zip(train_data['user_idx'], train_data['item_idx'], train_data['rating']))\n",
    "test_ratings = list(zip(test_data['user_idx'], test_data['item_idx'], test_data['rating']))"
   ],
   "id": "204f035a24c39ed2",
   "outputs": [],
   "execution_count": 10
  },
  {
   "metadata": {
    "ExecuteTime": {
     "end_time": "2025-06-19T12:37:54.796810Z",
     "start_time": "2025-06-19T12:37:44.144997Z"
    }
   },
   "cell_type": "code",
   "source": [
    "import time\n",
    "\n",
    "n_users = df['user_idx'].nunique()\n",
    "n_items = df['item_idx'].nunique()\n",
    "\n",
    "lfm = LatentFactorModel(n_users=n_users, n_items=n_items)\n",
    "\n",
    "start = time.time()\n",
    "lfm.fit(train_ratings, learning_rate=0.01, reg=0.05, n_epochs=15)\n",
    "elapsed = time.time() - start\n",
    "print(f\"Время обучения (custom): {elapsed:.2f} секунд\")"
   ],
   "id": "540057f08ed91546",
   "outputs": [
    {
     "name": "stdout",
     "output_type": "stream",
     "text": [
      "Epoch 1/15 | Train RMSE: 0.9943\n",
      "Epoch 2/15 | Train RMSE: 0.9310\n",
      "Epoch 3/15 | Train RMSE: 0.9113\n",
      "Epoch 4/15 | Train RMSE: 0.8995\n",
      "Epoch 5/15 | Train RMSE: 0.8903\n",
      "Epoch 6/15 | Train RMSE: 0.8822\n",
      "Epoch 7/15 | Train RMSE: 0.8738\n",
      "Epoch 8/15 | Train RMSE: 0.8648\n",
      "Epoch 9/15 | Train RMSE: 0.8545\n",
      "Epoch 10/15 | Train RMSE: 0.8429\n",
      "Epoch 11/15 | Train RMSE: 0.8299\n",
      "Epoch 12/15 | Train RMSE: 0.8158\n",
      "Epoch 13/15 | Train RMSE: 0.8012\n",
      "Epoch 14/15 | Train RMSE: 0.7863\n",
      "Epoch 15/15 | Train RMSE: 0.7710\n",
      "Время обучения (custom): 10.64 секунд\n"
     ]
    }
   ],
   "execution_count": 11
  },
  {
   "metadata": {
    "ExecuteTime": {
     "end_time": "2025-06-19T12:39:56.956626Z",
     "start_time": "2025-06-19T12:39:56.930671Z"
    }
   },
   "cell_type": "code",
   "source": [
    "from sklearn.metrics import mean_squared_error\n",
    "\n",
    "y_true = []\n",
    "y_pred = []\n",
    "\n",
    "for user, item, rating in test_ratings:\n",
    "    y_true.append(rating)\n",
    "    y_pred.append(lfm.predict(user, item))\n",
    "\n",
    "rmse = mean_squared_error(y_true, y_pred)\n",
    "print(f\"RMSE (custom): {rmse:.4f}\")"
   ],
   "id": "85b58e729d3e069f",
   "outputs": [
    {
     "name": "stdout",
     "output_type": "stream",
     "text": [
      "RMSE (custom): 0.8505\n"
     ]
    }
   ],
   "execution_count": 13
  },
  {
   "metadata": {
    "ExecuteTime": {
     "end_time": "2025-06-19T12:40:05.924885Z",
     "start_time": "2025-06-19T12:40:05.753887Z"
    }
   },
   "cell_type": "code",
   "source": [
    "from sklearn.decomposition import TruncatedSVD\n",
    "from scipy.sparse import csr_matrix\n",
    "\n",
    "# Создаём sparse матрицу\n",
    "train_matrix = csr_matrix((train_data['rating'], (train_data['user_idx'], train_data['item_idx'])),\n",
    "                          shape=(n_users, n_items))\n",
    "\n",
    "svd = TruncatedSVD(n_components=40, random_state=71)\n",
    "\n",
    "start = time.time()\n",
    "U = svd.fit_transform(train_matrix)\n",
    "V = svd.components_.T\n",
    "elapsed = time.time() - start\n",
    "print(f\"Время обучения (scikit-learn): {elapsed:.2f} секунд\")\n",
    "\n",
    "# Предсказания\n",
    "y_pred_sklearn = []\n",
    "for user, item, rating in test_ratings:\n",
    "    y_pred_sklearn.append(U[user] @ V[item])\n",
    "\n",
    "rmse_sklearn = mean_squared_error(y_true, y_pred_sklearn)\n",
    "print(f\"RMSE (scikit-learn): {rmse_sklearn:.4f}\")\n"
   ],
   "id": "4ab0f3807c7ab754",
   "outputs": [
    {
     "name": "stdout",
     "output_type": "stream",
     "text": [
      "Время обучения (scikit-learn): 0.14 секунд\n",
      "RMSE (scikit-learn): 7.8529\n"
     ]
    }
   ],
   "execution_count": 15
  }
 ],
 "metadata": {
  "kernelspec": {
   "display_name": "Python 3",
   "language": "python",
   "name": "python3"
  },
  "language_info": {
   "codemirror_mode": {
    "name": "ipython",
    "version": 2
   },
   "file_extension": ".py",
   "mimetype": "text/x-python",
   "name": "python",
   "nbconvert_exporter": "python",
   "pygments_lexer": "ipython2",
   "version": "2.7.6"
  }
 },
 "nbformat": 4,
 "nbformat_minor": 5
}
