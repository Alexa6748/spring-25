{
 "cells": [
  {
   "cell_type": "code",
   "id": "initial_id",
   "metadata": {
    "collapsed": true,
    "ExecuteTime": {
     "end_time": "2025-06-19T17:16:55.031113Z",
     "start_time": "2025-06-19T17:16:55.027537Z"
    }
   },
   "source": [
    "import time\n",
    "import numpy as np\n",
    "import pandas as pd\n",
    "from typing import Tuple, List\n",
    "from sklearn.metrics import mean_squared_error, mean_absolute_error\n",
    "from sklearn.model_selection import train_test_split\n",
    "from surprise import Dataset, Reader, SVD\n",
    "from surprise.model_selection import train_test_split as surprise_split\n",
    "from surprise import accuracy\n",
    "from LMF import LatentFactorModel\n",
    "\n",
    "\n",
    "import warnings\n",
    "warnings.filterwarnings(\"ignore\", category=UserWarning)"
   ],
   "outputs": [],
   "execution_count": 42
  },
  {
   "metadata": {
    "ExecuteTime": {
     "end_time": "2025-06-19T17:16:55.070628Z",
     "start_time": "2025-06-19T17:16:55.048476Z"
    }
   },
   "cell_type": "code",
   "source": [
    "df = pd.read_csv(\n",
    "    \"./ml-100k/u.data\",\n",
    "    sep=\"\\t\",\n",
    "    names=[\"user\", \"item\", \"rating\", \"timestamp\"],\n",
    ")\n",
    "\n",
    "print(f\"Number of users: {df['user'].nunique()}\")\n",
    "print(f\"Number of items: {df['item'].nunique()}\")\n",
    "print(f\"Number of ratings: {len(df)}\")"
   ],
   "id": "517705feb0e747dd",
   "outputs": [
    {
     "name": "stdout",
     "output_type": "stream",
     "text": [
      "Number of users: 943\n",
      "Number of items: 1682\n",
      "Number of ratings: 100000\n"
     ]
    }
   ],
   "execution_count": 43
  },
  {
   "metadata": {
    "ExecuteTime": {
     "end_time": "2025-06-19T17:16:55.130655Z",
     "start_time": "2025-06-19T17:16:55.072625Z"
    }
   },
   "cell_type": "code",
   "source": [
    "user_map = {id_: idx for idx, id_ in enumerate(df['user'].unique())}\n",
    "item_map = {id_: idx for idx, id_ in enumerate(df['item'].unique())}\n",
    "\n",
    "df['user_idx'] = df['user'].map(user_map)\n",
    "df['item_idx'] = df['item'].map(item_map)\n",
    "\n",
    "train_data, test_data = train_test_split(df, test_size=0.2, random_state=42)\n",
    "\n",
    "train_df, test_df = train_test_split(df, test_size=0.2, random_state=42)\n",
    "train_ratings = list(zip(train_df['user_idx'], train_df['item_idx'], train_df['rating']))\n",
    "test_ratings = list(zip(test_df['user_idx'], test_df['item_idx'], test_df['rating']))"
   ],
   "id": "204f035a24c39ed2",
   "outputs": [],
   "execution_count": 44
  },
  {
   "metadata": {
    "ExecuteTime": {
     "end_time": "2025-06-19T17:17:06.079882Z",
     "start_time": "2025-06-19T17:16:55.145162Z"
    }
   },
   "cell_type": "code",
   "source": [
    "import time\n",
    "\n",
    "n_users = df['user_idx'].nunique()\n",
    "n_items = df['item_idx'].nunique()\n",
    "\n",
    "\n",
    "lfm = LatentFactorModel(n_users, n_items, n_epochs=15, learning_rate=0.01, reg=0.05)\n",
    "\n",
    "start = time.time()\n",
    "lfm.fit(train_ratings)\n",
    "lfm_time = time.time() - start\n",
    "\n",
    "lfm_preds = [lfm.predict(u, i) for u, i, _ in test_ratings]\n",
    "lfm_true = [r for _, _, r in test_ratings]\n",
    "\n",
    "lfm_rmse = mean_squared_error(lfm_true, lfm_preds)\n",
    "lfm_mae = mean_absolute_error(lfm_true, lfm_preds)"
   ],
   "id": "540057f08ed91546",
   "outputs": [
    {
     "name": "stdout",
     "output_type": "stream",
     "text": [
      "Epoch 1/15 | Train RMSE: 0.9941\n",
      "Epoch 2/15 | Train RMSE: 0.9311\n",
      "Epoch 3/15 | Train RMSE: 0.9115\n",
      "Epoch 4/15 | Train RMSE: 0.8997\n",
      "Epoch 5/15 | Train RMSE: 0.8908\n",
      "Epoch 6/15 | Train RMSE: 0.8829\n",
      "Epoch 7/15 | Train RMSE: 0.8750\n",
      "Epoch 8/15 | Train RMSE: 0.8664\n",
      "Epoch 9/15 | Train RMSE: 0.8567\n",
      "Epoch 10/15 | Train RMSE: 0.8459\n",
      "Epoch 11/15 | Train RMSE: 0.8332\n",
      "Epoch 12/15 | Train RMSE: 0.8193\n",
      "Epoch 13/15 | Train RMSE: 0.8041\n",
      "Epoch 14/15 | Train RMSE: 0.7885\n",
      "Epoch 15/15 | Train RMSE: 0.7724\n"
     ]
    }
   ],
   "execution_count": 45
  },
  {
   "metadata": {
    "ExecuteTime": {
     "end_time": "2025-06-19T17:17:06.784586Z",
     "start_time": "2025-06-19T17:17:06.094623Z"
    }
   },
   "cell_type": "code",
   "source": [
    "reader = Reader(line_format=\"user item rating timestamp\", sep=\"\\t\")\n",
    "data = Dataset.load_from_df(df[[\"user\", \"item\", \"rating\"]], reader)\n",
    "trainset, testset = surprise_split(data, test_size=0.2, random_state=42)\n",
    "\n",
    "svd = SVD(n_factors=40)\n",
    "start = time.time()\n",
    "svd.fit(trainset)\n",
    "svd_time = time.time() - start\n",
    "predictions = svd.test(testset)\n",
    "\n",
    "svd_rmse = accuracy.rmse(predictions, verbose=False)\n",
    "svd_mae = accuracy.mae(predictions, verbose=False)"
   ],
   "id": "85b58e729d3e069f",
   "outputs": [],
   "execution_count": 46
  },
  {
   "metadata": {
    "ExecuteTime": {
     "end_time": "2025-06-19T17:17:06.801374Z",
     "start_time": "2025-06-19T17:17:06.798086Z"
    }
   },
   "cell_type": "code",
   "source": [
    "import pandas as pd\n",
    "comparison_df = pd.DataFrame({\n",
    "    \"Model\": [\"Custom LFM\", \"Surprise SVD\"],\n",
    "    \"RMSE\": [lfm_rmse, svd_rmse],\n",
    "    \"MAE\": [lfm_mae, svd_mae],\n",
    "    \"Train Time (s)\": [lfm_time, svd_time]\n",
    "})\n",
    "print(comparison_df)"
   ],
   "id": "4ab0f3807c7ab754",
   "outputs": [
    {
     "name": "stdout",
     "output_type": "stream",
     "text": [
      "          Model      RMSE       MAE  Train Time (s)\n",
      "0    Custom LFM  0.856297  0.729812       10.904222\n",
      "1  Surprise SVD  0.930935  0.734509        0.454024\n"
     ]
    }
   ],
   "execution_count": 47
  },
  {
   "metadata": {},
   "cell_type": "markdown",
   "source": "## Рекомендации для пользователя, который любит мультфильмы (Кастомная модель)",
   "id": "2231ec10c53c1103"
  },
  {
   "metadata": {
    "ExecuteTime": {
     "end_time": "2025-06-19T17:17:06.824370Z",
     "start_time": "2025-06-19T17:17:06.814368Z"
    }
   },
   "cell_type": "code",
   "source": [
    "df_movies = pd.read_csv(\"./ml-100k/u.item\", sep=\"|\", encoding=\"latin-1\", header=None, usecols=[0, 1], names=[\"item\", \"title\"])\n",
    "\n",
    "mults_ids = df_movies[df_movies[\"title\"].str.contains(\"Toy Story|Lion King|Hercules\", case=False)]['item'].values\n",
    "\n",
    "new_user_id = lfm.user_factors.shape[0]\n",
    "n_factors = lfm.user_factors.shape[1]\n",
    "\n",
    "lfm.user_factors = np.vstack([lfm.user_factors, np.random.normal(0, 0.1, n_factors)])\n",
    "lfm.user_bias = np.append(lfm.user_bias, 0.0)\n",
    "\n",
    "mults_ratings = [(new_user_id, item_idx, 5.0) for item_idx in mults_ids]\n",
    "\n",
    "## Обучаем вектор нового пользователя\n",
    "for _ in range(15):\n",
    "    for user_idx, item_idx, rating in mults_ratings:\n",
    "        lfm._update_factors(user_idx, item_idx, rating, learning_rate=0.01, reg=0.05)\n",
    "\n",
    "print(mults_ids)"
   ],
   "id": "78f336ed628dcebe",
   "outputs": [
    {
     "name": "stdout",
     "output_type": "stream",
     "text": [
      "[  1  71 993]\n"
     ]
    }
   ],
   "execution_count": 48
  },
  {
   "metadata": {
    "ExecuteTime": {
     "end_time": "2025-06-19T17:17:06.858231Z",
     "start_time": "2025-06-19T17:17:06.841659Z"
    }
   },
   "cell_type": "code",
   "source": [
    "all_items = np.arange(lfm.item_factors.shape[0])\n",
    "items_to_recommend = [i for i in all_items if i not in mults_ids]\n",
    "\n",
    "predictions = [(item, lfm.predict(new_user_id, item)) for item in items_to_recommend]\n",
    "top_recommendations = sorted(predictions, key=lambda x: x[1], reverse=True)[:10]\n",
    "\n",
    "\n",
    "top_titles = df_movies.set_index('item').loc[[item for item, _ in top_recommendations]]['title']\n",
    "print(top_titles)"
   ],
   "id": "3dd1fefa06e02081",
   "outputs": [
    {
     "name": "stdout",
     "output_type": "stream",
     "text": [
      "item\n",
      "277                Restoration (1995)\n",
      "819                      Eddie (1996)\n",
      "541              Mortal Kombat (1995)\n",
      "180             Apocalypse Now (1979)\n",
      "174    Raiders of the Lost Ark (1981)\n",
      "36                    Mad Love (1995)\n",
      "239                   Sneakers (1992)\n",
      "130                Kansas City (1996)\n",
      "297                Ulee's Gold (1997)\n",
      "612               Lost Horizon (1937)\n",
      "Name: title, dtype: object\n"
     ]
    }
   ],
   "execution_count": 49
  },
  {
   "metadata": {},
   "cell_type": "markdown",
   "source": "## Рекомендации для пользователя, который любит мультфильмы (библиотечная модель)",
   "id": "54c4edaf1e9ba59"
  },
  {
   "metadata": {
    "ExecuteTime": {
     "end_time": "2025-06-19T17:17:06.876916Z",
     "start_time": "2025-06-19T17:17:06.873212Z"
    }
   },
   "cell_type": "code",
   "source": [
    "n_factors = svd.n_factors\n",
    "new_user_vector = np.random.normal(0, 0.1, n_factors)\n",
    "new_user_bias = 0.0\n",
    "global_bias = svd.trainset.global_mean\n",
    "\n",
    "# Достаём item-вектора и смещения из обученной модели\n",
    "item_factors = svd.qi\n",
    "item_biases = svd.bi\n",
    "\n",
    "# Получаем внутренние ID\n",
    "iid_map = {raw_iid: svd.trainset.to_inner_iid(raw_iid) for raw_iid in mults_ids if raw_iid in svd.trainset._raw2inner_id_items}\n",
    "\n",
    "# Обучаем вектор нового пользователя на основе любимых фильмов\n",
    "learning_rate = 0.01\n",
    "reg = 0.05\n",
    "\n",
    "for _ in range(15):\n",
    "    for raw_iid, inner_iid in iid_map.items():\n",
    "        pred = global_bias + new_user_bias + item_biases[inner_iid] + np.dot(new_user_vector, item_factors[inner_iid])\n",
    "        err = 5.0 - pred\n",
    "\n",
    "        new_user_bias += learning_rate * (err - reg * new_user_bias)\n",
    "        new_user_vector += learning_rate * (err * item_factors[inner_iid] - reg * new_user_vector)"
   ],
   "id": "e4912b06a1dc14f3",
   "outputs": [],
   "execution_count": 50
  },
  {
   "metadata": {
    "ExecuteTime": {
     "end_time": "2025-06-19T17:17:06.911425Z",
     "start_time": "2025-06-19T17:17:06.902671Z"
    }
   },
   "cell_type": "code",
   "source": [
    "all_inner_iids = svd.trainset.all_items()\n",
    "\n",
    "predictions = []\n",
    "for inner_iid in all_inner_iids:\n",
    "    if inner_iid in iid_map.values():\n",
    "        continue\n",
    "\n",
    "    raw_iid = svd.trainset.to_raw_iid(inner_iid)\n",
    "    score = global_bias + new_user_bias + svd.bi[inner_iid] + np.dot(new_user_vector, svd.qi[inner_iid])\n",
    "    predictions.append((raw_iid, score))\n",
    "\n",
    "# Топ-10 фильмов\n",
    "top_items = sorted(predictions, key=lambda x: x[1], reverse=True)[:10]\n",
    "top_titles = df_movies.set_index(\"item\").loc[[iid for iid, _ in top_items]][\"title\"]\n",
    "print(top_titles)"
   ],
   "id": "4e43c3d1b51f04a2",
   "outputs": [
    {
     "name": "stdout",
     "output_type": "stream",
     "text": [
      "item\n",
      "178                 12 Angry Men (1957)\n",
      "603                  Rear Window (1954)\n",
      "513               Third Man, The (1949)\n",
      "318             Schindler's List (1993)\n",
      "408               Close Shave, A (1995)\n",
      "50                     Star Wars (1977)\n",
      "64     Shawshank Redemption, The (1994)\n",
      "483                   Casablanca (1942)\n",
      "488                 Sunset Blvd. (1950)\n",
      "98     Silence of the Lambs, The (1991)\n",
      "Name: title, dtype: object\n"
     ]
    }
   ],
   "execution_count": 51
  }
 ],
 "metadata": {
  "kernelspec": {
   "display_name": "Python 3",
   "language": "python",
   "name": "python3"
  },
  "language_info": {
   "codemirror_mode": {
    "name": "ipython",
    "version": 2
   },
   "file_extension": ".py",
   "mimetype": "text/x-python",
   "name": "python",
   "nbconvert_exporter": "python",
   "pygments_lexer": "ipython2",
   "version": "2.7.6"
  }
 },
 "nbformat": 4,
 "nbformat_minor": 5
}
