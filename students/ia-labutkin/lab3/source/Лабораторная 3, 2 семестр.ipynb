{
 "cells": [
  {
   "cell_type": "markdown",
   "metadata": {},
   "source": [
    "## Лабораторная работа №3. Наивный байесовский классификатор"
   ]
  },
  {
   "cell_type": "markdown",
   "metadata": {},
   "source": [
    "Выполнил: Лабуткин Иван Алексеевич, группа 4144"
   ]
  },
  {
   "cell_type": "code",
   "execution_count": 2,
   "metadata": {},
   "outputs": [],
   "source": [
    "import numpy as np\n",
    "import pandas as pd\n",
    "from sklearn.model_selection import train_test_split\n",
    "from BayesClassifier import cross_validation, GaussianNBC\n",
    "import time"
   ]
  },
  {
   "cell_type": "markdown",
   "metadata": {},
   "source": [
    "## Подготовка данных"
   ]
  },
  {
   "cell_type": "code",
   "execution_count": 4,
   "metadata": {},
   "outputs": [],
   "source": [
    "data=pd.read_csv('breast-cancer.csv', sep=',')"
   ]
  },
  {
   "cell_type": "code",
   "execution_count": 5,
   "metadata": {},
   "outputs": [],
   "source": [
    "data=data.drop(['id'], axis=1)\n",
    "data[(data[['diagnosis']]=='M')]=1\n",
    "data[(data[['diagnosis']]=='B')]=-1\n",
    "y=data[['diagnosis']].to_numpy().reshape(-1).astype(np.int8)\n",
    "data=data.drop(['diagnosis'], axis=1)\n",
    "data=data.drop(['radius_mean', 'area_mean', 'radius_mean', 'radius_worst', 'area_worst', 'perimeter_worst'], axis=1)\n",
    "data=data.drop(['concavity_mean', 'concave points_mean', 'texture_worst'], axis=1)\n",
    "data=data.drop(['area_se', 'perimeter_se', 'compactness_worst','concave points_worst'], axis=1)\n",
    "data=data.drop(['smoothness_worst','concavity_worst'], axis=1)\n",
    "X=data.to_numpy()"
   ]
  },
  {
   "cell_type": "code",
   "execution_count": 6,
   "metadata": {},
   "outputs": [],
   "source": [
    "X_train,X_test,y_train,y_test=train_test_split(X,y,test_size=0.3, random_state=4)"
   ]
  },
  {
   "cell_type": "markdown",
   "metadata": {},
   "source": [
    "## Эксперименты с реализованным алгоритмом"
   ]
  },
  {
   "cell_type": "code",
   "execution_count": 13,
   "metadata": {},
   "outputs": [],
   "source": [
    "NBC=GaussianNBC()"
   ]
  },
  {
   "cell_type": "markdown",
   "metadata": {},
   "source": [
    "Измерение скорости обучения и предсказания модели:"
   ]
  },
  {
   "cell_type": "code",
   "execution_count": 14,
   "metadata": {},
   "outputs": [
    {
     "name": "stdout",
     "output_type": "stream",
     "text": [
      "Время выполнения программы: 0.5595684051513672 ms\n"
     ]
    }
   ],
   "source": [
    "start = time.time()\n",
    "NBC.fit(X_train,y_train)\n",
    "y_pred=NBC.predict(X_test)\n",
    "end = time.time()\n",
    "print(\"Время выполнения программы:\",\n",
    "      (end-start) * 10**3, \"ms\")"
   ]
  },
  {
   "cell_type": "markdown",
   "metadata": {},
   "source": [
    "Измерение точности классификации с помощь кросс-валидации:"
   ]
  },
  {
   "cell_type": "code",
   "execution_count": 9,
   "metadata": {},
   "outputs": [
    {
     "name": "stdout",
     "output_type": "stream",
     "text": [
      "Точность написанного вручную алгоритма с использованием кросс-валидации: 0.9033224654556745\n"
     ]
    }
   ],
   "source": [
    "print(\"Точность написанного вручную алгоритма с использованием кросс-валидации:\", cross_validation(NBC,X,y,5))"
   ]
  },
  {
   "cell_type": "markdown",
   "metadata": {},
   "source": [
    "## Сравнение с эталонной реализацией"
   ]
  },
  {
   "cell_type": "code",
   "execution_count": 10,
   "metadata": {},
   "outputs": [],
   "source": [
    "from sklearn.naive_bayes import GaussianNB"
   ]
  },
  {
   "cell_type": "code",
   "execution_count": 15,
   "metadata": {},
   "outputs": [],
   "source": [
    "gnb = GaussianNB()"
   ]
  },
  {
   "cell_type": "code",
   "execution_count": 16,
   "metadata": {},
   "outputs": [
    {
     "name": "stdout",
     "output_type": "stream",
     "text": [
      "Время выполнения программы: 1.3990402221679688 ms\n"
     ]
    }
   ],
   "source": [
    "start = time.time()\n",
    "gnb.fit(X_train,y_train)\n",
    "y_pred=gnb.predict(X_test)\n",
    "end = time.time()\n",
    "print(\"Время выполнения программы:\",\n",
    "      (end-start) * 10**3, \"ms\")"
   ]
  },
  {
   "cell_type": "code",
   "execution_count": 17,
   "metadata": {},
   "outputs": [
    {
     "name": "stdout",
     "output_type": "stream",
     "text": [
      "Точность эталонной реализации алгоритма с использованием кросс-валидации: 0.9033224654556745\n"
     ]
    }
   ],
   "source": [
    "print(\"Точность эталонной реализации алгоритма с использованием кросс-валидации:\", cross_validation(gnb,X,y,5))"
   ]
  }
 ],
 "metadata": {
  "kernelspec": {
   "display_name": "Python 3",
   "language": "python",
   "name": "python3"
  },
  "language_info": {
   "codemirror_mode": {
    "name": "ipython",
    "version": 3
   },
   "file_extension": ".py",
   "mimetype": "text/x-python",
   "name": "python",
   "nbconvert_exporter": "python",
   "pygments_lexer": "ipython3",
   "version": "3.13.2"
  }
 },
 "nbformat": 4,
 "nbformat_minor": 2
}
