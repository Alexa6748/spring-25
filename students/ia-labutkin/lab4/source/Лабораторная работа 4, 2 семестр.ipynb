{
 "cells": [
  {
   "cell_type": "markdown",
   "id": "a15d04f1",
   "metadata": {},
   "source": [
    "# Лабораторная работа 4: Латентное размещение Дирихле. Лабуткин Иван Алексеевич."
   ]
  },
  {
   "cell_type": "markdown",
   "id": "6bdc9ecf",
   "metadata": {},
   "source": [
    "## Импорт библиотек и подготовка данных"
   ]
  },
  {
   "cell_type": "code",
   "execution_count": 98,
   "id": "02c01892",
   "metadata": {},
   "outputs": [],
   "source": [
    "import numpy as np\n",
    "import pandas as pd\n",
    "from sklearn.datasets import fetch_20newsgroups\n",
    "from sklearn.model_selection import train_test_split\n",
    "import time"
   ]
  },
  {
   "cell_type": "code",
   "execution_count": 99,
   "id": "cc9d619f",
   "metadata": {},
   "outputs": [],
   "source": [
    "from LDA import LDA"
   ]
  },
  {
   "cell_type": "code",
   "execution_count": 100,
   "id": "52cbc231",
   "metadata": {},
   "outputs": [],
   "source": [
    "categories = ['soc.religion.christian','comp.graphics', 'sci.med','rec.motorcycles']\n",
    "X,y = fetch_20newsgroups(categories=categories,return_X_y=True)\n",
    "X_train,X_test,y_train,y_test=train_test_split(X,y, test_size=0.2, random_state=2025)"
   ]
  },
  {
   "cell_type": "markdown",
   "id": "4638e525",
   "metadata": {},
   "source": [
    "## Применение реализованного алгоритма"
   ]
  },
  {
   "cell_type": "code",
   "execution_count": 101,
   "id": "5b4fd962",
   "metadata": {},
   "outputs": [],
   "source": [
    "lda=LDA(num_themes=4, alpha=1.5, beta=1.5)"
   ]
  },
  {
   "cell_type": "code",
   "execution_count": 102,
   "id": "0062d55c",
   "metadata": {},
   "outputs": [
    {
     "name": "stdout",
     "output_type": "stream",
     "text": [
      "Время выполнения программы: 506249.66168403625 ms\n"
     ]
    }
   ],
   "source": [
    "start = time.time()\n",
    "phi_train,theta_train=lda.fit_predict(train_text=X_train,max_steps=500)\n",
    "end = time.time()\n",
    "print(\"Время выполнения программы:\",\n",
    "      (end-start) * 10**3, \"ms\")"
   ]
  },
  {
   "cell_type": "code",
   "execution_count": 103,
   "id": "bfc3a8a4",
   "metadata": {},
   "outputs": [
    {
     "data": {
      "text/html": [
       "<div>\n",
       "<style scoped>\n",
       "    .dataframe tbody tr th:only-of-type {\n",
       "        vertical-align: middle;\n",
       "    }\n",
       "\n",
       "    .dataframe tbody tr th {\n",
       "        vertical-align: top;\n",
       "    }\n",
       "\n",
       "    .dataframe thead th {\n",
       "        text-align: right;\n",
       "    }\n",
       "</style>\n",
       "<table border=\"1\" class=\"dataframe\">\n",
       "  <thead>\n",
       "    <tr style=\"text-align: right;\">\n",
       "      <th>col_0</th>\n",
       "      <th>0</th>\n",
       "      <th>1</th>\n",
       "      <th>2</th>\n",
       "      <th>3</th>\n",
       "    </tr>\n",
       "    <tr>\n",
       "      <th>row_0</th>\n",
       "      <th></th>\n",
       "      <th></th>\n",
       "      <th></th>\n",
       "      <th></th>\n",
       "    </tr>\n",
       "  </thead>\n",
       "  <tbody>\n",
       "    <tr>\n",
       "      <th>0</th>\n",
       "      <td>8</td>\n",
       "      <td>5</td>\n",
       "      <td>51</td>\n",
       "      <td>464</td>\n",
       "    </tr>\n",
       "    <tr>\n",
       "      <th>1</th>\n",
       "      <td>7</td>\n",
       "      <td>468</td>\n",
       "      <td>64</td>\n",
       "      <td>3</td>\n",
       "    </tr>\n",
       "    <tr>\n",
       "      <th>2</th>\n",
       "      <td>442</td>\n",
       "      <td>5</td>\n",
       "      <td>18</td>\n",
       "      <td>10</td>\n",
       "    </tr>\n",
       "    <tr>\n",
       "      <th>3</th>\n",
       "      <td>3</td>\n",
       "      <td>5</td>\n",
       "      <td>340</td>\n",
       "      <td>7</td>\n",
       "    </tr>\n",
       "  </tbody>\n",
       "</table>\n",
       "</div>"
      ],
      "text/plain": [
       "col_0    0    1    2    3\n",
       "row_0                    \n",
       "0        8    5   51  464\n",
       "1        7  468   64    3\n",
       "2      442    5   18   10\n",
       "3        3    5  340    7"
      ]
     },
     "execution_count": 103,
     "metadata": {},
     "output_type": "execute_result"
    }
   ],
   "source": [
    "y_pred_train=np.argmax(theta_train,axis=0)\n",
    "pd.crosstab(y_pred_train,y_train)"
   ]
  },
  {
   "cell_type": "code",
   "execution_count": 104,
   "id": "e604df1a",
   "metadata": {},
   "outputs": [],
   "source": [
    "def get_accuracy(matches_dict,y_pred,y_real):#Расчёт accuracy\n",
    "    trues=0\n",
    "    for ind_pred, ind_real in matches_dict.items():\n",
    "        trues+=np.sum(np.isin(np.where(y_pred==ind_pred), np.where(y_real==ind_real)))\n",
    "    return trues/len(y_real)"
   ]
  },
  {
   "cell_type": "code",
   "execution_count": 105,
   "id": "b096f78b",
   "metadata": {},
   "outputs": [
    {
     "name": "stdout",
     "output_type": "stream",
     "text": [
      "Точность на тренировочных данных: 0.902\n"
     ]
    }
   ],
   "source": [
    "matches={\n",
    "    0:3,\n",
    "    1:1,\n",
    "    2:0,\n",
    "    3:2\n",
    "}\n",
    "print(\"Точность на тренировочных данных:\",round(get_accuracy(matches,y_pred_train,y_train),3))"
   ]
  },
  {
   "cell_type": "code",
   "execution_count": 109,
   "id": "73b3b3e2",
   "metadata": {},
   "outputs": [
    {
     "name": "stdout",
     "output_type": "stream",
     "text": [
      "Время выполнения программы: 490.2322292327881 ms\n"
     ]
    }
   ],
   "source": [
    "start = time.time()\n",
    "theta_test=lda.predict(X_test, max_steps=500)\n",
    "end = time.time()\n",
    "print(\"Время выполнения программы:\",\n",
    "      (end-start) * 10**3, \"ms\")\n"
   ]
  },
  {
   "cell_type": "code",
   "execution_count": 110,
   "id": "5341571e",
   "metadata": {},
   "outputs": [
    {
     "data": {
      "text/html": [
       "<div>\n",
       "<style scoped>\n",
       "    .dataframe tbody tr th:only-of-type {\n",
       "        vertical-align: middle;\n",
       "    }\n",
       "\n",
       "    .dataframe tbody tr th {\n",
       "        vertical-align: top;\n",
       "    }\n",
       "\n",
       "    .dataframe thead th {\n",
       "        text-align: right;\n",
       "    }\n",
       "</style>\n",
       "<table border=\"1\" class=\"dataframe\">\n",
       "  <thead>\n",
       "    <tr style=\"text-align: right;\">\n",
       "      <th>col_0</th>\n",
       "      <th>0</th>\n",
       "      <th>1</th>\n",
       "      <th>2</th>\n",
       "      <th>3</th>\n",
       "    </tr>\n",
       "    <tr>\n",
       "      <th>row_0</th>\n",
       "      <th></th>\n",
       "      <th></th>\n",
       "      <th></th>\n",
       "      <th></th>\n",
       "    </tr>\n",
       "  </thead>\n",
       "  <tbody>\n",
       "    <tr>\n",
       "      <th>0</th>\n",
       "      <td>19</td>\n",
       "      <td>15</td>\n",
       "      <td>78</td>\n",
       "      <td>12</td>\n",
       "    </tr>\n",
       "    <tr>\n",
       "      <th>1</th>\n",
       "      <td>21</td>\n",
       "      <td>66</td>\n",
       "      <td>15</td>\n",
       "      <td>13</td>\n",
       "    </tr>\n",
       "    <tr>\n",
       "      <th>2</th>\n",
       "      <td>33</td>\n",
       "      <td>26</td>\n",
       "      <td>9</td>\n",
       "      <td>53</td>\n",
       "    </tr>\n",
       "    <tr>\n",
       "      <th>3</th>\n",
       "      <td>80</td>\n",
       "      <td>22</td>\n",
       "      <td>7</td>\n",
       "      <td>6</td>\n",
       "    </tr>\n",
       "  </tbody>\n",
       "</table>\n",
       "</div>"
      ],
      "text/plain": [
       "col_0   0   1   2   3\n",
       "row_0                \n",
       "0      19  15  78  12\n",
       "1      21  66  15  13\n",
       "2      33  26   9  53\n",
       "3      80  22   7   6"
      ]
     },
     "execution_count": 110,
     "metadata": {},
     "output_type": "execute_result"
    }
   ],
   "source": [
    "y_pred_test=np.argmax(theta_test,axis=0)\n",
    "pd.crosstab(y_test,y_pred_test)"
   ]
  },
  {
   "cell_type": "code",
   "execution_count": 111,
   "id": "da42a587",
   "metadata": {},
   "outputs": [
    {
     "name": "stdout",
     "output_type": "stream",
     "text": [
      "Точность на тренировочных данных: 0.583\n"
     ]
    }
   ],
   "source": [
    "print(\"Точность на тренировочных данных:\",round(get_accuracy(matches,y_pred_test,y_test),3))"
   ]
  },
  {
   "cell_type": "markdown",
   "id": "9a819836",
   "metadata": {},
   "source": [
    "## Сравнение с эталонным решением"
   ]
  },
  {
   "cell_type": "code",
   "execution_count": 112,
   "id": "e5f93262",
   "metadata": {},
   "outputs": [],
   "source": [
    "from sklearn.decomposition import LatentDirichletAllocation\n"
   ]
  },
  {
   "cell_type": "code",
   "execution_count": 137,
   "id": "705b45c7",
   "metadata": {},
   "outputs": [
    {
     "name": "stdout",
     "output_type": "stream",
     "text": [
      "Время выполнения программы: 5197.357177734375 ms\n"
     ]
    }
   ],
   "source": [
    "lda_etalon=LatentDirichletAllocation(n_components=4)\n",
    "start = time.time()\n",
    "X_t=lda.vectorizer.transform(X_train)\n",
    "etalon_matrix=lda_etalon.fit_transform(X_t)\n",
    "end = time.time()\n",
    "print(\"Время выполнения программы:\",\n",
    "      (end-start) * 10**3, \"ms\")"
   ]
  },
  {
   "cell_type": "code",
   "execution_count": 138,
   "id": "0681b7f8",
   "metadata": {},
   "outputs": [
    {
     "data": {
      "text/html": [
       "<div>\n",
       "<style scoped>\n",
       "    .dataframe tbody tr th:only-of-type {\n",
       "        vertical-align: middle;\n",
       "    }\n",
       "\n",
       "    .dataframe tbody tr th {\n",
       "        vertical-align: top;\n",
       "    }\n",
       "\n",
       "    .dataframe thead th {\n",
       "        text-align: right;\n",
       "    }\n",
       "</style>\n",
       "<table border=\"1\" class=\"dataframe\">\n",
       "  <thead>\n",
       "    <tr style=\"text-align: right;\">\n",
       "      <th>col_0</th>\n",
       "      <th>0</th>\n",
       "      <th>1</th>\n",
       "      <th>2</th>\n",
       "      <th>3</th>\n",
       "    </tr>\n",
       "    <tr>\n",
       "      <th>row_0</th>\n",
       "      <th></th>\n",
       "      <th></th>\n",
       "      <th></th>\n",
       "      <th></th>\n",
       "    </tr>\n",
       "  </thead>\n",
       "  <tbody>\n",
       "    <tr>\n",
       "      <th>0</th>\n",
       "      <td>146</td>\n",
       "      <td>352</td>\n",
       "      <td>247</td>\n",
       "      <td>64</td>\n",
       "    </tr>\n",
       "    <tr>\n",
       "      <th>1</th>\n",
       "      <td>193</td>\n",
       "      <td>118</td>\n",
       "      <td>198</td>\n",
       "      <td>28</td>\n",
       "    </tr>\n",
       "    <tr>\n",
       "      <th>2</th>\n",
       "      <td>113</td>\n",
       "      <td>9</td>\n",
       "      <td>8</td>\n",
       "      <td>3</td>\n",
       "    </tr>\n",
       "    <tr>\n",
       "      <th>3</th>\n",
       "      <td>8</td>\n",
       "      <td>4</td>\n",
       "      <td>20</td>\n",
       "      <td>389</td>\n",
       "    </tr>\n",
       "  </tbody>\n",
       "</table>\n",
       "</div>"
      ],
      "text/plain": [
       "col_0    0    1    2    3\n",
       "row_0                    \n",
       "0      146  352  247   64\n",
       "1      193  118  198   28\n",
       "2      113    9    8    3\n",
       "3        8    4   20  389"
      ]
     },
     "execution_count": 138,
     "metadata": {},
     "output_type": "execute_result"
    }
   ],
   "source": [
    "y_etalon_pred_train=np.argmax(etalon_matrix,axis=1)\n",
    "pd.crosstab(y_etalon_pred_train,y_train)"
   ]
  },
  {
   "cell_type": "code",
   "execution_count": 139,
   "id": "17e86576",
   "metadata": {},
   "outputs": [
    {
     "name": "stdout",
     "output_type": "stream",
     "text": [
      "Точность на тренировочных данных: 0.554\n"
     ]
    }
   ],
   "source": [
    "matches_etalon={\n",
    "    0:1,\n",
    "    1:2,\n",
    "    2:0,\n",
    "    3:3\n",
    "}\n",
    "print(\"Точность на тренировочных данных:\",round(get_accuracy(matches_etalon,y_etalon_pred_train,y_train),3))"
   ]
  },
  {
   "cell_type": "code",
   "execution_count": 120,
   "id": "8b788831",
   "metadata": {},
   "outputs": [],
   "source": [
    "X_t_test=lda.vectorizer.transform(X_test)\n",
    "etalon_matrix_test=lda_etalon.fit_transform(X_t_test)"
   ]
  },
  {
   "cell_type": "code",
   "execution_count": 121,
   "id": "ac90fa3b",
   "metadata": {},
   "outputs": [
    {
     "data": {
      "text/html": [
       "<div>\n",
       "<style scoped>\n",
       "    .dataframe tbody tr th:only-of-type {\n",
       "        vertical-align: middle;\n",
       "    }\n",
       "\n",
       "    .dataframe tbody tr th {\n",
       "        vertical-align: top;\n",
       "    }\n",
       "\n",
       "    .dataframe thead th {\n",
       "        text-align: right;\n",
       "    }\n",
       "</style>\n",
       "<table border=\"1\" class=\"dataframe\">\n",
       "  <thead>\n",
       "    <tr style=\"text-align: right;\">\n",
       "      <th>col_0</th>\n",
       "      <th>0</th>\n",
       "      <th>1</th>\n",
       "      <th>2</th>\n",
       "      <th>3</th>\n",
       "    </tr>\n",
       "    <tr>\n",
       "      <th>row_0</th>\n",
       "      <th></th>\n",
       "      <th></th>\n",
       "      <th></th>\n",
       "      <th></th>\n",
       "    </tr>\n",
       "  </thead>\n",
       "  <tbody>\n",
       "    <tr>\n",
       "      <th>1</th>\n",
       "      <td>1</td>\n",
       "      <td>0</td>\n",
       "      <td>0</td>\n",
       "      <td>0</td>\n",
       "    </tr>\n",
       "    <tr>\n",
       "      <th>3</th>\n",
       "      <td>123</td>\n",
       "      <td>115</td>\n",
       "      <td>121</td>\n",
       "      <td>115</td>\n",
       "    </tr>\n",
       "  </tbody>\n",
       "</table>\n",
       "</div>"
      ],
      "text/plain": [
       "col_0    0    1    2    3\n",
       "row_0                    \n",
       "1        1    0    0    0\n",
       "3      123  115  121  115"
      ]
     },
     "execution_count": 121,
     "metadata": {},
     "output_type": "execute_result"
    }
   ],
   "source": [
    "y_etalon_pred_test=np.argmax(etalon_matrix_test,axis=1)\n",
    "pd.crosstab(y_etalon_pred_test,y_test)"
   ]
  },
  {
   "cell_type": "code",
   "execution_count": 122,
   "id": "ed2191c4",
   "metadata": {},
   "outputs": [
    {
     "name": "stdout",
     "output_type": "stream",
     "text": [
      "Точность на тренировочных данных: 0.242\n"
     ]
    }
   ],
   "source": [
    "print(\"Точность на тренировочных данных:\",round(get_accuracy(matches_etalon,y_etalon_pred_test,y_test),3))"
   ]
  },
  {
   "cell_type": "markdown",
   "id": "e4d06c86",
   "metadata": {},
   "source": [
    "## Расчёт когерентностей тем"
   ]
  },
  {
   "cell_type": "code",
   "execution_count": 123,
   "id": "e4f4d19f",
   "metadata": {},
   "outputs": [],
   "source": [
    "from LDA import get_coherence_score"
   ]
  },
  {
   "cell_type": "code",
   "execution_count": 127,
   "id": "e08fcb36",
   "metadata": {},
   "outputs": [
    {
     "name": "stdout",
     "output_type": "stream",
     "text": [
      "Когерентность тем (u_mass): -0.2462\n"
     ]
    }
   ],
   "source": [
    "get_coherence_score(lda.vectorizer, lda.phi, X_train, metric='u_mass')#По реализованному алгоритму"
   ]
  },
  {
   "cell_type": "code",
   "execution_count": 140,
   "id": "e332d3c5",
   "metadata": {},
   "outputs": [],
   "source": [
    "etalon_phi=lda_etalon.components_/lda_etalon.components_.sum(axis=1, keepdims=True)"
   ]
  },
  {
   "cell_type": "code",
   "execution_count": 141,
   "id": "a62adbdb",
   "metadata": {},
   "outputs": [
    {
     "name": "stdout",
     "output_type": "stream",
     "text": [
      "Когерентность тем (u_mass): -0.3968\n"
     ]
    }
   ],
   "source": [
    "get_coherence_score(lda.vectorizer, etalon_phi, X_train, metric='u_mass')#По эталонному алгоритму"
   ]
  }
 ],
 "metadata": {
  "kernelspec": {
   "display_name": "tb_env",
   "language": "python",
   "name": "python3"
  },
  "language_info": {
   "codemirror_mode": {
    "name": "ipython",
    "version": 3
   },
   "file_extension": ".py",
   "mimetype": "text/x-python",
   "name": "python",
   "nbconvert_exporter": "python",
   "pygments_lexer": "ipython3",
   "version": "3.10.16"
  }
 },
 "nbformat": 4,
 "nbformat_minor": 5
}
