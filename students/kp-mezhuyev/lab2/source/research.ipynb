{
 "cells": [
  {
   "cell_type": "markdown",
   "metadata": {},
   "source": [
    "# Лабораторная работа №2. Градиентный бустинг\n",
    "\n",
    "В рамках данной лабораторной работы предстоит реализовать алгоритм градиентного бустинга и сравнить его с эталонной реализацией из библиотеки `scikit-learn`.\n",
    "\n",
    "## Задание\n",
    "\n",
    "1. Выбрать датасет для анализа, например, на [kaggle](https://www.kaggle.com/datasets).\n",
    "2. Реализовать алгоритм градиентного бустинга.\n",
    "3. Обучить модель на выбранном датасете.\n",
    "4. Оценить качество модели с использованием кросс-валидации.\n",
    "5. Замерить время обучения модели.\n",
    "6. Сравнить результаты с эталонной реализацией из библиотеки [scikit-learn](https://scikit-learn.org/stable/):\n",
    "   * точность модели;\n",
    "   * время обучения.\n",
    "7. Подготовить отчет, включающий:\n",
    "   * описание алгоритма градиентного бустинга;\n",
    "   * описание датасета;\n",
    "   * результаты экспериментов;\n",
    "   * сравнение с эталонной реализацией;\n",
    "   * выводы."
   ]
  },
  {
   "cell_type": "markdown",
   "metadata": {},
   "source": [
    "# 1. Выбрать датасет для анализа\n",
    "### В качестве датасета был выбран набор данных для предсказания цены дома\n",
    "### Таргет: price\n",
    "\n",
    "### Ссылка:\n",
    "\n",
    "https://www.kaggle.com/datasets/denkuznetz/housing-prices-regression"
   ]
  },
  {
   "cell_type": "code",
   "execution_count": 1,
   "metadata": {},
   "outputs": [
    {
     "name": "stderr",
     "output_type": "stream",
     "text": [
      "c:\\Users\\klimm\\AppData\\Local\\Programs\\Python\\Python311\\Lib\\site-packages\\tqdm\\auto.py:21: TqdmWarning: IProgress not found. Please update jupyter and ipywidgets. See https://ipywidgets.readthedocs.io/en/stable/user_install.html\n",
      "  from .autonotebook import tqdm as notebook_tqdm\n"
     ]
    },
    {
     "name": "stdout",
     "output_type": "stream",
     "text": [
      "Downloading from https://www.kaggle.com/api/v1/datasets/download/denkuznetz/housing-prices-regression?dataset_version_number=1...\n"
     ]
    },
    {
     "name": "stderr",
     "output_type": "stream",
     "text": [
      "100%|██████████| 23.6k/23.6k [00:00<00:00, 17.0MB/s]"
     ]
    },
    {
     "name": "stdout",
     "output_type": "stream",
     "text": [
      "Extracting files...\n",
      "Path to dataset files: C:\\Users\\klimm\\.cache\\kagglehub\\datasets\\denkuznetz\\housing-prices-regression\\versions\\1\n"
     ]
    },
    {
     "name": "stderr",
     "output_type": "stream",
     "text": [
      "\n"
     ]
    }
   ],
   "source": [
    "import kagglehub\n",
    "\n",
    "# Download latest version\n",
    "path = kagglehub.dataset_download(\"denkuznetz/housing-prices-regression\")\n",
    "\n",
    "print(\"Path to dataset files:\", path)"
   ]
  },
  {
   "cell_type": "code",
   "execution_count": 2,
   "metadata": {},
   "outputs": [],
   "source": [
    "import pandas as pd"
   ]
  },
  {
   "cell_type": "code",
   "execution_count": 3,
   "metadata": {},
   "outputs": [],
   "source": [
    "df = pd.read_csv('real_estate_dataset.csv')"
   ]
  },
  {
   "cell_type": "code",
   "execution_count": 3,
   "metadata": {},
   "outputs": [
    {
     "data": {
      "text/plain": [
       "(500, 12)"
      ]
     },
     "execution_count": 3,
     "metadata": {},
     "output_type": "execute_result"
    }
   ],
   "source": [
    "df.shape"
   ]
  },
  {
   "cell_type": "code",
   "execution_count": 4,
   "metadata": {},
   "outputs": [
    {
     "data": {
      "text/html": [
       "<div>\n",
       "<style scoped>\n",
       "    .dataframe tbody tr th:only-of-type {\n",
       "        vertical-align: middle;\n",
       "    }\n",
       "\n",
       "    .dataframe tbody tr th {\n",
       "        vertical-align: top;\n",
       "    }\n",
       "\n",
       "    .dataframe thead th {\n",
       "        text-align: right;\n",
       "    }\n",
       "</style>\n",
       "<table border=\"1\" class=\"dataframe\">\n",
       "  <thead>\n",
       "    <tr style=\"text-align: right;\">\n",
       "      <th></th>\n",
       "      <th>ID</th>\n",
       "      <th>Square_Feet</th>\n",
       "      <th>Num_Bedrooms</th>\n",
       "      <th>Num_Bathrooms</th>\n",
       "      <th>Num_Floors</th>\n",
       "      <th>Year_Built</th>\n",
       "      <th>Has_Garden</th>\n",
       "      <th>Has_Pool</th>\n",
       "      <th>Garage_Size</th>\n",
       "      <th>Location_Score</th>\n",
       "      <th>Distance_to_Center</th>\n",
       "      <th>Price</th>\n",
       "    </tr>\n",
       "  </thead>\n",
       "  <tbody>\n",
       "    <tr>\n",
       "      <th>0</th>\n",
       "      <td>1</td>\n",
       "      <td>143.635030</td>\n",
       "      <td>1</td>\n",
       "      <td>3</td>\n",
       "      <td>3</td>\n",
       "      <td>1967</td>\n",
       "      <td>1</td>\n",
       "      <td>1</td>\n",
       "      <td>48</td>\n",
       "      <td>8.297631</td>\n",
       "      <td>5.935734</td>\n",
       "      <td>602134.816747</td>\n",
       "    </tr>\n",
       "    <tr>\n",
       "      <th>1</th>\n",
       "      <td>2</td>\n",
       "      <td>287.678577</td>\n",
       "      <td>1</td>\n",
       "      <td>2</td>\n",
       "      <td>1</td>\n",
       "      <td>1949</td>\n",
       "      <td>0</td>\n",
       "      <td>1</td>\n",
       "      <td>37</td>\n",
       "      <td>6.061466</td>\n",
       "      <td>10.827392</td>\n",
       "      <td>591425.135386</td>\n",
       "    </tr>\n",
       "    <tr>\n",
       "      <th>2</th>\n",
       "      <td>3</td>\n",
       "      <td>232.998485</td>\n",
       "      <td>1</td>\n",
       "      <td>3</td>\n",
       "      <td>2</td>\n",
       "      <td>1923</td>\n",
       "      <td>1</td>\n",
       "      <td>0</td>\n",
       "      <td>14</td>\n",
       "      <td>2.911442</td>\n",
       "      <td>6.904599</td>\n",
       "      <td>464478.696880</td>\n",
       "    </tr>\n",
       "    <tr>\n",
       "      <th>3</th>\n",
       "      <td>4</td>\n",
       "      <td>199.664621</td>\n",
       "      <td>5</td>\n",
       "      <td>2</td>\n",
       "      <td>2</td>\n",
       "      <td>1918</td>\n",
       "      <td>0</td>\n",
       "      <td>0</td>\n",
       "      <td>17</td>\n",
       "      <td>2.070949</td>\n",
       "      <td>8.284019</td>\n",
       "      <td>583105.655996</td>\n",
       "    </tr>\n",
       "    <tr>\n",
       "      <th>4</th>\n",
       "      <td>5</td>\n",
       "      <td>89.004660</td>\n",
       "      <td>4</td>\n",
       "      <td>3</td>\n",
       "      <td>3</td>\n",
       "      <td>1999</td>\n",
       "      <td>1</td>\n",
       "      <td>0</td>\n",
       "      <td>34</td>\n",
       "      <td>1.523278</td>\n",
       "      <td>14.648277</td>\n",
       "      <td>619879.142523</td>\n",
       "    </tr>\n",
       "  </tbody>\n",
       "</table>\n",
       "</div>"
      ],
      "text/plain": [
       "   ID  Square_Feet  Num_Bedrooms  Num_Bathrooms  Num_Floors  Year_Built  \\\n",
       "0   1   143.635030             1              3           3        1967   \n",
       "1   2   287.678577             1              2           1        1949   \n",
       "2   3   232.998485             1              3           2        1923   \n",
       "3   4   199.664621             5              2           2        1918   \n",
       "4   5    89.004660             4              3           3        1999   \n",
       "\n",
       "   Has_Garden  Has_Pool  Garage_Size  Location_Score  Distance_to_Center  \\\n",
       "0           1         1           48        8.297631            5.935734   \n",
       "1           0         1           37        6.061466           10.827392   \n",
       "2           1         0           14        2.911442            6.904599   \n",
       "3           0         0           17        2.070949            8.284019   \n",
       "4           1         0           34        1.523278           14.648277   \n",
       "\n",
       "           Price  \n",
       "0  602134.816747  \n",
       "1  591425.135386  \n",
       "2  464478.696880  \n",
       "3  583105.655996  \n",
       "4  619879.142523  "
      ]
     },
     "execution_count": 4,
     "metadata": {},
     "output_type": "execute_result"
    }
   ],
   "source": [
    "df.head()"
   ]
  },
  {
   "cell_type": "code",
   "execution_count": 5,
   "metadata": {},
   "outputs": [
    {
     "name": "stdout",
     "output_type": "stream",
     "text": [
      "<class 'pandas.core.frame.DataFrame'>\n",
      "RangeIndex: 500 entries, 0 to 499\n",
      "Data columns (total 12 columns):\n",
      " #   Column              Non-Null Count  Dtype  \n",
      "---  ------              --------------  -----  \n",
      " 0   ID                  500 non-null    int64  \n",
      " 1   Square_Feet         500 non-null    float64\n",
      " 2   Num_Bedrooms        500 non-null    int64  \n",
      " 3   Num_Bathrooms       500 non-null    int64  \n",
      " 4   Num_Floors          500 non-null    int64  \n",
      " 5   Year_Built          500 non-null    int64  \n",
      " 6   Has_Garden          500 non-null    int64  \n",
      " 7   Has_Pool            500 non-null    int64  \n",
      " 8   Garage_Size         500 non-null    int64  \n",
      " 9   Location_Score      500 non-null    float64\n",
      " 10  Distance_to_Center  500 non-null    float64\n",
      " 11  Price               500 non-null    float64\n",
      "dtypes: float64(4), int64(8)\n",
      "memory usage: 47.0 KB\n"
     ]
    }
   ],
   "source": [
    "df.info()"
   ]
  },
  {
   "cell_type": "code",
   "execution_count": 6,
   "metadata": {},
   "outputs": [
    {
     "data": {
      "text/html": [
       "<div>\n",
       "<style scoped>\n",
       "    .dataframe tbody tr th:only-of-type {\n",
       "        vertical-align: middle;\n",
       "    }\n",
       "\n",
       "    .dataframe tbody tr th {\n",
       "        vertical-align: top;\n",
       "    }\n",
       "\n",
       "    .dataframe thead th {\n",
       "        text-align: right;\n",
       "    }\n",
       "</style>\n",
       "<table border=\"1\" class=\"dataframe\">\n",
       "  <thead>\n",
       "    <tr style=\"text-align: right;\">\n",
       "      <th></th>\n",
       "      <th>ID</th>\n",
       "      <th>Square_Feet</th>\n",
       "      <th>Num_Bedrooms</th>\n",
       "      <th>Num_Bathrooms</th>\n",
       "      <th>Num_Floors</th>\n",
       "      <th>Year_Built</th>\n",
       "      <th>Has_Garden</th>\n",
       "      <th>Has_Pool</th>\n",
       "      <th>Garage_Size</th>\n",
       "      <th>Location_Score</th>\n",
       "      <th>Distance_to_Center</th>\n",
       "      <th>Price</th>\n",
       "    </tr>\n",
       "  </thead>\n",
       "  <tbody>\n",
       "    <tr>\n",
       "      <th>count</th>\n",
       "      <td>500.000000</td>\n",
       "      <td>500.000000</td>\n",
       "      <td>500.000000</td>\n",
       "      <td>500.000000</td>\n",
       "      <td>500.000000</td>\n",
       "      <td>500.000000</td>\n",
       "      <td>500.000000</td>\n",
       "      <td>500.000000</td>\n",
       "      <td>500.000000</td>\n",
       "      <td>500.000000</td>\n",
       "      <td>500.000000</td>\n",
       "      <td>500.000000</td>\n",
       "    </tr>\n",
       "    <tr>\n",
       "      <th>mean</th>\n",
       "      <td>250.500000</td>\n",
       "      <td>174.640428</td>\n",
       "      <td>2.958000</td>\n",
       "      <td>1.976000</td>\n",
       "      <td>1.964000</td>\n",
       "      <td>1957.604000</td>\n",
       "      <td>0.536000</td>\n",
       "      <td>0.492000</td>\n",
       "      <td>30.174000</td>\n",
       "      <td>5.164410</td>\n",
       "      <td>10.469641</td>\n",
       "      <td>582209.629529</td>\n",
       "    </tr>\n",
       "    <tr>\n",
       "      <th>std</th>\n",
       "      <td>144.481833</td>\n",
       "      <td>74.672102</td>\n",
       "      <td>1.440968</td>\n",
       "      <td>0.820225</td>\n",
       "      <td>0.802491</td>\n",
       "      <td>35.491781</td>\n",
       "      <td>0.499202</td>\n",
       "      <td>0.500437</td>\n",
       "      <td>11.582575</td>\n",
       "      <td>2.853489</td>\n",
       "      <td>5.588197</td>\n",
       "      <td>122273.390345</td>\n",
       "    </tr>\n",
       "    <tr>\n",
       "      <th>min</th>\n",
       "      <td>1.000000</td>\n",
       "      <td>51.265396</td>\n",
       "      <td>1.000000</td>\n",
       "      <td>1.000000</td>\n",
       "      <td>1.000000</td>\n",
       "      <td>1900.000000</td>\n",
       "      <td>0.000000</td>\n",
       "      <td>0.000000</td>\n",
       "      <td>10.000000</td>\n",
       "      <td>0.004428</td>\n",
       "      <td>0.062818</td>\n",
       "      <td>276892.470136</td>\n",
       "    </tr>\n",
       "    <tr>\n",
       "      <th>25%</th>\n",
       "      <td>125.750000</td>\n",
       "      <td>110.319923</td>\n",
       "      <td>2.000000</td>\n",
       "      <td>1.000000</td>\n",
       "      <td>1.000000</td>\n",
       "      <td>1926.000000</td>\n",
       "      <td>0.000000</td>\n",
       "      <td>0.000000</td>\n",
       "      <td>20.000000</td>\n",
       "      <td>2.760650</td>\n",
       "      <td>6.066754</td>\n",
       "      <td>503080.344140</td>\n",
       "    </tr>\n",
       "    <tr>\n",
       "      <th>50%</th>\n",
       "      <td>250.500000</td>\n",
       "      <td>178.290937</td>\n",
       "      <td>3.000000</td>\n",
       "      <td>2.000000</td>\n",
       "      <td>2.000000</td>\n",
       "      <td>1959.000000</td>\n",
       "      <td>1.000000</td>\n",
       "      <td>0.000000</td>\n",
       "      <td>30.000000</td>\n",
       "      <td>5.206518</td>\n",
       "      <td>10.886066</td>\n",
       "      <td>574724.113347</td>\n",
       "    </tr>\n",
       "    <tr>\n",
       "      <th>75%</th>\n",
       "      <td>375.250000</td>\n",
       "      <td>239.031220</td>\n",
       "      <td>4.000000</td>\n",
       "      <td>3.000000</td>\n",
       "      <td>3.000000</td>\n",
       "      <td>1988.000000</td>\n",
       "      <td>1.000000</td>\n",
       "      <td>1.000000</td>\n",
       "      <td>41.000000</td>\n",
       "      <td>7.732933</td>\n",
       "      <td>15.072590</td>\n",
       "      <td>665942.301274</td>\n",
       "    </tr>\n",
       "    <tr>\n",
       "      <th>max</th>\n",
       "      <td>500.000000</td>\n",
       "      <td>298.241199</td>\n",
       "      <td>5.000000</td>\n",
       "      <td>3.000000</td>\n",
       "      <td>3.000000</td>\n",
       "      <td>2022.000000</td>\n",
       "      <td>1.000000</td>\n",
       "      <td>1.000000</td>\n",
       "      <td>49.000000</td>\n",
       "      <td>9.995439</td>\n",
       "      <td>19.927966</td>\n",
       "      <td>960678.274291</td>\n",
       "    </tr>\n",
       "  </tbody>\n",
       "</table>\n",
       "</div>"
      ],
      "text/plain": [
       "               ID  Square_Feet  Num_Bedrooms  Num_Bathrooms  Num_Floors  \\\n",
       "count  500.000000   500.000000    500.000000     500.000000  500.000000   \n",
       "mean   250.500000   174.640428      2.958000       1.976000    1.964000   \n",
       "std    144.481833    74.672102      1.440968       0.820225    0.802491   \n",
       "min      1.000000    51.265396      1.000000       1.000000    1.000000   \n",
       "25%    125.750000   110.319923      2.000000       1.000000    1.000000   \n",
       "50%    250.500000   178.290937      3.000000       2.000000    2.000000   \n",
       "75%    375.250000   239.031220      4.000000       3.000000    3.000000   \n",
       "max    500.000000   298.241199      5.000000       3.000000    3.000000   \n",
       "\n",
       "        Year_Built  Has_Garden    Has_Pool  Garage_Size  Location_Score  \\\n",
       "count   500.000000  500.000000  500.000000   500.000000      500.000000   \n",
       "mean   1957.604000    0.536000    0.492000    30.174000        5.164410   \n",
       "std      35.491781    0.499202    0.500437    11.582575        2.853489   \n",
       "min    1900.000000    0.000000    0.000000    10.000000        0.004428   \n",
       "25%    1926.000000    0.000000    0.000000    20.000000        2.760650   \n",
       "50%    1959.000000    1.000000    0.000000    30.000000        5.206518   \n",
       "75%    1988.000000    1.000000    1.000000    41.000000        7.732933   \n",
       "max    2022.000000    1.000000    1.000000    49.000000        9.995439   \n",
       "\n",
       "       Distance_to_Center          Price  \n",
       "count          500.000000     500.000000  \n",
       "mean            10.469641  582209.629529  \n",
       "std              5.588197  122273.390345  \n",
       "min              0.062818  276892.470136  \n",
       "25%              6.066754  503080.344140  \n",
       "50%             10.886066  574724.113347  \n",
       "75%             15.072590  665942.301274  \n",
       "max             19.927966  960678.274291  "
      ]
     },
     "execution_count": 6,
     "metadata": {},
     "output_type": "execute_result"
    }
   ],
   "source": [
    "df.describe()"
   ]
  },
  {
   "cell_type": "markdown",
   "metadata": {},
   "source": [
    "Нет пропусков\n",
    "\n",
    "Удалим ID"
   ]
  },
  {
   "cell_type": "code",
   "execution_count": 10,
   "metadata": {},
   "outputs": [],
   "source": [
    "X = df.drop(['ID', 'Price'], axis=1)\n",
    "y = df['Price']"
   ]
  },
  {
   "cell_type": "markdown",
   "metadata": {},
   "source": [
    "# 2. Реализовать алгоритм градиентного бустинга."
   ]
  },
  {
   "cell_type": "code",
   "execution_count": 14,
   "metadata": {},
   "outputs": [],
   "source": [
    "import numpy as np\n",
    "from sklearn.model_selection import cross_validate\n",
    "from sklearn.metrics import mean_squared_error, r2_score\n",
    "from sklearn.tree import DecisionTreeRegressor"
   ]
  },
  {
   "cell_type": "code",
   "execution_count": 16,
   "metadata": {},
   "outputs": [],
   "source": [
    "class CustomGradientBoosting:\n",
    "    \"\"\"\n",
    "    Реализация градиентного бустинга для регрессии\n",
    "    \"\"\"\n",
    "    \n",
    "    def __init__(self, n_estimators=100, learning_rate=0.1, max_depth=3, random_state=None):\n",
    "        self.n_estimators = n_estimators\n",
    "        self.learning_rate = learning_rate\n",
    "        self.max_depth = max_depth\n",
    "        self.random_state = random_state\n",
    "        \n",
    "        # Списки для хранения моделей и их весов\n",
    "        self.models = []\n",
    "        self.train_errors = []\n",
    "        self.feature_importances_ = None\n",
    "        \n",
    "    def _calculate_residuals(self, y_true, y_pred):\n",
    "        \"\"\"Вычисление остатков (градиентов для MSE)\"\"\"\n",
    "        return y_true - y_pred\n",
    "    \n",
    "    def _initial_prediction(self, y):\n",
    "        \"\"\"Начальное предсказание (среднее значение для MSE)\"\"\"\n",
    "        return np.mean(y)\n",
    "    \n",
    "    def fit(self, X, y):\n",
    "        \"\"\"Обучение модели градиентного бустинга\"\"\"\n",
    "        # Преобразование в numpy arrays\n",
    "        X = np.array(X)\n",
    "        y = np.array(y)\n",
    "        \n",
    "        # Инициализация\n",
    "        self.models = []\n",
    "        self.train_errors = []\n",
    "        \n",
    "        # Начальное предсказание (константа)\n",
    "        self.initial_prediction = self._initial_prediction(y)\n",
    "        current_predictions = np.full(len(y), self.initial_prediction)\n",
    "        \n",
    "        # Инициализация важности признаков\n",
    "        self.feature_importances_ = np.zeros(X.shape[1])\n",
    "        \n",
    "        # Итеративное добавление моделей\n",
    "        for i in range(self.n_estimators):\n",
    "            # Вычисление остатков (псевдо-остатков)\n",
    "            residuals = self._calculate_residuals(y, current_predictions)\n",
    "            \n",
    "            # Обучение нового слабого ученика на остатках\n",
    "            tree = DecisionTreeRegressor(\n",
    "                max_depth=self.max_depth,\n",
    "                random_state=self.random_state + i if self.random_state else None\n",
    "            )\n",
    "            tree.fit(X, residuals)\n",
    "            \n",
    "            # Предсказание нового дерева\n",
    "            tree_predictions = tree.predict(X)\n",
    "            \n",
    "            # Обновление общих предсказаний с learning rate\n",
    "            current_predictions += self.learning_rate * tree_predictions\n",
    "            \n",
    "            # Сохранение модели\n",
    "            self.models.append(tree)\n",
    "            \n",
    "            # Накопление важности признаков\n",
    "            self.feature_importances_ += tree.feature_importances_\n",
    "            \n",
    "            # Вычисление ошибки на обучающей выборке (используем импорт из sklearn)\n",
    "            train_error = mean_squared_error(y, current_predictions)\n",
    "            self.train_errors.append(train_error)\n",
    "        \n",
    "        # Нормализация важности признаков\n",
    "        self.feature_importances_ /= self.n_estimators\n",
    "        \n",
    "        return self\n",
    "    \n",
    "    def predict(self, X):\n",
    "        \"\"\"Предсказание для новых данных\"\"\"\n",
    "        X = np.array(X)\n",
    "        \n",
    "        # Начинаем с начального предсказания\n",
    "        predictions = np.full(len(X), self.initial_prediction)\n",
    "        \n",
    "        # Добавляем предсказания каждого дерева\n",
    "        for tree in self.models:\n",
    "            tree_predictions = tree.predict(X)\n",
    "            predictions += self.learning_rate * tree_predictions\n",
    "            \n",
    "        return predictions"
   ]
  },
  {
   "cell_type": "markdown",
   "metadata": {},
   "source": [
    "# 3-5. Обучить модель на выбранном датасете, оценить качество модели с использованием кросс-валидации и замерить время обучения модели."
   ]
  },
  {
   "cell_type": "code",
   "execution_count": 6,
   "metadata": {},
   "outputs": [],
   "source": [
    "import time\n",
    "from sklearn.model_selection import KFold\n",
    "from sklearn.model_selection import train_test_split"
   ]
  },
  {
   "cell_type": "code",
   "execution_count": 11,
   "metadata": {},
   "outputs": [],
   "source": [
    "# Разделение данных\n",
    "X_train, X_test, y_train, y_test = train_test_split(X, y, test_size=0.2, random_state=42)"
   ]
  },
  {
   "cell_type": "code",
   "execution_count": 12,
   "metadata": {},
   "outputs": [
    {
     "name": "stdout",
     "output_type": "stream",
     "text": [
      "Кастомный градиентный бустинг\n",
      "Фолд 1/5... R²: 0.8701, Время: 0.12с\n",
      "Фолд 2/5... R²: 0.8959, Время: 0.11с\n",
      "Фолд 3/5... R²: 0.9100, Время: 0.10с\n",
      "Фолд 4/5... R²: 0.8751, Время: 0.08с\n",
      "Фолд 5/5... R²: 0.9065, Время: 0.09с\n",
      "\n",
      "Кросс-валидация:\n",
      "R²: 0.8915 ± 0.0162\n",
      "Время: 0.10 ± 0.01 секунд\n"
     ]
    }
   ],
   "source": [
    "print(\"Кастомный градиентный бустинг\")\n",
    "\n",
    "# Кросс-валидация\n",
    "cv_folds = KFold(n_splits=5, shuffle=True, random_state=42)\n",
    "\n",
    "def custom_cross_validation(model_class, X, y, cv_folds, **model_params):\n",
    "    fold_scores_r2 = []\n",
    "    fold_times = []\n",
    "    \n",
    "    for fold, (train_idx, val_idx) in enumerate(cv_folds.split(X), 1):\n",
    "        print(f\"Фолд {fold}/5...\", end=\" \")\n",
    "        \n",
    "        X_fold_train, X_fold_val = X.iloc[train_idx], X.iloc[val_idx]\n",
    "        y_fold_train, y_fold_val = y.iloc[train_idx], y.iloc[val_idx]\n",
    "        \n",
    "        fold_model = model_class(**model_params)\n",
    "        \n",
    "        fold_start_time = time.time()\n",
    "        fold_model.fit(X_fold_train, y_fold_train)\n",
    "        fold_pred = fold_model.predict(X_fold_val)\n",
    "        fold_time = time.time() - fold_start_time\n",
    "        \n",
    "        fold_r2 = r2_score(y_fold_val, fold_pred)\n",
    "        \n",
    "        fold_scores_r2.append(fold_r2)\n",
    "        fold_times.append(fold_time)\n",
    "        \n",
    "        print(f\"R²: {fold_r2:.4f}, Время: {fold_time:.2f}с\")\n",
    "    \n",
    "    return fold_scores_r2, fold_times\n",
    "\n",
    "# Проведение кросс-валидации\n",
    "cv_start_time = time.time()\n",
    "cv_r2_scores, cv_times = custom_cross_validation(\n",
    "    CustomGradientBoosting, X_train, y_train, cv_folds,\n",
    "    n_estimators=50, learning_rate=0.1, max_depth=4, random_state=42\n",
    ")\n",
    "total_cv_time = time.time() - cv_start_time\n",
    "\n",
    "# Результаты\n",
    "print(f\"\\nКросс-валидация:\")\n",
    "print(f\"R²: {np.mean(cv_r2_scores):.4f} ± {np.std(cv_r2_scores):.4f}\")\n",
    "print(f\"Время: {np.mean(cv_times):.2f} ± {np.std(cv_times):.2f} секунд\")"
   ]
  },
  {
   "cell_type": "markdown",
   "metadata": {},
   "source": [
    "# 6. Сравнить результаты с эталонной реализацией из библиотеки [scikit-learn](https://scikit-learn.org/stable/):\n",
    "   * точность модели;\n",
    "   * время обучения."
   ]
  },
  {
   "cell_type": "code",
   "execution_count": null,
   "metadata": {},
   "outputs": [],
   "source": [
    "from sklearn.ensemble import GradientBoostingRegressor"
   ]
  },
  {
   "cell_type": "code",
   "execution_count": 13,
   "metadata": {},
   "outputs": [
    {
     "name": "stdout",
     "output_type": "stream",
     "text": [
      "Sklearn GB\n",
      "Кросс-валидация sklearn:\n",
      "R²: 0.8799 ± 0.0099\n",
      "Время: 0.41 секунд\n"
     ]
    }
   ],
   "source": [
    "print(\"Sklearn GB\")\n",
    "\n",
    "# Создание и обучение модели sklearn\n",
    "sklearn_gb = GradientBoostingRegressor(\n",
    "    n_estimators=50, learning_rate=0.1, max_depth=4, random_state=42\n",
    ")\n",
    "\n",
    "# Замер времени и кросс-валидация\n",
    "cv_start_time = time.time()\n",
    "cv_results = cross_validate(\n",
    "    sklearn_gb, X_train, y_train, cv=5, \n",
    "    scoring=['r2', 'neg_mean_squared_error'], \n",
    "    return_train_score=True\n",
    ")\n",
    "cv_time = time.time() - cv_start_time\n",
    "\n",
    "# Результаты\n",
    "test_r2 = cv_results['test_r2']\n",
    "print(f\"Кросс-валидация sklearn:\")\n",
    "print(f\"R²: {test_r2.mean():.4f} ± {test_r2.std():.4f}\")\n",
    "print(f\"Время: {cv_time:.2f} секунд\")"
   ]
  },
  {
   "cell_type": "markdown",
   "metadata": {},
   "source": [
    "Отчет приложен в README.md"
   ]
  }
 ],
 "metadata": {
  "kernelspec": {
   "display_name": "Python 3",
   "language": "python",
   "name": "python3"
  },
  "language_info": {
   "codemirror_mode": {
    "name": "ipython",
    "version": 3
   },
   "file_extension": ".py",
   "mimetype": "text/x-python",
   "name": "python",
   "nbconvert_exporter": "python",
   "pygments_lexer": "ipython3",
   "version": "3.11.9"
  }
 },
 "nbformat": 4,
 "nbformat_minor": 2
}
