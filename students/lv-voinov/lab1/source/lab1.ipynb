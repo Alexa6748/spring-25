{
 "cells": [
  {
   "cell_type": "code",
   "execution_count": 1,
   "id": "bcc6b04b",
   "metadata": {},
   "outputs": [],
   "source": [
    "import pandas as pd\n",
    "import numpy as np\n",
    "import matplotlib.pyplot as plt\n",
    "import datetime\n",
    "import seaborn as sns\n",
    "\n",
    "from sklearn.preprocessing import StandardScaler\n",
    "from sklearn.model_selection import train_test_split\n",
    "from sklearn.model_selection import cross_val_score\n",
    "from sklearn.metrics import classification_report\n",
    "from sklearn.tree import DecisionTreeClassifier\n",
    "from sklearn.ensemble import AdaBoostClassifier"
   ]
  },
  {
   "cell_type": "code",
   "execution_count": 2,
   "id": "61ec026b",
   "metadata": {},
   "outputs": [],
   "source": [
    "data = pd.read_csv('breast-cancer.csv')\n",
    "data = data.drop(['id'], axis=1)\n",
    "X = data.drop(['diagnosis'], axis=1)\n",
    "y = data['diagnosis']\n",
    "y = np.where(y == 'M', 1, -1)\n",
    "scaler = StandardScaler()\n",
    "X_scaled = scaler.fit_transform(X)\n",
    "X = pd.DataFrame(X_scaled, columns=X.columns)\n",
    "X_train, X_test, y_train, y_test = train_test_split(X, y, stratify=y, test_size=0.25, random_state=42)"
   ]
  },
  {
   "cell_type": "code",
   "execution_count": 3,
   "id": "07950740",
   "metadata": {},
   "outputs": [],
   "source": [
    "class AdaBoost:\n",
    "    def __init__(self, n_estimators):\n",
    "        self.n_estimators = n_estimators\n",
    "        self.models = []\n",
    "        self.alphas = []\n",
    "\n",
    "    def fit(self, X, y):\n",
    "        n_samples = X.shape[0]\n",
    "        weights = np.ones(n_samples) / n_samples\n",
    "        \n",
    "        for _ in range(self.n_estimators):\n",
    "            model = DecisionTreeClassifier(max_depth=1)\n",
    "            model.fit(X, y, sample_weight=weights)\n",
    "            pred = model.predict(X)\n",
    "            \n",
    "            incorrect = (pred != y)\n",
    "            error = np.dot(weights, incorrect)\n",
    "            \n",
    "            if error >= 0.5 - 1e-10:\n",
    "                break\n",
    "            if error < 1e-10:\n",
    "                alpha = 1e5\n",
    "            else:\n",
    "                alpha = 0.5 * np.log((1 - error) / error)\n",
    "            \n",
    "            weights *= np.exp(alpha * incorrect)\n",
    "            weights /= np.sum(weights)\n",
    "            \n",
    "            self.models.append(model)\n",
    "            self.alphas.append(alpha)\n",
    "\n",
    "    def predict(self, X):\n",
    "        preds = np.array([model.predict(X) for model in self.models])\n",
    "        weighted_sum = np.dot(self.alphas, preds)\n",
    "        return np.sign(weighted_sum)"
   ]
  },
  {
   "cell_type": "code",
   "execution_count": 4,
   "id": "5efb1ac9",
   "metadata": {},
   "outputs": [],
   "source": [
    "def cross_validate(model, X, y, k=5):\n",
    "    np.random.seed(42)\n",
    "    indices = np.arange(X.shape[0])\n",
    "    np.random.shuffle(indices)\n",
    "    \n",
    "    fold_size = len(indices) // k\n",
    "    scores = []\n",
    "    \n",
    "    for i in range(k):\n",
    "        test_start = i * fold_size\n",
    "        test_end = (i + 1) * fold_size\n",
    "\n",
    "        test_idx = indices[test_start:test_end]\n",
    "        train_idx = np.concatenate([indices[:test_start], indices[test_end:]])\n",
    "        \n",
    "        X_train, y_train = X[train_idx], y[train_idx]\n",
    "        X_test, y_test = X[test_idx], y[test_idx]\n",
    "        \n",
    "        model.fit(X_train, y_train)\n",
    "        y_pred = model.predict(X_test)\n",
    "\n",
    "        accuracy = np.mean(y_pred == y_test)\n",
    "        scores.append(accuracy)\n",
    "    \n",
    "    return scores"
   ]
  },
  {
   "cell_type": "code",
   "execution_count": 5,
   "id": "f23f3c26",
   "metadata": {},
   "outputs": [
    {
     "name": "stdout",
     "output_type": "stream",
     "text": [
      "Mean accuracy for n_estimators=25: 0.9788 (+-0.0120), time: 0:00:00.354070\n",
      "Mean accuracy for n_estimators=50: 0.9841 (+-0.0117), time: 0:00:00.750160\n",
      "Mean accuracy for n_estimators=75: 0.9858 (+-0.0132), time: 0:00:01.122841\n",
      "Mean accuracy for n_estimators=100: 0.9894 (+-0.0142), time: 0:00:01.438270\n",
      "Mean accuracy for n_estimators=150: 0.9894 (+-0.0142), time: 0:00:02.075900\n",
      "Mean accuracy for n_estimators=200: 0.9912 (+-0.0112), time: 0:00:02.856496\n",
      "Mean accuracy for n_estimators=250: 0.9912 (+-0.0112), time: 0:00:03.476977\n"
     ]
    }
   ],
   "source": [
    "for n in [25, 50, 75, 100, 150, 200, 250]:\n",
    "    adaboost = AdaBoost(n_estimators=n)\n",
    "    start_time = datetime.datetime.now()\n",
    "    scores = cross_validate(adaboost, X.values, y, k=5)\n",
    "    end_time = datetime.datetime.now()\n",
    "    print(f\"Mean accuracy for n_estimators={n}: {np.mean(scores):.4f} (+-{np.std(scores):.4f}), time: {end_time - start_time}\")"
   ]
  },
  {
   "cell_type": "code",
   "execution_count": null,
   "id": "1a78490c",
   "metadata": {},
   "outputs": [
    {
     "name": "stdout",
     "output_type": "stream",
     "text": [
      "Mean accuracy for n_estimators=25: 0.9596 (+-0.0142), time: 0:00:00.458288\n",
      "Mean accuracy for n_estimators=50: 0.9684 (+-0.0131), time: 0:00:00.931951\n",
      "Mean accuracy for n_estimators=75: 0.9719 (+-0.0102), time: 0:00:01.371355\n",
      "Mean accuracy for n_estimators=100: 0.9772 (+-0.0105), time: 0:00:01.755123\n",
      "Mean accuracy for n_estimators=150: 0.9754 (+-0.0102), time: 0:00:02.557938\n",
      "Mean accuracy for n_estimators=200: 0.9772 (+-0.0089), time: 0:00:03.620275\n",
      "Mean accuracy for n_estimators=250: 0.9772 (+-0.0105), time: 0:00:04.592839\n"
     ]
    }
   ],
   "source": [
    "for n in [25, 50, 75, 100, 150, 200, 250]:\n",
    "    adaboost = AdaBoostClassifier(n_estimators=n, algorithm='SAMME')\n",
    "    start_time = datetime.datetime.now()\n",
    "    scores = cross_val_score(adaboost, X, y, cv=5, scoring='accuracy')\n",
    "    end_time = datetime.datetime.now()\n",
    "    print(f\"Mean accuracy for n_estimators={n}: {scores.mean():.4f} (+-{scores.std():.4f}), time: {end_time - start_time}\")"
   ]
  }
 ],
 "metadata": {
  "kernelspec": {
   "display_name": "Python 3",
   "language": "python",
   "name": "python3"
  },
  "language_info": {
   "codemirror_mode": {
    "name": "ipython",
    "version": 3
   },
   "file_extension": ".py",
   "mimetype": "text/x-python",
   "name": "python",
   "nbconvert_exporter": "python",
   "pygments_lexer": "ipython3",
   "version": "3.12.6"
  }
 },
 "nbformat": 4,
 "nbformat_minor": 5
}
