{
 "cells": [
  {
   "cell_type": "code",
   "execution_count": 1,
   "id": "bcc6b04b",
   "metadata": {},
   "outputs": [],
   "source": [
    "import pandas as pd\n",
    "import numpy as np\n",
    "import matplotlib.pyplot as plt\n",
    "import datetime\n",
    "import seaborn as sns\n",
    "\n",
    "from sklearn.preprocessing import StandardScaler\n",
    "from sklearn.model_selection import train_test_split\n",
    "from sklearn.model_selection import cross_val_score\n",
    "from sklearn.metrics import classification_report\n",
    "from sklearn.tree import DecisionTreeClassifier\n",
    "from sklearn.tree import DecisionTreeRegressor\n",
    "from sklearn.ensemble import GradientBoostingClassifier"
   ]
  },
  {
   "cell_type": "code",
   "execution_count": 2,
   "id": "61ec026b",
   "metadata": {},
   "outputs": [],
   "source": [
    "data = pd.read_csv('breast-cancer.csv')\n",
    "data = data.drop(['id'], axis=1)\n",
    "X = data.drop(['diagnosis'], axis=1)\n",
    "y = data['diagnosis']\n",
    "y = np.where(y == 'M', 1, 0)\n",
    "scaler = StandardScaler()\n",
    "X_scaled = scaler.fit_transform(X)\n",
    "X = pd.DataFrame(X_scaled, columns=X.columns)\n",
    "X_train, X_test, y_train, y_test = train_test_split(X, y, stratify=y, test_size=0.25, random_state=42)"
   ]
  },
  {
   "cell_type": "code",
   "execution_count": 3,
   "id": "7e02782f",
   "metadata": {},
   "outputs": [],
   "source": [
    "class GradientBoosting:\n",
    "    def __init__(self, n_estimators=100, learning_rate=0.1):\n",
    "        self.n_estimators = n_estimators\n",
    "        self.learning_rate = learning_rate\n",
    "        self.models = []\n",
    "        self.initial_pred = None\n",
    "\n",
    "    def fit(self, X, y):\n",
    "        pos = np.mean(y)\n",
    "        epsilon = 1e-10\n",
    "        \n",
    "        if pos < epsilon:\n",
    "            self.initial_pred = -1e10\n",
    "        elif pos > 1 - epsilon:\n",
    "            self.initial_pred = 1e10\n",
    "        else:\n",
    "            self.initial_pred = np.log(pos / (1 - pos))\n",
    "        \n",
    "        F = np.full(X.shape[0], self.initial_pred)\n",
    "        \n",
    "        for _ in range(self.n_estimators):\n",
    "            p = 1 / (1 + np.exp(-F))\n",
    "            \n",
    "            residuals = y - p\n",
    "            \n",
    "            model = DecisionTreeRegressor(max_depth=1)\n",
    "            model.fit(X, residuals)\n",
    "            predictions = model.predict(X)\n",
    "            \n",
    "            F += self.learning_rate * predictions\n",
    "            self.models.append(model)\n",
    "\n",
    "    def predict(self, X):\n",
    "        F = np.full(X.shape[0], self.initial_pred)\n",
    "        \n",
    "        for model in self.models:\n",
    "            F += self.learning_rate * model.predict(X)\n",
    "        \n",
    "        proba = 1 / (1 + np.exp(-F))\n",
    "        return proba >= 0.5"
   ]
  },
  {
   "cell_type": "code",
   "execution_count": 4,
   "id": "5efb1ac9",
   "metadata": {},
   "outputs": [],
   "source": [
    "def cross_validate(model, X, y, k=5):\n",
    "    np.random.seed(42)\n",
    "    indices = np.arange(X.shape[0])\n",
    "    np.random.shuffle(indices)\n",
    "    \n",
    "    fold_size = len(indices) // k\n",
    "    scores = []\n",
    "    \n",
    "    for i in range(k):\n",
    "        test_start = i * fold_size\n",
    "        test_end = (i + 1) * fold_size\n",
    "\n",
    "        test_idx = indices[test_start:test_end]\n",
    "        train_idx = np.concatenate([indices[:test_start], indices[test_end:]])\n",
    "        \n",
    "        X_train, y_train = X[train_idx], y[train_idx]\n",
    "        X_test, y_test = X[test_idx], y[test_idx]\n",
    "        \n",
    "        model.fit(X_train, y_train)\n",
    "        y_pred = model.predict(X_test)\n",
    "\n",
    "        accuracy = np.mean(y_pred == y_test)\n",
    "        scores.append(accuracy)\n",
    "    \n",
    "    return scores"
   ]
  },
  {
   "cell_type": "code",
   "execution_count": 5,
   "id": "f23f3c26",
   "metadata": {},
   "outputs": [
    {
     "name": "stdout",
     "output_type": "stream",
     "text": [
      "Mean accuracy for n_estimators=50, learning_rate=0.1: 0.9398 (+-0.0117), time: 0:00:00.624805\n",
      "Mean accuracy for n_estimators=50, learning_rate=0.5: 0.9593 (+-0.0206), time: 0:00:00.571883\n",
      "Mean accuracy for n_estimators=50, learning_rate=2: 0.9752 (+-0.0142), time: 0:00:00.602605\n",
      "Mean accuracy for n_estimators=50, learning_rate=5: 0.9823 (+-0.0097), time: 0:00:00.617291\n",
      "Mean accuracy for n_estimators=100, learning_rate=0.1: 0.9398 (+-0.0117), time: 0:00:01.157570\n",
      "Mean accuracy for n_estimators=100, learning_rate=0.5: 0.9699 (+-0.0106), time: 0:00:01.138680\n",
      "Mean accuracy for n_estimators=100, learning_rate=2: 0.9805 (+-0.0180), time: 0:00:01.197076\n",
      "Mean accuracy for n_estimators=100, learning_rate=5: 0.9841 (+-0.0152), time: 0:00:01.112291\n",
      "Mean accuracy for n_estimators=200, learning_rate=0.1: 0.9575 (+-0.0205), time: 0:00:02.316778\n",
      "Mean accuracy for n_estimators=200, learning_rate=0.5: 0.9770 (+-0.0164), time: 0:00:02.350584\n",
      "Mean accuracy for n_estimators=200, learning_rate=2: 0.9841 (+-0.0197), time: 0:00:02.401747\n",
      "Mean accuracy for n_estimators=200, learning_rate=5: 0.9858 (+-0.0154), time: 0:00:02.279050\n",
      "Mean accuracy for n_estimators=500, learning_rate=0.1: 0.9717 (+-0.0103), time: 0:00:05.765404\n",
      "Mean accuracy for n_estimators=500, learning_rate=0.5: 0.9841 (+-0.0162), time: 0:00:05.612308\n",
      "Mean accuracy for n_estimators=500, learning_rate=2: 0.9876 (+-0.0164), time: 0:00:05.735124\n",
      "Mean accuracy for n_estimators=500, learning_rate=5: 0.9894 (+-0.0130), time: 0:00:05.804754\n",
      "Mean accuracy for n_estimators=1000, learning_rate=0.1: 0.9770 (+-0.0164), time: 0:00:12.038930\n",
      "Mean accuracy for n_estimators=1000, learning_rate=0.5: 0.9858 (+-0.0199), time: 0:00:11.430698\n",
      "Mean accuracy for n_estimators=1000, learning_rate=2: 0.9894 (+-0.0172), time: 0:00:11.313317\n",
      "Mean accuracy for n_estimators=1000, learning_rate=5: 0.9912 (+-0.0137), time: 0:00:11.651124\n"
     ]
    }
   ],
   "source": [
    "for n in [50, 100, 200, 500, 1000]:\n",
    "    for lr in [0.1, 0.5, 2, 5]:\n",
    "        gboost = GradientBoosting(n_estimators=n, learning_rate=lr)\n",
    "        start_time = datetime.datetime.now()\n",
    "        scores = cross_validate(gboost, X.values, y, k=5)\n",
    "        end_time = datetime.datetime.now()\n",
    "        print(f\"Mean accuracy for n_estimators={n}, learning_rate={lr}: {np.mean(scores):.4f} (+-{np.std(scores):.4f}), time: {end_time - start_time}\")"
   ]
  },
  {
   "cell_type": "code",
   "execution_count": 7,
   "id": "1a78490c",
   "metadata": {},
   "outputs": [
    {
     "name": "stdout",
     "output_type": "stream",
     "text": [
      "Mean accuracy for n_estimators=50, learning_rate=0.1: 0.9490 (+-0.0179), time: 0:00:00.564475\n",
      "Mean accuracy for n_estimators=50, learning_rate=0.5: 0.9649 (+-0.0175), time: 0:00:00.579181\n",
      "Mean accuracy for n_estimators=50, learning_rate=2: 0.7665 (+-0.2056), time: 0:00:00.572921\n",
      "Mean accuracy for n_estimators=50, learning_rate=5: 0.3726 (+-0.0039), time: 0:00:00.561660\n",
      "Mean accuracy for n_estimators=100, learning_rate=0.1: 0.9649 (+-0.0166), time: 0:00:01.147919\n",
      "Mean accuracy for n_estimators=100, learning_rate=0.5: 0.9631 (+-0.0195), time: 0:00:01.100490\n",
      "Mean accuracy for n_estimators=100, learning_rate=2: 0.7665 (+-0.2056), time: 0:00:01.132785\n",
      "Mean accuracy for n_estimators=100, learning_rate=5: 0.3726 (+-0.0039), time: 0:00:01.145645\n",
      "Mean accuracy for n_estimators=200, learning_rate=0.1: 0.9666 (+-0.0140), time: 0:00:02.167629\n",
      "Mean accuracy for n_estimators=200, learning_rate=0.5: 0.9701 (+-0.0197), time: 0:00:02.231389\n",
      "Mean accuracy for n_estimators=200, learning_rate=2: 0.7665 (+-0.2056), time: 0:00:02.239833\n",
      "Mean accuracy for n_estimators=200, learning_rate=5: 0.3726 (+-0.0039), time: 0:00:02.348559\n",
      "Mean accuracy for n_estimators=500, learning_rate=0.1: 0.9719 (+-0.0151), time: 0:00:05.424176\n",
      "Mean accuracy for n_estimators=500, learning_rate=0.5: 0.9719 (+-0.0195), time: 0:00:05.667532\n",
      "Mean accuracy for n_estimators=500, learning_rate=2: 0.7665 (+-0.2056), time: 0:00:05.454601\n",
      "Mean accuracy for n_estimators=500, learning_rate=5: 0.3726 (+-0.0039), time: 0:00:05.524915\n",
      "Mean accuracy for n_estimators=1000, learning_rate=0.1: 0.9684 (+-0.0212), time: 0:00:11.003143\n",
      "Mean accuracy for n_estimators=1000, learning_rate=0.5: 0.9737 (+-0.0200), time: 0:00:08.766117\n",
      "Mean accuracy for n_estimators=1000, learning_rate=2: 0.7665 (+-0.2056), time: 0:00:11.143264\n",
      "Mean accuracy for n_estimators=1000, learning_rate=5: 0.3726 (+-0.0039), time: 0:00:11.050472\n"
     ]
    }
   ],
   "source": [
    "for n in [50, 100, 200, 500, 1000]:\n",
    "    for lr in [0.1, 0.5, 2, 5]:\n",
    "        gboost = GradientBoostingClassifier(n_estimators=n, learning_rate=lr, max_depth=1)\n",
    "        start_time = datetime.datetime.now()\n",
    "        scores = cross_val_score(gboost, X, y, cv=5, scoring='accuracy')\n",
    "        end_time = datetime.datetime.now()\n",
    "        print(f\"Mean accuracy for n_estimators={n}, learning_rate={lr}: {scores.mean():.4f} (+-{scores.std():.4f}), time: {end_time - start_time}\")"
   ]
  }
 ],
 "metadata": {
  "kernelspec": {
   "display_name": "Python 3",
   "language": "python",
   "name": "python3"
  },
  "language_info": {
   "codemirror_mode": {
    "name": "ipython",
    "version": 3
   },
   "file_extension": ".py",
   "mimetype": "text/x-python",
   "name": "python",
   "nbconvert_exporter": "python",
   "pygments_lexer": "ipython3",
   "version": "3.12.6"
  }
 },
 "nbformat": 4,
 "nbformat_minor": 5
}
