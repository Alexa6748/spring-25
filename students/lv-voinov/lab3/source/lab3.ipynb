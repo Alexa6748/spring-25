{
 "cells": [
  {
   "cell_type": "code",
   "execution_count": 1,
   "metadata": {},
   "outputs": [],
   "source": [
    "import numpy as np\n",
    "import pandas as pd\n",
    "import datetime\n",
    "from scipy.stats import norm\n",
    "from sklearn.preprocessing import StandardScaler\n",
    "from sklearn.model_selection import train_test_split\n",
    "from sklearn.model_selection import cross_val_score\n",
    "from sklearn.naive_bayes import GaussianNB"
   ]
  },
  {
   "cell_type": "code",
   "execution_count": 2,
   "metadata": {},
   "outputs": [],
   "source": [
    "class GaussianNaiveBayes:\n",
    "    def __init__(self):\n",
    "        self.classes = None\n",
    "        self.priors = {}\n",
    "        self.mean = {}\n",
    "        self.var = {}\n",
    "\n",
    "    def fit(self, X, y):\n",
    "        self.classes = np.unique(y)\n",
    "\n",
    "        for cls in self.classes:\n",
    "            X_cls = X[y == cls]\n",
    "            self.priors[cls] = X_cls.shape[0] / X.shape[0]\n",
    "            self.mean[cls] = X_cls.mean(axis=0)\n",
    "            self.var[cls] = X_cls.var(axis=0)\n",
    "\n",
    "    def predict(self, X):\n",
    "        predictions = []\n",
    "        for x in X:\n",
    "            posteriors = []\n",
    "            for cls in self.classes:\n",
    "                prior = np.log(self.priors[cls])\n",
    "                likelihood = np.sum(np.log(norm.pdf(x, loc=self.mean[cls], scale=np.sqrt(self.var[cls])) + 1e-9))\n",
    "                posterior = prior + likelihood\n",
    "                posteriors.append(posterior)\n",
    "            best_class = self.classes[np.argmax(posteriors)]\n",
    "            predictions.append(best_class)\n",
    "        return predictions"
   ]
  },
  {
   "cell_type": "code",
   "execution_count": 3,
   "metadata": {},
   "outputs": [],
   "source": [
    "data = pd.read_csv('breast-cancer.csv')\n",
    "data = data.drop(['id'], axis=1)\n",
    "X = data.drop(['diagnosis'], axis=1)\n",
    "y = data['diagnosis']\n",
    "scaler = StandardScaler()\n",
    "X_scaled = scaler.fit_transform(X)\n",
    "X = pd.DataFrame(X_scaled, columns=X.columns)\n",
    "X_train, X_test, y_train, y_test = train_test_split(X, y, stratify=y, test_size=0.25, random_state=42)"
   ]
  },
  {
   "cell_type": "code",
   "execution_count": 4,
   "metadata": {},
   "outputs": [],
   "source": [
    "def cross_validate(model, X, y, k=5):\n",
    "    np.random.seed(42)\n",
    "    indices = np.arange(X.shape[0])\n",
    "    np.random.shuffle(indices)\n",
    "    \n",
    "    fold_size = len(indices) // k\n",
    "    scores = []\n",
    "    \n",
    "    for i in range(k):\n",
    "        test_start = i * fold_size\n",
    "        test_end = (i + 1) * fold_size\n",
    "\n",
    "        test_idx = indices[test_start:test_end]\n",
    "        train_idx = np.concatenate([indices[:test_start], indices[test_end:]])\n",
    "        \n",
    "        X_train, y_train = X[train_idx], y[train_idx]\n",
    "        X_test, y_test = X[test_idx], y[test_idx]\n",
    "        \n",
    "        model.fit(X_train, y_train)\n",
    "        y_pred = model.predict(X_test)\n",
    "\n",
    "        accuracy = np.mean(y_pred == y_test)\n",
    "        scores.append(accuracy)\n",
    "    \n",
    "    return scores"
   ]
  },
  {
   "cell_type": "code",
   "execution_count": 5,
   "metadata": {},
   "outputs": [
    {
     "name": "stdout",
     "output_type": "stream",
     "text": [
      "Mean accuracy: 0.9363 (+-0.0172), time: 0:00:00.107992\n"
     ]
    }
   ],
   "source": [
    "gnb = GaussianNaiveBayes()\n",
    "start_time = datetime.datetime.now()\n",
    "scores = cross_validate(gnb, X.values, y, k=5)\n",
    "end_time = datetime.datetime.now()\n",
    "print(f\"Mean accuracy: {np.mean(scores):.4f} (+-{np.std(scores):.4f}), time: {end_time - start_time}\")"
   ]
  },
  {
   "cell_type": "code",
   "execution_count": 6,
   "metadata": {},
   "outputs": [
    {
     "name": "stdout",
     "output_type": "stream",
     "text": [
      "Mean accuracy: 0.9279 (+-0.0204), time: 0:00:00.017666\n"
     ]
    }
   ],
   "source": [
    "gnb = GaussianNB()\n",
    "start_time = datetime.datetime.now()\n",
    "scores = cross_val_score(gnb, X.values, y, cv=5)\n",
    "end_time = datetime.datetime.now()\n",
    "print(f\"Mean accuracy: {np.mean(scores):.4f} (+-{np.std(scores):.4f}), time: {end_time - start_time}\")"
   ]
  }
 ],
 "metadata": {
  "kernelspec": {
   "display_name": "Python 3",
   "language": "python",
   "name": "python3"
  },
  "language_info": {
   "codemirror_mode": {
    "name": "ipython",
    "version": 3
   },
   "file_extension": ".py",
   "mimetype": "text/x-python",
   "name": "python",
   "nbconvert_exporter": "python",
   "pygments_lexer": "ipython3",
   "version": "3.12.6"
  }
 },
 "nbformat": 4,
 "nbformat_minor": 2
}
