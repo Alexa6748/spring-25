{
 "cells": [
  {
   "cell_type": "code",
   "execution_count": 11,
   "id": "c4551b9a-fef8-49fc-a9ee-3d9d13d6dd09",
   "metadata": {},
   "outputs": [],
   "source": [
    "import numpy as np\n",
    "import pandas as pd                   \n",
    "from sklearn.tree import DecisionTreeRegressor\n",
    "from sklearn.ensemble import GradientBoostingRegressor\n",
    "from sklearn.model_selection import KFold\n",
    "from sklearn.metrics import mean_absolute_error, mean_squared_error\n",
    "import time"
   ]
  },
  {
   "cell_type": "code",
   "execution_count": 12,
   "id": "d0b9a959-7fb8-4961-b8e4-cbfa68e9787f",
   "metadata": {},
   "outputs": [],
   "source": [
    "train = pd.read_csv('train.csv')\n",
    "X = train.drop(columns=['datetime','casual','registered','count'])\n",
    "y = train['count']"
   ]
  },
  {
   "cell_type": "code",
   "execution_count": 13,
   "id": "7ad31c67-f778-4223-b917-1fbf85299f29",
   "metadata": {},
   "outputs": [],
   "source": [
    "class GBMRegressor:\n",
    "    def __init__(self, learning_rate=0.1, n_estimators=100, max_depth=3, random_state=12345):\n",
    "        self.learning_rate = learning_rate\n",
    "        self.n_estimators   = n_estimators\n",
    "        self.max_depth      = max_depth\n",
    "        self.random_state   = random_state\n",
    "        self.trees          = []\n",
    "        self.initial_pred   = None\n",
    "\n",
    "    def fit(self, X, y):\n",
    "        # стартуем с константы = среднее y\n",
    "        self.initial_pred = float(np.mean(y))\n",
    "        preds = np.full(shape=len(y), fill_value=self.initial_pred, dtype=float)\n",
    "        self.trees = []\n",
    "\n",
    "        for _ in range(self.n_estimators):\n",
    "            # градиент = y - preds\n",
    "            residuals = y - preds\n",
    "            tree = DecisionTreeRegressor(max_depth=self.max_depth,\n",
    "                                         random_state=self.random_state)\n",
    "            tree.fit(X, residuals)\n",
    "            update = tree.predict(X)\n",
    "            preds += self.learning_rate * update\n",
    "            self.trees.append(tree)\n",
    "\n",
    "    def predict(self, X):\n",
    "        preds = np.full(shape=len(X), fill_value=self.initial_pred, dtype=float)\n",
    "        for tree in self.trees:\n",
    "            preds += self.learning_rate * tree.predict(X)\n",
    "        return preds\n"
   ]
  },
  {
   "cell_type": "code",
   "execution_count": 14,
   "id": "bab3dde6-03c2-4f43-a6c3-4ff4e8a0f15e",
   "metadata": {},
   "outputs": [],
   "source": [
    "def cross_val_eval(model_fn, X, y, metric, n_splits=5, random_state=12):\n",
    "    kf = KFold(n_splits=n_splits, shuffle=True, random_state=random_state)\n",
    "    scores = []\n",
    "\n",
    "    for train_idx, val_idx in kf.split(X):\n",
    "        X_tr, y_tr = X.iloc[train_idx].values, y.iloc[train_idx].values\n",
    "        X_vl, y_vl = X.iloc[val_idx].values,   y.iloc[val_idx].values\n",
    "\n",
    "        model = model_fn()             # fresh model\n",
    "        model.fit(X_tr, y_tr)\n",
    "        preds = model.predict(X_vl)\n",
    "        scores.append(metric(y_vl, preds))\n",
    "\n",
    "    return np.array(scores)"
   ]
  },
  {
   "cell_type": "code",
   "execution_count": 15,
   "id": "99b79285-2aed-4d34-9710-0d2737116d71",
   "metadata": {},
   "outputs": [
    {
     "name": "stdout",
     "output_type": "stream",
     "text": [
      "Custom GBM:\n",
      " MAE = 109.27 ± 2.10\n",
      " MSE = 22018.26 ± 843.71\n",
      " Time = 11.34 s\n",
      "\n",
      "Sklearn GBM:\n",
      " MAE = 109.26 ± 2.08\n",
      " MSE = 22016.67 ± 841.07\n",
      " Time = 10.56 s\n"
     ]
    }
   ],
   "source": [
    "t0 = time.time()\n",
    "mae_gbm = cross_val_eval(\n",
    "    lambda: GBMRegressor(learning_rate=0.1, n_estimators=100, max_depth=3, random_state=12345),\n",
    "    X, y, mean_absolute_error\n",
    ")\n",
    "mse_gbm = cross_val_eval(\n",
    "    lambda: GBMRegressor(learning_rate=0.1, n_estimators=100, max_depth=3, random_state=12345),\n",
    "    X, y, mean_squared_error\n",
    ")\n",
    "time_gbm = time.time() - t0\n",
    "\n",
    "print(\"Custom GBM:\")\n",
    "print(f\" MAE = {mae_gbm.mean():.2f} ± {mae_gbm.std():.2f}\")\n",
    "print(f\" MSE = {mse_gbm.mean():.2f} ± {mse_gbm.std():.2f}\")\n",
    "print(f\" Time = {time_gbm:.2f} s\\n\")\n",
    "\n",
    "t1 = time.time()\n",
    "mae_lib = cross_val_eval(\n",
    "    lambda: GradientBoostingRegressor(learning_rate=0.1,\n",
    "                                      n_estimators=100,\n",
    "                                      max_depth=3,\n",
    "                                      random_state=12345),\n",
    "    X, y, mean_absolute_error\n",
    ")\n",
    "mse_lib = cross_val_eval(\n",
    "    lambda: GradientBoostingRegressor(learning_rate=0.1,\n",
    "                                      n_estimators=100,\n",
    "                                      max_depth=3,\n",
    "                                      random_state=12345),\n",
    "    X, y, mean_squared_error\n",
    ")\n",
    "time_lib = time.time() - t1\n",
    "\n",
    "print(\"Sklearn GBM:\")\n",
    "print(f\" MAE = {mae_lib.mean():.2f} ± {mae_lib.std():.2f}\")\n",
    "print(f\" MSE = {mse_lib.mean():.2f} ± {mse_lib.std():.2f}\")\n",
    "print(f\" Time = {time_lib:.2f} s\")"
   ]
  },
  {
   "cell_type": "code",
   "execution_count": null,
   "id": "f8cc0031-c007-4584-9c08-bdfc792e15fe",
   "metadata": {},
   "outputs": [],
   "source": []
  }
 ],
 "metadata": {
  "kernelspec": {
   "display_name": "Python 3 (ipykernel)",
   "language": "python",
   "name": "python3"
  },
  "language_info": {
   "codemirror_mode": {
    "name": "ipython",
    "version": 3
   },
   "file_extension": ".py",
   "mimetype": "text/x-python",
   "name": "python",
   "nbconvert_exporter": "python",
   "pygments_lexer": "ipython3",
   "version": "3.12.6"
  }
 },
 "nbformat": 4,
 "nbformat_minor": 5
}
