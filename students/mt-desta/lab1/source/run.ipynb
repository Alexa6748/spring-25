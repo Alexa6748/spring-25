{
 "cells": [
  {
   "cell_type": "code",
   "execution_count": 15,
   "metadata": {},
   "outputs": [],
   "source": [
    "import numpy as np\n",
    "import matplotlib.pyplot as plt\n",
    "import pandas as pd\n",
    "import seaborn as sns\n",
    "from sklearn.model_selection import train_test_split\n",
    "import time\n",
    "\n",
    "from sklearn.ensemble import BaggingRegressor\n",
    "\n"
   ]
  },
  {
   "cell_type": "code",
   "execution_count": 16,
   "metadata": {},
   "outputs": [
    {
     "data": {
      "text/html": [
       "<div>\n",
       "<style scoped>\n",
       "    .dataframe tbody tr th:only-of-type {\n",
       "        vertical-align: middle;\n",
       "    }\n",
       "\n",
       "    .dataframe tbody tr th {\n",
       "        vertical-align: top;\n",
       "    }\n",
       "\n",
       "    .dataframe thead th {\n",
       "        text-align: right;\n",
       "    }\n",
       "</style>\n",
       "<table border=\"1\" class=\"dataframe\">\n",
       "  <thead>\n",
       "    <tr style=\"text-align: right;\">\n",
       "      <th></th>\n",
       "      <th>RM</th>\n",
       "      <th>LSTAT</th>\n",
       "      <th>PTRATIO</th>\n",
       "      <th>MEDV</th>\n",
       "    </tr>\n",
       "  </thead>\n",
       "  <tbody>\n",
       "    <tr>\n",
       "      <th>0</th>\n",
       "      <td>6.575</td>\n",
       "      <td>4.98</td>\n",
       "      <td>15.3</td>\n",
       "      <td>504000.0</td>\n",
       "    </tr>\n",
       "    <tr>\n",
       "      <th>1</th>\n",
       "      <td>6.421</td>\n",
       "      <td>9.14</td>\n",
       "      <td>17.8</td>\n",
       "      <td>453600.0</td>\n",
       "    </tr>\n",
       "    <tr>\n",
       "      <th>2</th>\n",
       "      <td>7.185</td>\n",
       "      <td>4.03</td>\n",
       "      <td>17.8</td>\n",
       "      <td>728700.0</td>\n",
       "    </tr>\n",
       "    <tr>\n",
       "      <th>3</th>\n",
       "      <td>6.998</td>\n",
       "      <td>2.94</td>\n",
       "      <td>18.7</td>\n",
       "      <td>701400.0</td>\n",
       "    </tr>\n",
       "    <tr>\n",
       "      <th>4</th>\n",
       "      <td>7.147</td>\n",
       "      <td>5.33</td>\n",
       "      <td>18.7</td>\n",
       "      <td>760200.0</td>\n",
       "    </tr>\n",
       "  </tbody>\n",
       "</table>\n",
       "</div>"
      ],
      "text/plain": [
       "      RM  LSTAT  PTRATIO      MEDV\n",
       "0  6.575   4.98     15.3  504000.0\n",
       "1  6.421   9.14     17.8  453600.0\n",
       "2  7.185   4.03     17.8  728700.0\n",
       "3  6.998   2.94     18.7  701400.0\n",
       "4  7.147   5.33     18.7  760200.0"
      ]
     },
     "execution_count": 16,
     "metadata": {},
     "output_type": "execute_result"
    }
   ],
   "source": [
    "df = pd.read_csv(\"data/housing.csv\")\n",
    "df.head()"
   ]
  },
  {
   "cell_type": "code",
   "execution_count": 17,
   "metadata": {},
   "outputs": [
    {
     "data": {
      "text/plain": [
       "RM         0\n",
       "LSTAT      0\n",
       "PTRATIO    0\n",
       "dtype: int64"
      ]
     },
     "execution_count": 17,
     "metadata": {},
     "output_type": "execute_result"
    }
   ],
   "source": [
    "y = df[\"MEDV\"]\n",
    "X = df.drop(\"MEDV\", axis=1)\n",
    "\n",
    "X.isnull().sum()\n"
   ]
  },
  {
   "cell_type": "markdown",
   "metadata": {},
   "source": [
    "## Custom Implementation"
   ]
  },
  {
   "cell_type": "code",
   "execution_count": 18,
   "metadata": {},
   "outputs": [
    {
     "name": "stdout",
     "output_type": "stream",
     "text": [
      "Time taken: 0.19521117210388184 seconds\n",
      "R2 Score: 0.977507535603145\n"
     ]
    }
   ],
   "source": [
    "from bagging import BaggingRegressor as BaggingCustom\n",
    "from sklearn.metrics import r2_score\n",
    "\n",
    "start_time = time.time()\n",
    "\n",
    "model1 = BaggingCustom(max_depth=10,n_estimators=20)\n",
    "\n",
    "model1.fit(X, y)\n",
    "\n",
    "pred = model1.predict(X)\n",
    "\n",
    "end_time = time.time()\n",
    "\n",
    "time_taken = (end_time - start_time)\n",
    "r2_custom_model_value = r2_score(y, pred)\n",
    "\n",
    "print(f\"Time taken: {time_taken} seconds\")\n",
    "\n",
    "print(f\"R2 Score: {r2_custom_model_value}\")\n",
    "\n"
   ]
  },
  {
   "cell_type": "markdown",
   "metadata": {},
   "source": [
    "## Sklearn"
   ]
  },
  {
   "cell_type": "code",
   "execution_count": 19,
   "metadata": {},
   "outputs": [
    {
     "name": "stdout",
     "output_type": "stream",
     "text": [
      "Time taken: 0.0697166919708252 seconds\n",
      "R2 Score: 0.9633475241789582\n"
     ]
    }
   ],
   "source": [
    "from sklearn.tree import DecisionTreeRegressor\n",
    "\n",
    "start_time = time.time()\n",
    "\n",
    "base_model = DecisionTreeRegressor(max_depth=10)\n",
    "model2 = BaggingRegressor(n_estimators=20, estimator=base_model)\n",
    "\n",
    "model2.fit(X, y)\n",
    "pred = model2.predict(X)\n",
    "\n",
    "end_time = time.time()\n",
    "\n",
    "time_taken_sklearn = (end_time - start_time)\n",
    "r2_sklearn_model_value = r2_score(y, pred)\n",
    "\n",
    "print(f\"Time taken: {time_taken_sklearn} seconds\")\n",
    "\n",
    "print(f\"R2 Score: {r2_sklearn_model_value}\")\n",
    "\n",
    "\n",
    "\n",
    "\n",
    "\n"
   ]
  },
  {
   "cell_type": "markdown",
   "metadata": {},
   "source": [
    "## Cross Validation"
   ]
  },
  {
   "cell_type": "code",
   "execution_count": 20,
   "metadata": {},
   "outputs": [
    {
     "name": "stdout",
     "output_type": "stream",
     "text": [
      "Custom Model R2 Scores: 0.8042878554317026\n",
      "Sklearn Model R2 Scores: 0.7854245337059836\n"
     ]
    }
   ],
   "source": [
    "def cross_validation(model,X, y, n_folds=5):\n",
    "    scores = []\n",
    "    for _ in range(n_folds):\n",
    "        X_train, X_test, y_train, y_test = train_test_split(X, y, test_size=0.2)\n",
    "        model.fit(X_train, y_train)\n",
    "        pred = model.predict(X_test)\n",
    "        scores.append(r2_score(y_test, pred))\n",
    "    return scores\n",
    "\n",
    "custom_r2_scores = np.mean(cross_validation(model1,X, y, 10))\n",
    "sklearn_r2_scores = np.mean(cross_validation(model2,X, y, 10))\n",
    "\n",
    "print(f\"Custom Model R2 Scores: {custom_r2_scores}\")\n",
    "print(f\"Sklearn Model R2 Scores: {sklearn_r2_scores}\")\n",
    "\n",
    "\n"
   ]
  },
  {
   "cell_type": "markdown",
   "metadata": {},
   "source": [
    "## Comparison"
   ]
  },
  {
   "cell_type": "code",
   "execution_count": 21,
   "metadata": {},
   "outputs": [
    {
     "data": {
      "image/png": "[encoded data removed]",
      "text/plain": [
       "<Figure size 1200x500 with 2 Axes>"
      ]
     },
     "metadata": {},
     "output_type": "display_data"
    }
   ],
   "source": [
    "# Setup for plotting\n",
    "model_names = ['Custom Model', 'Sklearn-like Model']\n",
    "r2_scores_plot = [custom_r2_scores, sklearn_r2_scores]\n",
    "time_taken_plot = [time_taken, time_taken_sklearn]\n",
    "\n",
    "# Create figure with two subplots\n",
    "fig, (ax1, ax2) = plt.subplots(1, 2, figsize=(12, 5))\n",
    "\n",
    "# Set positions for bars\n",
    "x = np.arange(len(model_names))\n",
    "width = 0.6\n",
    "\n",
    "# Create R2 Score bars\n",
    "bars1 = ax1.bar(x, r2_scores_plot, width, color='skyblue')\n",
    "ax1.set_ylabel('R2 Score')\n",
    "ax1.set_title('R2 Score Comparison')\n",
    "ax1.set_xticks(x)\n",
    "ax1.set_xticklabels(model_names)\n",
    "ax1.set_ylim(0, 1.1)  # Set y-axis limit for R2 scores\n",
    "\n",
    "# Create Time bars\n",
    "bars2 = ax2.bar(x, time_taken_plot, width, color='salmon')\n",
    "ax2.set_ylabel('Time (ms)')\n",
    "ax2.set_title('Execution Time Comparison')\n",
    "ax2.set_xticks(x)\n",
    "ax2.set_xticklabels(model_names)\n",
    "\n",
    "# Add value labels on the bars\n",
    "for bar in bars1:\n",
    "    height = bar.get_height()\n",
    "    ax1.annotate(f'{height:.2f}',\n",
    "                xy=(bar.get_x() + bar.get_width()/2, height),\n",
    "                xytext=(0, 3),\n",
    "                textcoords=\"offset points\",\n",
    "                ha='center', va='bottom')\n",
    "\n",
    "for bar in bars2:\n",
    "    height = bar.get_height()\n",
    "    ax2.annotate(f'{height:.1f}',\n",
    "                xy=(bar.get_x() + bar.get_width()/2, height),\n",
    "                xytext=(0, 3),\n",
    "                textcoords=\"offset points\",\n",
    "                ha='center', va='bottom')\n",
    "\n",
    "plt.tight_layout()\n",
    "plt.show()"
   ]
  },
  {
   "cell_type": "code",
   "execution_count": null,
   "metadata": {},
   "outputs": [],
   "source": [
    "\n"
   ]
  }
 ],
 "metadata": {
  "kernelspec": {
   "display_name": "base",
   "language": "python",
   "name": "python3"
  },
  "language_info": {
   "codemirror_mode": {
    "name": "ipython",
    "version": 3
   },
   "file_extension": ".py",
   "mimetype": "text/x-python",
   "name": "python",
   "nbconvert_exporter": "python",
   "pygments_lexer": "ipython3",
   "version": "3.12.7"
  }
 },
 "nbformat": 4,
 "nbformat_minor": 2
}
