{
 "cells": [
  {
   "cell_type": "code",
   "execution_count": 1,
   "metadata": {},
   "outputs": [],
   "source": [
    "import time\n",
    "import numpy as np\n",
    "import pandas as pd\n",
    "from sklearn.metrics import accuracy_score\n",
    "from sklearn.base import BaseEstimator\n",
    "from sklearn.preprocessing import LabelEncoder\n",
    "from sklearn.tree import DecisionTreeRegressor\n",
    "from sklearn.ensemble import GradientBoostingClassifier as SklearnGBC\n",
    "from sklearn.model_selection import train_test_split, cross_val_score, KFold"
   ]
  },
  {
   "cell_type": "code",
   "execution_count": 2,
   "metadata": {},
   "outputs": [],
   "source": [
    "class GradientBoostingClassifier(BaseEstimator):\n",
    "    def __init__(self, n_estimators=100, learning_rate=0.1, max_depth=3):\n",
    "        self.n_estimators = n_estimators\n",
    "        self.learning_rate = learning_rate\n",
    "        self.max_depth = max_depth\n",
    "        self.trees = []\n",
    "        self.classes = None\n",
    "\n",
    "    def _to_one_hot(self, y):\n",
    "        return np.eye(len(self.classes))[np.searchsorted(self.classes, y)]\n",
    "\n",
    "    def fit(self, X, y):\n",
    "        self.classes = np.unique(y)\n",
    "\n",
    "        y_one_hot = self._to_one_hot(y)\n",
    "\n",
    "        F = np.zeros((X.shape[0], len(self.classes)))\n",
    "\n",
    "        for _ in range(self.n_estimators):\n",
    "            gradients = y_one_hot - self._softmax(F)\n",
    "\n",
    "            trees_iter = []\n",
    "            for k in range(len(self.classes)):\n",
    "                tree = DecisionTreeRegressor(max_depth=self.max_depth)\n",
    "                tree.fit(X, gradients[:, k])\n",
    "                trees_iter.append(tree)\n",
    "\n",
    "                F[:, k] += self.learning_rate * tree.predict(X)\n",
    "\n",
    "            self.trees.append(trees_iter)\n",
    "\n",
    "        return self\n",
    "\n",
    "    def _softmax(self, X):\n",
    "        exp = np.exp(X - np.max(X, axis=1, keepdims=True))\n",
    "        return exp / np.sum(exp, axis=1, keepdims=True)\n",
    "\n",
    "    def predict_proba(self, X):\n",
    "        F = np.zeros((X.shape[0], len(self.classes)))\n",
    "\n",
    "        for trees_iter in self.trees:\n",
    "            for k, tree in enumerate(trees_iter):\n",
    "                F[:, k] += self.learning_rate * tree.predict(X)\n",
    "\n",
    "        return self._softmax(F)\n",
    "\n",
    "    def predict(self, X):\n",
    "        probas = self.predict_proba(X)\n",
    "        return self.classes[np.argmax(probas, axis=1)]\n",
    "\n",
    "    def score(self, X, y):\n",
    "        y_pred = self.predict(X)\n",
    "        return accuracy_score(y, y_pred)"
   ]
  },
  {
   "cell_type": "code",
   "execution_count": 3,
   "metadata": {},
   "outputs": [],
   "source": [
    "data = pd.read_csv(\"../Dry_Bean_Dataset.csv\")\n",
    "X = data.drop(\"Class\", axis=1)\n",
    "y = data[\"Class\"]"
   ]
  },
  {
   "cell_type": "code",
   "execution_count": 4,
   "metadata": {},
   "outputs": [],
   "source": [
    "le = LabelEncoder()\n",
    "y = le.fit_transform(y)"
   ]
  },
  {
   "cell_type": "code",
   "execution_count": 5,
   "metadata": {},
   "outputs": [],
   "source": [
    "X_train, X_test, y_train, y_test = train_test_split(\n",
    "    X, y, test_size=0.2, random_state=42\n",
    ")"
   ]
  },
  {
   "cell_type": "code",
   "execution_count": 6,
   "metadata": {},
   "outputs": [],
   "source": [
    "params = {\"n_estimators\": 50, \"learning_rate\": 0.01, \"max_depth\": 5}"
   ]
  },
  {
   "cell_type": "code",
   "execution_count": 7,
   "metadata": {},
   "outputs": [],
   "source": [
    "custom_gb = GradientBoostingClassifier(**params)\n",
    "start_time = time.time()\n",
    "custom_gb.fit(X_train, y_train)\n",
    "custom_time = time.time() - start_time\n",
    "custom_score = custom_gb.score(X_test, y_test)"
   ]
  },
  {
   "cell_type": "code",
   "execution_count": 8,
   "metadata": {},
   "outputs": [],
   "source": [
    "sklearn_gb = SklearnGBC(**params)\n",
    "start_time = time.time()\n",
    "sklearn_gb.fit(X_train, y_train)\n",
    "sklearn_time = time.time() - start_time\n",
    "sklearn_score = sklearn_gb.score(X_test, y_test)"
   ]
  },
  {
   "cell_type": "code",
   "execution_count": 9,
   "metadata": {},
   "outputs": [
    {
     "name": "stdout",
     "output_type": "stream",
     "text": [
      "CGB accuracy: 0.9188\n",
      "CGB training time: 27.55 seconds\n",
      "SGB accuracy: 0.9188\n",
      "SGB training time: 28.55 seconds\n"
     ]
    }
   ],
   "source": [
    "print(f\"CGB accuracy: {custom_score:.4f}\")\n",
    "print(f\"CGB training time: {custom_time:.2f} seconds\")\n",
    "print(f\"SGB accuracy: {sklearn_score:.4f}\")\n",
    "print(f\"SGB training time: {sklearn_time:.2f} seconds\")"
   ]
  },
  {
   "cell_type": "code",
   "execution_count": 10,
   "metadata": {},
   "outputs": [],
   "source": [
    "kf = KFold(n_splits=5, shuffle=True, random_state=42)\n",
    "custom_cv_scores = cross_val_score(custom_gb, X, y, cv=kf)\n",
    "sklearn_cv_scores = cross_val_score(sklearn_gb, X, y, cv=kf)"
   ]
  },
  {
   "cell_type": "code",
   "execution_count": 11,
   "metadata": {},
   "outputs": [
    {
     "name": "stdout",
     "output_type": "stream",
     "text": [
      "Custom implementation CV scores: 0.9118\n",
      "Scikit-learn CV scores: 0.9140\n"
     ]
    }
   ],
   "source": [
    "print(f\"Custom implementation CV scores: {custom_cv_scores.mean():.4f}\")\n",
    "print(f\"Scikit-learn CV scores: {sklearn_cv_scores.mean():.4f}\")"
   ]
  }
 ],
 "metadata": {
  "kernelspec": {
   "display_name": "Python (myvenv)",
   "language": "python",
   "name": "myvenv"
  },
  "language_info": {
   "codemirror_mode": {
    "name": "ipython",
    "version": 3
   },
   "file_extension": ".py",
   "mimetype": "text/x-python",
   "name": "python",
   "nbconvert_exporter": "python",
   "pygments_lexer": "ipython3",
   "version": "3.12.3"
  }
 },
 "nbformat": 4,
 "nbformat_minor": 2
}
