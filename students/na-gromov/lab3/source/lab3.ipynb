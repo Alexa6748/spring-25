{
 "cells": [
  {
   "cell_type": "code",
   "execution_count": 1,
   "id": "5d00a481",
   "metadata": {},
   "outputs": [],
   "source": [
    "import time\n",
    "import numpy as np\n",
    "import pandas as pd\n",
    "from sklearn.base import BaseEstimator\n",
    "from sklearn.naive_bayes import GaussianNB\n",
    "from sklearn.metrics import accuracy_score\n",
    "from sklearn.model_selection import cross_val_score, StratifiedKFold"
   ]
  },
  {
   "cell_type": "code",
   "execution_count": 2,
   "id": "a5ee23b2",
   "metadata": {},
   "outputs": [],
   "source": [
    "df = pd.read_csv(\"../Dry_Bean_Dataset.csv\")\n",
    "X = df.iloc[:, :-1].values\n",
    "y = df.iloc[:, -1].values"
   ]
  },
  {
   "cell_type": "code",
   "execution_count": 3,
   "id": "20b07c1f",
   "metadata": {},
   "outputs": [],
   "source": [
    "class NaiveBayesClassifier(BaseEstimator):\n",
    "    def fit(self, X, y):\n",
    "        self.classes = np.unique(y)\n",
    "        self.priors = {}\n",
    "        self.likelihoods = {}\n",
    "        for c in self.classes:\n",
    "            X_c = X[y == c]\n",
    "            self.priors[c] = X_c.shape[0] / X.shape[0]\n",
    "            self.likelihoods[c] = {\n",
    "                \"mean\": X_c.mean(axis=0),\n",
    "                \"var\": X_c.var(axis=0) + 1e-9,\n",
    "            }\n",
    "        return self\n",
    "\n",
    "    def _gaussian_prob(self, x, mean, var):\n",
    "        coeff = 1.0 / np.sqrt(2.0 * np.pi * var)\n",
    "        exponent = np.exp(-((x - mean) ** 2) / (2 * var))\n",
    "        return coeff * exponent\n",
    "\n",
    "    def predict(self, X):\n",
    "        y_pred = []\n",
    "        for x in X:\n",
    "            posteriors = []\n",
    "            for c in self.classes:\n",
    "                prior = np.log(self.priors[c])\n",
    "                mean = self.likelihoods[c][\"mean\"]\n",
    "                var = self.likelihoods[c][\"var\"]\n",
    "                probs = self._gaussian_prob(x, mean, var)\n",
    "                probs = np.clip(probs, 1e-9, None)\n",
    "                likelihood = np.sum(np.log(probs))\n",
    "                posteriors.append(prior + likelihood)\n",
    "            y_pred.append(self.classes[np.argmax(posteriors)])\n",
    "        return np.array(y_pred)\n",
    "\n",
    "    def score(self, X, y):\n",
    "        y_pred = self.predict(X)\n",
    "        return accuracy_score(y, y_pred)"
   ]
  },
  {
   "cell_type": "code",
   "execution_count": 4,
   "id": "5d958632",
   "metadata": {},
   "outputs": [],
   "source": [
    "skf = StratifiedKFold(n_splits=5, shuffle=True, random_state=52)"
   ]
  },
  {
   "cell_type": "code",
   "execution_count": 5,
   "id": "04b5e4b6",
   "metadata": {},
   "outputs": [
    {
     "name": "stdout",
     "output_type": "stream",
     "text": [
      "Наивный Байес: средняя точность = 0.8971, время = 1.78 с\n"
     ]
    }
   ],
   "source": [
    "nb = NaiveBayesClassifier()\n",
    "start = time.time()\n",
    "scores = cross_val_score(nb, X, y, cv=skf)\n",
    "end = time.time()\n",
    "print(\n",
    "    f\"Наивный Байес: средняя точность = {scores.mean():.4f}, время = {end - start:.2f} с\"\n",
    ")"
   ]
  },
  {
   "cell_type": "code",
   "execution_count": 6,
   "id": "8f72cde3",
   "metadata": {},
   "outputs": [
    {
     "name": "stdout",
     "output_type": "stream",
     "text": [
      "Sklearn GaussianNB: средняя точность = 0.7640, время = 0.09 с\n"
     ]
    }
   ],
   "source": [
    "gnb = GaussianNB()\n",
    "start_skl = time.time()\n",
    "skl_scores = cross_val_score(gnb, X, y, cv=skf)\n",
    "end_skl = time.time()\n",
    "print(\n",
    "    f\"Sklearn GaussianNB: средняя точность = {skl_scores.mean():.4f}, время = {end_skl - start_skl:.2f} с\"\n",
    ")"
   ]
  }
 ],
 "metadata": {
  "kernelspec": {
   "display_name": "Python (myvenv)",
   "language": "python",
   "name": "myvenv"
  },
  "language_info": {
   "codemirror_mode": {
    "name": "ipython",
    "version": 3
   },
   "file_extension": ".py",
   "mimetype": "text/x-python",
   "name": "python",
   "nbconvert_exporter": "python",
   "pygments_lexer": "ipython3",
   "version": "3.12.3"
  }
 },
 "nbformat": 4,
 "nbformat_minor": 5
}
