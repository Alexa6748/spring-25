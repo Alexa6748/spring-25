{
 "cells": [
  {
   "cell_type": "markdown",
   "metadata": {},
   "source": [
    "# Лабораторная работа №5: Модель латентных факторов (LFM)\n",
    "\n",
    "**Сравнение собственной реализации LFM и эталонной реализации Surprise (SVD) на датасете MovieLens 100k**"
   ]
  },
  {
   "cell_type": "code",
   "execution_count": 20,
   "metadata": {},
   "outputs": [],
   "source": [
    "import pandas as pd\n",
    "import numpy as np\n",
    "import time\n",
    "from sklearn.model_selection import train_test_split\n",
    "from lfm import LFM\n"
   ]
  },
  {
   "cell_type": "markdown",
   "metadata": {},
   "source": [
    "## Загрузка и предобработка данных"
   ]
  },
  {
   "cell_type": "code",
   "execution_count": 21,
   "metadata": {},
   "outputs": [
    {
     "name": "stdout",
     "output_type": "stream",
     "text": [
      "Пользователей: 943, Фильмов: 1682\n",
      "Диапазон user_id: 0 - 942\n",
      "Диапазон item_id: 0 - 1681\n"
     ]
    },
    {
     "data": {
      "text/html": [
       "<div>\n",
       "<style scoped>\n",
       "    .dataframe tbody tr th:only-of-type {\n",
       "        vertical-align: middle;\n",
       "    }\n",
       "\n",
       "    .dataframe tbody tr th {\n",
       "        vertical-align: top;\n",
       "    }\n",
       "\n",
       "    .dataframe thead th {\n",
       "        text-align: right;\n",
       "    }\n",
       "</style>\n",
       "<table border=\"1\" class=\"dataframe\">\n",
       "  <thead>\n",
       "    <tr style=\"text-align: right;\">\n",
       "      <th></th>\n",
       "      <th>user_id</th>\n",
       "      <th>item_id</th>\n",
       "      <th>rating</th>\n",
       "      <th>timestamp</th>\n",
       "    </tr>\n",
       "  </thead>\n",
       "  <tbody>\n",
       "    <tr>\n",
       "      <th>0</th>\n",
       "      <td>0</td>\n",
       "      <td>0</td>\n",
       "      <td>3</td>\n",
       "      <td>881250949</td>\n",
       "    </tr>\n",
       "    <tr>\n",
       "      <th>1</th>\n",
       "      <td>1</td>\n",
       "      <td>1</td>\n",
       "      <td>3</td>\n",
       "      <td>891717742</td>\n",
       "    </tr>\n",
       "    <tr>\n",
       "      <th>2</th>\n",
       "      <td>2</td>\n",
       "      <td>2</td>\n",
       "      <td>1</td>\n",
       "      <td>878887116</td>\n",
       "    </tr>\n",
       "    <tr>\n",
       "      <th>3</th>\n",
       "      <td>3</td>\n",
       "      <td>3</td>\n",
       "      <td>2</td>\n",
       "      <td>880606923</td>\n",
       "    </tr>\n",
       "    <tr>\n",
       "      <th>4</th>\n",
       "      <td>4</td>\n",
       "      <td>4</td>\n",
       "      <td>1</td>\n",
       "      <td>886397596</td>\n",
       "    </tr>\n",
       "  </tbody>\n",
       "</table>\n",
       "</div>"
      ],
      "text/plain": [
       "   user_id  item_id  rating  timestamp\n",
       "0        0        0       3  881250949\n",
       "1        1        1       3  891717742\n",
       "2        2        2       1  878887116\n",
       "3        3        3       2  880606923\n",
       "4        4        4       1  886397596"
      ]
     },
     "execution_count": 21,
     "metadata": {},
     "output_type": "execute_result"
    }
   ],
   "source": [
    "def load_movielens_100k(path='data/u.data', max_samples=None):\n",
    "    names = ['user_id', 'item_id', 'rating', 'timestamp']\n",
    "    df = pd.read_csv(path, sep='\\t', names=names)\n",
    "    \n",
    "    # Сначала делаем выборку, если нужно\n",
    "    if max_samples is not None and len(df) > max_samples:\n",
    "        df = df.sample(max_samples, random_state=42)\n",
    "    \n",
    "    # Затем создаем маппинг для индексации с 0\n",
    "    user_mapping = {old_id: new_id for new_id, old_id in enumerate(df['user_id'].unique())}\n",
    "    item_mapping = {old_id: new_id for new_id, old_id in enumerate(df['item_id'].unique())}\n",
    "    \n",
    "    df['user_id'] = df['user_id'].map(user_mapping)\n",
    "    df['item_id'] = df['item_id'].map(item_mapping)\n",
    "    \n",
    "    return df\n",
    "\n",
    "df = load_movielens_100k(max_samples=100000)\n",
    "\n",
    "n_users = df['user_id'].nunique()\n",
    "n_items = df['item_id'].nunique()\n",
    "print(f'Пользователей: {n_users}, Фильмов: {n_items}')\n",
    "print(f'Диапазон user_id: {df[\"user_id\"].min()} - {df[\"user_id\"].max()}')\n",
    "print(f'Диапазон item_id: {df[\"item_id\"].min()} - {df[\"item_id\"].max()}')\n",
    "df.head()"
   ]
  },
  {
   "cell_type": "markdown",
   "metadata": {},
   "source": [
    "## Разделение на обучающую и тестовую выборки"
   ]
  },
  {
   "cell_type": "code",
   "execution_count": 22,
   "metadata": {},
   "outputs": [
    {
     "name": "stdout",
     "output_type": "stream",
     "text": [
      "Обучающая: 80000, Тестовая: 20000\n"
     ]
    }
   ],
   "source": [
    "train, test = train_test_split(df, test_size=0.2, random_state=42)\n",
    "print(f'Обучающая: {len(train)}, Тестовая: {len(test)}')"
   ]
  },
  {
   "cell_type": "markdown",
   "metadata": {},
   "source": [
    "## Обучение собственной реализации LFM"
   ]
  },
  {
   "cell_type": "code",
   "execution_count": 24,
   "metadata": {},
   "outputs": [
    {
     "name": "stdout",
     "output_type": "stream",
     "text": [
      "Epoch 1/20, RMSE: 2.4284\n",
      "Epoch 2/20, RMSE: 1.2031\n",
      "Epoch 3/20, RMSE: 1.0179\n",
      "Epoch 4/20, RMSE: 0.9554\n",
      "Epoch 5/20, RMSE: 0.9208\n",
      "Epoch 6/20, RMSE: 0.8947\n",
      "Epoch 7/20, RMSE: 0.8721\n",
      "Epoch 8/20, RMSE: 0.8513\n",
      "Epoch 9/20, RMSE: 0.8316\n",
      "Epoch 10/20, RMSE: 0.8126\n",
      "Epoch 11/20, RMSE: 0.7944\n",
      "Epoch 12/20, RMSE: 0.7771\n",
      "Epoch 13/20, RMSE: 0.7609\n",
      "Epoch 14/20, RMSE: 0.7458\n",
      "Epoch 15/20, RMSE: 0.7320\n",
      "Epoch 16/20, RMSE: 0.7192\n",
      "Epoch 17/20, RMSE: 0.7076\n",
      "Epoch 18/20, RMSE: 0.6969\n",
      "Epoch 19/20, RMSE: 0.6872\n",
      "Epoch 20/20, RMSE: 0.6782\n",
      "Время обучения LFM: 17.13 сек\n",
      "RMSE (LFM): 0.9795\n",
      "MAE (LFM): 0.7633\n"
     ]
    }
   ],
   "source": [
    "lfm = LFM(n_users, n_items, n_factors=20, lr=0.01, reg=0.01, n_epochs=20)\n",
    "start = time.time()\n",
    "lfm.fit(train['user_id'].values, train['item_id'].values, train['rating'].values, verbose=True)\n",
    "lfm_time = time.time() - start\n",
    "print(f'Время обучения LFM: {lfm_time:.2f} сек')\n",
    "\n",
    "rmse_lfm = lfm.rmse(test['user_id'].values, test['item_id'].values, test['rating'].values)\n",
    "mae_lfm = lfm.mae(test['user_id'].values, test['item_id'].values, test['rating'].values)\n",
    "print(f'RMSE (LFM): {rmse_lfm:.4f}')\n",
    "print(f'MAE (LFM): {mae_lfm:.4f}')"
   ]
  },
  {
   "cell_type": "markdown",
   "metadata": {},
   "source": [
    "## Обучение эталонной реализации Surprise (SVD)"
   ]
  },
  {
   "cell_type": "code",
   "execution_count": 14,
   "metadata": {},
   "outputs": [
    {
     "name": "stdout",
     "output_type": "stream",
     "text": [
      "RMSE: 0.9576\n",
      "MAE:  0.7455\n",
      "Время обучения SVD (Surprise): 0.55 сек\n"
     ]
    }
   ],
   "source": [
    "from surprise import Dataset, Reader, SVD\n",
    "from surprise.model_selection import train_test_split as surprise_split\n",
    "from surprise import accuracy\n",
    "\n",
    "reader = Reader(line_format='user item rating timestamp', sep='\\t')\n",
    "data = Dataset.load_from_df(df[['user_id', 'item_id', 'rating']], reader)\n",
    "trainset, testset = surprise_split(data, test_size=0.2, random_state=42)\n",
    "\n",
    "algo = SVD(n_factors=20, n_epochs=20, lr_all=0.01, reg_all=0.01, random_state=42)\n",
    "start = time.time()\n",
    "algo.fit(trainset)\n",
    "svd_time = time.time() - start\n",
    "predictions = algo.test(testset)\n",
    "rmse_svd = accuracy.rmse(predictions, verbose=True)\n",
    "mae_svd = accuracy.mae(predictions, verbose=True)\n",
    "print(f'Время обучения SVD (Surprise): {svd_time:.2f} сек')"
   ]
  },
  {
   "cell_type": "markdown",
   "metadata": {},
   "source": [
    "## Сравнение результатов"
   ]
  },
  {
   "cell_type": "code",
   "execution_count": 15,
   "metadata": {},
   "outputs": [
    {
     "name": "stdout",
     "output_type": "stream",
     "text": [
      "Собственная реализация LFM:\n",
      "  RMSE: 0.9795\n",
      "  MAE:  0.7633\n",
      "  Время обучения: 16.23 сек\n",
      "Surprise SVD:\n",
      "  RMSE: 0.9576\n",
      "  MAE:  0.7455\n",
      "  Время обучения: 0.55 сек\n"
     ]
    }
   ],
   "source": [
    "print('Собственная реализация LFM:')\n",
    "print(f'  RMSE: {rmse_lfm:.4f}')\n",
    "print(f'  MAE:  {mae_lfm:.4f}')\n",
    "print(f'  Время обучения: {lfm_time:.2f} сек')\n",
    "print('Surprise SVD:')\n",
    "print(f'  RMSE: {rmse_svd:.4f}')\n",
    "print(f'  MAE:  {mae_svd:.4f}')\n",
    "print(f'  Время обучения: {svd_time:.2f} сек')"
   ]
  },
  {
   "cell_type": "code",
   "execution_count": 19,
   "metadata": {},
   "outputs": [
    {
     "name": "stdout",
     "output_type": "stream",
     "text": [
      "Пользователь с user_id=124 поставил 5 фильмам жанра War\n",
      "Топ-5 рекомендаций для пользователя 124:\n"
     ]
    },
    {
     "data": {
      "text/html": [
       "<div>\n",
       "<style scoped>\n",
       "    .dataframe tbody tr th:only-of-type {\n",
       "        vertical-align: middle;\n",
       "    }\n",
       "\n",
       "    .dataframe tbody tr th {\n",
       "        vertical-align: top;\n",
       "    }\n",
       "\n",
       "    .dataframe thead th {\n",
       "        text-align: right;\n",
       "    }\n",
       "</style>\n",
       "<table border=\"1\" class=\"dataframe\">\n",
       "  <thead>\n",
       "    <tr style=\"text-align: right;\">\n",
       "      <th></th>\n",
       "      <th>title</th>\n",
       "      <th>War</th>\n",
       "    </tr>\n",
       "  </thead>\n",
       "  <tbody>\n",
       "    <tr>\n",
       "      <th>60</th>\n",
       "      <td>Three Colors: White (1994)</td>\n",
       "      <td>0</td>\n",
       "    </tr>\n",
       "    <tr>\n",
       "      <th>77</th>\n",
       "      <td>Free Willy (1993)</td>\n",
       "      <td>0</td>\n",
       "    </tr>\n",
       "    <tr>\n",
       "      <th>280</th>\n",
       "      <td>River Wild, The (1994)</td>\n",
       "      <td>0</td>\n",
       "    </tr>\n",
       "    <tr>\n",
       "      <th>506</th>\n",
       "      <td>Streetcar Named Desire, A (1951)</td>\n",
       "      <td>0</td>\n",
       "    </tr>\n",
       "    <tr>\n",
       "      <th>719</th>\n",
       "      <td>First Knight (1995)</td>\n",
       "      <td>0</td>\n",
       "    </tr>\n",
       "  </tbody>\n",
       "</table>\n",
       "</div>"
      ],
      "text/plain": [
       "                                title  War\n",
       "60         Three Colors: White (1994)    0\n",
       "77                  Free Willy (1993)    0\n",
       "280            River Wild, The (1994)    0\n",
       "506  Streetcar Named Desire, A (1951)    0\n",
       "719               First Knight (1995)    0"
      ]
     },
     "metadata": {},
     "output_type": "display_data"
    }
   ],
   "source": [
    "movies = pd.read_csv(\n",
    "    'data/u.item', \n",
    "    sep='|', \n",
    "    encoding='latin-1', \n",
    "    header=None, \n",
    "    names=[\n",
    "        'movie_id', 'title', 'release_date', 'video_release_date', 'IMDb_URL',\n",
    "        'unknown', 'Action', 'Adventure', 'Animation', 'Children\\'s', 'Comedy', 'Crime', 'Documentary',\n",
    "        'Drama', 'Fantasy', 'Film-Noir', 'Horror', 'Musical', 'Mystery', 'Romance', 'Sci-Fi',\n",
    "        'Thriller', 'War', 'Western'\n",
    "    ]\n",
    ")\n",
    "\n",
    "genre = 'War'\n",
    "\n",
    "genre_movie_ids = set(movies[movies[genre] == 1]['movie_id'] - 1)\n",
    "\n",
    "users_with_5 = df[(df['item_id'].isin(genre_movie_ids)) & (df['rating'] == 5)]['user_id'].unique()\n",
    "\n",
    "if len(users_with_5) == 0:\n",
    "    print(f\"Нет пользователей, поставивших 5 фильмам жанра {genre}\")\n",
    "else:\n",
    "    user_id = users_with_5[0]\n",
    "    print(f'Пользователь с user_id={user_id} поставил 5 фильмам жанра {genre}')\n",
    "\n",
    "    # Фильмы, которые пользователь уже смотрел\n",
    "    watched = set(df[df['user_id'] == user_id]['item_id'])\n",
    "    not_watched = set(range(n_items)) - watched\n",
    "\n",
    "    # Предсказываем оценки для всех не просмотренных фильмов\n",
    "    preds = [(item, lfm.predict_single(user_id, item)) for item in not_watched]\n",
    "    preds.sort(key=lambda x: x[1], reverse=True)\n",
    "\n",
    "    top_n = 5\n",
    "    top_items = [item for item, _ in preds[:top_n]]\n",
    "    recommended_movies = movies[movies['movie_id'].apply(lambda x: x - 1).isin(top_items)][['title', genre]]\n",
    "    print(f'Топ-{top_n} рекомендаций для пользователя {user_id}:')\n",
    "    display(recommended_movies)"
   ]
  }
 ],
 "metadata": {
  "kernelspec": {
   "display_name": "Python 3",
   "language": "python",
   "name": "python3"
  },
  "language_info": {
   "codemirror_mode": {
    "name": "ipython",
    "version": 3
   },
   "file_extension": ".py",
   "mimetype": "text/x-python",
   "name": "python",
   "nbconvert_exporter": "python",
   "pygments_lexer": "ipython3",
   "version": "3.11.13"
  }
 },
 "nbformat": 4,
 "nbformat_minor": 2
}
