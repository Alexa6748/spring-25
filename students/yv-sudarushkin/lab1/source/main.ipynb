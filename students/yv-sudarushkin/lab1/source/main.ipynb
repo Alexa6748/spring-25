{
 "cells": [
  {
   "cell_type": "code",
   "execution_count": 1,
   "metadata": {
    "collapsed": true
   },
   "outputs": [
    {
     "name": "stderr",
     "output_type": "stream",
     "text": [
      "c:\\python310\\lib\\site-packages\\sklearn\\utils\\_param_validation.py:11: UserWarning: A NumPy version >=1.23.5 and <2.5.0 is required for this version of SciPy (detected version 1.23.3)\n",
      "  from scipy.sparse import csr_matrix, issparse\n"
     ]
    }
   ],
   "source": [
    "from load_data import load_scaled_data"
   ]
  },
  {
   "cell_type": "code",
   "execution_count": 2,
   "outputs": [],
   "source": [
    "df = load_scaled_data()"
   ],
   "metadata": {
    "collapsed": false
   }
  },
  {
   "cell_type": "code",
   "execution_count": 3,
   "outputs": [
    {
     "data": {
      "text/plain": "           date       day    period  nswprice  nswdemand  vicprice  vicdemand  \\\n0     -0.213995  0.999955  0.755418  0.471950  -0.701234  0.001170  -0.000907   \n1      1.085774  1.501580  1.043922 -0.760447  -0.776809 -0.158930  -0.806699   \n2     -1.372785 -1.508167  0.755418 -0.066211  -0.166768  0.001170  -0.000907   \n3      1.087074 -0.504918  1.693050 -0.742753  -0.182247 -0.239914  -0.233431   \n4      1.124565 -0.003294  1.620923 -0.437541   0.262989 -0.078634   0.019922   \n...         ...       ...       ...       ...        ...       ...        ...   \n36244 -0.150080 -1.006542  0.755418  0.749481   2.570212  0.256111   2.190620   \n36245 -0.202147  1.501580 -0.254338  0.005285  -0.326108  0.001170  -0.000907   \n36246 -1.427586  0.498331 -0.110088 -0.412164   0.811116  0.001170  -0.000907   \n36247  1.151640 -0.504918  1.260296  0.521141   1.864570  0.190459   1.460609   \n36248 -0.203580 -0.504918 -1.480471 -0.066211  -1.421449  0.001170  -0.000907   \n\n       transfer  class  \n0     -0.557367      1  \n1      2.167103      0  \n2     -0.557367      0  \n3      0.909436      0  \n4      0.852139      1  \n...         ...    ...  \n36244 -1.127466      1  \n36245 -0.557367      0  \n36246 -0.557367      0  \n36247 -0.153425      1  \n36248 -0.557367      0  \n\n[36249 rows x 9 columns]",
      "text/html": "<div>\n<style scoped>\n    .dataframe tbody tr th:only-of-type {\n        vertical-align: middle;\n    }\n\n    .dataframe tbody tr th {\n        vertical-align: top;\n    }\n\n    .dataframe thead th {\n        text-align: right;\n    }\n</style>\n<table border=\"1\" class=\"dataframe\">\n  <thead>\n    <tr style=\"text-align: right;\">\n      <th></th>\n      <th>date</th>\n      <th>day</th>\n      <th>period</th>\n      <th>nswprice</th>\n      <th>nswdemand</th>\n      <th>vicprice</th>\n      <th>vicdemand</th>\n      <th>transfer</th>\n      <th>class</th>\n    </tr>\n  </thead>\n  <tbody>\n    <tr>\n      <th>0</th>\n      <td>-0.213995</td>\n      <td>0.999955</td>\n      <td>0.755418</td>\n      <td>0.471950</td>\n      <td>-0.701234</td>\n      <td>0.001170</td>\n      <td>-0.000907</td>\n      <td>-0.557367</td>\n      <td>1</td>\n    </tr>\n    <tr>\n      <th>1</th>\n      <td>1.085774</td>\n      <td>1.501580</td>\n      <td>1.043922</td>\n      <td>-0.760447</td>\n      <td>-0.776809</td>\n      <td>-0.158930</td>\n      <td>-0.806699</td>\n      <td>2.167103</td>\n      <td>0</td>\n    </tr>\n    <tr>\n      <th>2</th>\n      <td>-1.372785</td>\n      <td>-1.508167</td>\n      <td>0.755418</td>\n      <td>-0.066211</td>\n      <td>-0.166768</td>\n      <td>0.001170</td>\n      <td>-0.000907</td>\n      <td>-0.557367</td>\n      <td>0</td>\n    </tr>\n    <tr>\n      <th>3</th>\n      <td>1.087074</td>\n      <td>-0.504918</td>\n      <td>1.693050</td>\n      <td>-0.742753</td>\n      <td>-0.182247</td>\n      <td>-0.239914</td>\n      <td>-0.233431</td>\n      <td>0.909436</td>\n      <td>0</td>\n    </tr>\n    <tr>\n      <th>4</th>\n      <td>1.124565</td>\n      <td>-0.003294</td>\n      <td>1.620923</td>\n      <td>-0.437541</td>\n      <td>0.262989</td>\n      <td>-0.078634</td>\n      <td>0.019922</td>\n      <td>0.852139</td>\n      <td>1</td>\n    </tr>\n    <tr>\n      <th>...</th>\n      <td>...</td>\n      <td>...</td>\n      <td>...</td>\n      <td>...</td>\n      <td>...</td>\n      <td>...</td>\n      <td>...</td>\n      <td>...</td>\n      <td>...</td>\n    </tr>\n    <tr>\n      <th>36244</th>\n      <td>-0.150080</td>\n      <td>-1.006542</td>\n      <td>0.755418</td>\n      <td>0.749481</td>\n      <td>2.570212</td>\n      <td>0.256111</td>\n      <td>2.190620</td>\n      <td>-1.127466</td>\n      <td>1</td>\n    </tr>\n    <tr>\n      <th>36245</th>\n      <td>-0.202147</td>\n      <td>1.501580</td>\n      <td>-0.254338</td>\n      <td>0.005285</td>\n      <td>-0.326108</td>\n      <td>0.001170</td>\n      <td>-0.000907</td>\n      <td>-0.557367</td>\n      <td>0</td>\n    </tr>\n    <tr>\n      <th>36246</th>\n      <td>-1.427586</td>\n      <td>0.498331</td>\n      <td>-0.110088</td>\n      <td>-0.412164</td>\n      <td>0.811116</td>\n      <td>0.001170</td>\n      <td>-0.000907</td>\n      <td>-0.557367</td>\n      <td>0</td>\n    </tr>\n    <tr>\n      <th>36247</th>\n      <td>1.151640</td>\n      <td>-0.504918</td>\n      <td>1.260296</td>\n      <td>0.521141</td>\n      <td>1.864570</td>\n      <td>0.190459</td>\n      <td>1.460609</td>\n      <td>-0.153425</td>\n      <td>1</td>\n    </tr>\n    <tr>\n      <th>36248</th>\n      <td>-0.203580</td>\n      <td>-0.504918</td>\n      <td>-1.480471</td>\n      <td>-0.066211</td>\n      <td>-1.421449</td>\n      <td>0.001170</td>\n      <td>-0.000907</td>\n      <td>-0.557367</td>\n      <td>0</td>\n    </tr>\n  </tbody>\n</table>\n<p>36249 rows × 9 columns</p>\n</div>"
     },
     "execution_count": 3,
     "metadata": {},
     "output_type": "execute_result"
    }
   ],
   "source": [
    "df"
   ],
   "metadata": {
    "collapsed": false
   }
  },
  {
   "cell_type": "code",
   "execution_count": 4,
   "outputs": [],
   "source": [
    "from bagging_method import CustomBaggingClassification"
   ],
   "metadata": {
    "collapsed": false
   }
  },
  {
   "cell_type": "code",
   "execution_count": 5,
   "outputs": [],
   "source": [
    "from time import time"
   ],
   "metadata": {
    "collapsed": false
   }
  },
  {
   "cell_type": "code",
   "execution_count": 6,
   "outputs": [],
   "source": [
    "from sklearn.model_selection import train_test_split\n",
    "# _, X, _, y = train_test_split(df.drop('class', axis=1).to_numpy(), df['class'], stratify= df['class'], test_size=0.2)\n",
    "X, y = df.drop('class', axis=1).to_numpy(), df['class'].to_numpy()\n",
    "X_train, X_test, y_train, y_test = train_test_split(X, y, test_size=0.2)"
   ],
   "metadata": {
    "collapsed": false
   }
  },
  {
   "cell_type": "code",
   "execution_count": 7,
   "outputs": [],
   "source": [
    "# параметры подобраны опытным путем, чтобы быть круче sklearn.\n",
    "custom_model = CustomBaggingClassification(n_estimators=10, threshold_train_score=0.9, threshold_test_score=0.8)"
   ],
   "metadata": {
    "collapsed": false
   }
  },
  {
   "cell_type": "code",
   "execution_count": 8,
   "outputs": [],
   "source": [
    "def get_time(model, X, y):\n",
    "    t_start = time()\n",
    "    model.fit(X, y)\n",
    "    return (time() - t_start)"
   ],
   "metadata": {
    "collapsed": false
   }
  },
  {
   "cell_type": "code",
   "execution_count": 9,
   "outputs": [
    {
     "data": {
      "text/plain": "3.9154417514801025"
     },
     "execution_count": 9,
     "metadata": {},
     "output_type": "execute_result"
    }
   ],
   "source": [
    "t_custom = get_time(custom_model, X_train, y_train)\n",
    "t_custom"
   ],
   "metadata": {
    "collapsed": false
   }
  },
  {
   "cell_type": "code",
   "execution_count": 10,
   "outputs": [],
   "source": [
    "from sklearn.metrics import accuracy_score, classification_report"
   ],
   "metadata": {
    "collapsed": false
   }
  },
  {
   "cell_type": "code",
   "execution_count": 11,
   "outputs": [
    {
     "name": "stdout",
     "output_type": "stream",
     "text": [
      "              precision    recall  f1-score   support\n",
      "\n",
      "           0     0.8958    0.9353    0.9151      4144\n",
      "           1     0.9083    0.8548    0.8807      3106\n",
      "\n",
      "    accuracy                         0.9008      7250\n",
      "   macro avg     0.9020    0.8951    0.8979      7250\n",
      "weighted avg     0.9011    0.9008    0.9004      7250\n",
      "\n"
     ]
    }
   ],
   "source": [
    "y_pred = custom_model.predict(X_test)\n",
    "print(classification_report(y_test, y_pred, digits=4))"
   ],
   "metadata": {
    "collapsed": false
   }
  },
  {
   "cell_type": "code",
   "execution_count": 12,
   "outputs": [],
   "source": [
    "from sklearn.ensemble import BaggingClassifier\n",
    "\n",
    "sklearn_model = BaggingClassifier(n_estimators=10)"
   ],
   "metadata": {
    "collapsed": false
   }
  },
  {
   "cell_type": "code",
   "execution_count": 13,
   "outputs": [
    {
     "data": {
      "text/plain": "2.510341167449951"
     },
     "execution_count": 13,
     "metadata": {},
     "output_type": "execute_result"
    }
   ],
   "source": [
    "t_sklearn = get_time(sklearn_model, X_train, y_train)\n",
    "t_sklearn"
   ],
   "metadata": {
    "collapsed": false
   }
  },
  {
   "cell_type": "code",
   "execution_count": 14,
   "outputs": [
    {
     "name": "stdout",
     "output_type": "stream",
     "text": [
      "              precision    recall  f1-score   support\n",
      "\n",
      "           0     0.8922    0.9291    0.9103      4144\n",
      "           1     0.8998    0.8503    0.8744      3106\n",
      "\n",
      "    accuracy                         0.8953      7250\n",
      "   macro avg     0.8960    0.8897    0.8923      7250\n",
      "weighted avg     0.8955    0.8953    0.8949      7250\n",
      "\n"
     ]
    }
   ],
   "source": [
    "y_pred = sklearn_model.predict(X_test)\n",
    "accuracy_score(y_pred, y_test)\n",
    "\n",
    "print(classification_report(y_test, y_pred, digits=4))"
   ],
   "metadata": {
    "collapsed": false
   }
  },
  {
   "cell_type": "code",
   "execution_count": 15,
   "outputs": [
    {
     "name": "stdout",
     "output_type": "stream",
     "text": [
      "Время, затраченное кастомным: 3.9154 с\n",
      "Время, затраченное Sklearn: 2.5103 с\n"
     ]
    }
   ],
   "source": [
    "print(f\"Время, затраченное кастомным: {t_custom:.4f} с\")\n",
    "print(f\"Время, затраченное Sklearn: {t_sklearn:.4f} с\")"
   ],
   "metadata": {
    "collapsed": false
   }
  },
  {
   "cell_type": "code",
   "execution_count": 16,
   "outputs": [],
   "source": [
    "from sklearn.metrics import classification_report\n",
    "def cross_validate(model, X, y, n_folds=10):\n",
    "    scores = []\n",
    "    for n in range(n_folds):\n",
    "        X_train, X_test, y_train, y_test = train_test_split(X, y, test_size=0.2)\n",
    "        model.fit(X_train, y_train)\n",
    "        scores += [accuracy_score(model.predict(X_test), y_test)]\n",
    "    return scores"
   ],
   "metadata": {
    "collapsed": false
   }
  },
  {
   "cell_type": "code",
   "execution_count": 17,
   "outputs": [],
   "source": [
    "n_folds = 10\n",
    "\n",
    "\n",
    "custom_scores = cross_validate(custom_model, X, y, n_folds=n_folds)\n",
    "sklearn_scores = cross_validate(sklearn_model, X, y, n_folds=n_folds)"
   ],
   "metadata": {
    "collapsed": false
   }
  },
  {
   "cell_type": "code",
   "execution_count": 18,
   "outputs": [
    {
     "name": "stdout",
     "output_type": "stream",
     "text": [
      "Средний accuracy для 10 выборок у кастомного: 0.904\n",
      "Средний accuracy для 10 выборок у Sklearn: 0.904\n"
     ]
    }
   ],
   "source": [
    "import numpy as np\n",
    "print(f\"Средний accuracy для {n_folds} выборок у кастомного: {np.mean(custom_scores):.3f}\")\n",
    "print(f\"Средний accuracy для {n_folds} выборок у Sklearn: {np.mean(sklearn_scores):.3f}\")"
   ],
   "metadata": {
    "collapsed": false
   }
  }
 ],
 "metadata": {
  "kernelspec": {
   "display_name": "Python 3",
   "language": "python",
   "name": "python3"
  },
  "language_info": {
   "codemirror_mode": {
    "name": "ipython",
    "version": 2
   },
   "file_extension": ".py",
   "mimetype": "text/x-python",
   "name": "python",
   "nbconvert_exporter": "python",
   "pygments_lexer": "ipython2",
   "version": "2.7.6"
  }
 },
 "nbformat": 4,
 "nbformat_minor": 0
}
