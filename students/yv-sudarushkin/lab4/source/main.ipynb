{
 "cells": [
  {
   "cell_type": "code",
   "execution_count": 1,
   "outputs": [],
   "source": [
    "import numpy as np\n",
    "import pandas as pd"
   ],
   "metadata": {
    "collapsed": false
   }
  },
  {
   "cell_type": "code",
   "execution_count": 2,
   "outputs": [],
   "source": [
    "%load_ext autoreload\n",
    "%autoreload 2"
   ],
   "metadata": {
    "collapsed": false
   }
  },
  {
   "cell_type": "code",
   "execution_count": 3,
   "outputs": [
    {
     "name": "stderr",
     "output_type": "stream",
     "text": [
      "[nltk_data] Downloading package stopwords to\n",
      "[nltk_data]     C:\\Users\\yaros\\AppData\\Roaming\\nltk_data...\n",
      "[nltk_data]   Package stopwords is already up-to-date!\n",
      "[nltk_data] Downloading package punkt to\n",
      "[nltk_data]     C:\\Users\\yaros\\AppData\\Roaming\\nltk_data...\n",
      "[nltk_data]   Package punkt is already up-to-date!\n",
      "[nltk_data] Downloading package punkt_tab to\n",
      "[nltk_data]     C:\\Users\\yaros\\AppData\\Roaming\\nltk_data...\n",
      "[nltk_data]   Package punkt_tab is already up-to-date!\n",
      "[nltk_data] Downloading package wordnet to\n",
      "[nltk_data]     C:\\Users\\yaros\\AppData\\Roaming\\nltk_data...\n",
      "[nltk_data]   Package wordnet is already up-to-date!\n"
     ]
    }
   ],
   "source": [
    "from load_data import load_data\n",
    "df_cut = 2000\n",
    "df_train, df_valid = load_data(df_cut)"
   ],
   "metadata": {
    "collapsed": false
   }
  },
  {
   "cell_type": "code",
   "execution_count": 4,
   "outputs": [
    {
     "data": {
      "text/plain": "(2000, 5)"
     },
     "execution_count": 4,
     "metadata": {},
     "output_type": "execute_result"
    }
   ],
   "source": [
    "df_train.shape"
   ],
   "metadata": {
    "collapsed": false
   }
  },
  {
   "cell_type": "code",
   "execution_count": 5,
   "outputs": [
    {
     "data": {
      "text/plain": "                                                   Title  \\\n42467        How to know what company protect a website?   \n6370   Macro to find cells with value and replacing w...   \n14248     closing previous jframes while opening another   \n15077        Writing Apache Zookeeper like service in go   \n28634                      Go:get fragment values in url   \n\n                                                    Body  \\\n42467  <p><a href=\"https://www.genecards.org\" rel=\"no...   \n6370   I want to search for all cells in a column tha...   \n14248  i have 2 jframes f1&f2 both having buttons b1&...   \n15077  <p>I want to write a very simple (but fully fu...   \n28634  sample code \\r\\n\\r\\n<!-- begin snippet: js hid...   \n\n                         Tags  \\\n42467          <web-scraping>   \n6370             <excel><vba>   \n14248   <java><swing><jframe>   \n15077  <go><apache-zookeeper>   \n28634       <go><httphandler>   \n\n                                                    text  \\\n42467  How to know what company protect a website? <p...   \n6370   Macro to find cells with value and replacing w...   \n14248  closing previous jframes while opening another...   \n15077  Writing Apache Zookeeper like service in go <p...   \n28634  Go:get fragment values in url sample code \\r\\n...   \n\n                                              clean_text  \n42467  know company protect website http www genecard...  \n6370   macro find cell value replacing value adjacent...  \n14248  closing previous jframes opening another jfram...  \n15077  writing apache zookeeper like service want wri...  \n28634  get fragment value url sample code func main f...  ",
      "text/html": "<div>\n<style scoped>\n    .dataframe tbody tr th:only-of-type {\n        vertical-align: middle;\n    }\n\n    .dataframe tbody tr th {\n        vertical-align: top;\n    }\n\n    .dataframe thead th {\n        text-align: right;\n    }\n</style>\n<table border=\"1\" class=\"dataframe\">\n  <thead>\n    <tr style=\"text-align: right;\">\n      <th></th>\n      <th>Title</th>\n      <th>Body</th>\n      <th>Tags</th>\n      <th>text</th>\n      <th>clean_text</th>\n    </tr>\n  </thead>\n  <tbody>\n    <tr>\n      <th>42467</th>\n      <td>How to know what company protect a website?</td>\n      <td>&lt;p&gt;&lt;a href=\"https://www.genecards.org\" rel=\"no...</td>\n      <td>&lt;web-scraping&gt;</td>\n      <td>How to know what company protect a website? &lt;p...</td>\n      <td>know company protect website http www genecard...</td>\n    </tr>\n    <tr>\n      <th>6370</th>\n      <td>Macro to find cells with value and replacing w...</td>\n      <td>I want to search for all cells in a column tha...</td>\n      <td>&lt;excel&gt;&lt;vba&gt;</td>\n      <td>Macro to find cells with value and replacing w...</td>\n      <td>macro find cell value replacing value adjacent...</td>\n    </tr>\n    <tr>\n      <th>14248</th>\n      <td>closing previous jframes while opening another</td>\n      <td>i have 2 jframes f1&amp;f2 both having buttons b1&amp;...</td>\n      <td>&lt;java&gt;&lt;swing&gt;&lt;jframe&gt;</td>\n      <td>closing previous jframes while opening another...</td>\n      <td>closing previous jframes opening another jfram...</td>\n    </tr>\n    <tr>\n      <th>15077</th>\n      <td>Writing Apache Zookeeper like service in go</td>\n      <td>&lt;p&gt;I want to write a very simple (but fully fu...</td>\n      <td>&lt;go&gt;&lt;apache-zookeeper&gt;</td>\n      <td>Writing Apache Zookeeper like service in go &lt;p...</td>\n      <td>writing apache zookeeper like service want wri...</td>\n    </tr>\n    <tr>\n      <th>28634</th>\n      <td>Go:get fragment values in url</td>\n      <td>sample code \\r\\n\\r\\n&lt;!-- begin snippet: js hid...</td>\n      <td>&lt;go&gt;&lt;httphandler&gt;</td>\n      <td>Go:get fragment values in url sample code \\r\\n...</td>\n      <td>get fragment value url sample code func main f...</td>\n    </tr>\n  </tbody>\n</table>\n</div>"
     },
     "execution_count": 5,
     "metadata": {},
     "output_type": "execute_result"
    }
   ],
   "source": [
    "df_train.head()"
   ],
   "metadata": {
    "collapsed": false
   }
  },
  {
   "cell_type": "code",
   "execution_count": 6,
   "outputs": [],
   "source": [
    "n_topics = 7\n",
    "n_iter = 18"
   ],
   "metadata": {
    "collapsed": false
   }
  },
  {
   "cell_type": "code",
   "execution_count": 7,
   "outputs": [],
   "source": [
    "from sklearn.feature_extraction.text import CountVectorizer\n",
    "\n",
    "vectorizer = CountVectorizer(max_df=0.95, min_df=5, stop_words='english')\n",
    "X = vectorizer.fit_transform(df_train['clean_text'])\n",
    "# X_valid\n"
   ],
   "metadata": {
    "collapsed": false
   }
  },
  {
   "cell_type": "code",
   "execution_count": 8,
   "outputs": [
    {
     "data": {
      "text/plain": "(2000, 2035)"
     },
     "execution_count": 8,
     "metadata": {},
     "output_type": "execute_result"
    }
   ],
   "source": [
    "X.shape"
   ],
   "metadata": {
    "collapsed": false
   }
  },
  {
   "cell_type": "code",
   "execution_count": 9,
   "outputs": [],
   "source": [
    "import time"
   ],
   "metadata": {
    "collapsed": false
   }
  },
  {
   "cell_type": "code",
   "execution_count": 10,
   "outputs": [
    {
     "name": "stdout",
     "output_type": "stream",
     "text": [
      "\n",
      "Тема #1:\n",
      "public new string class void private user http return import\n",
      "\n",
      "Тема #2:\n",
      "android java layout com app view content lang org foo\n",
      "\n",
      "Тема #3:\n",
      "int function return input amp include cout std react module\n",
      "\n",
      "Тема #4:\n",
      "string array value list number int return code new print\n",
      "\n",
      "Тема #5:\n",
      "like use want using time text way need color code\n",
      "\n",
      "Тема #6:\n",
      "file error line python command using version code user run\n",
      "\n",
      "Тема #7:\n",
      "image file data div php row html column value button\n"
     ]
    }
   ],
   "source": [
    "from sklearn.decomposition import LatentDirichletAllocation\n",
    "\n",
    "start_train_sk = time.time()\n",
    "lda = LatentDirichletAllocation(learning_method='batch',\n",
    "                                n_components=n_topics,\n",
    "                                max_iter = n_iter,\n",
    "                                n_jobs=None,\n",
    "                                random_state=42)\n",
    "lda.fit(X)\n",
    "end_train_sk = time.time()\n",
    "\n",
    "def print_topics(model, vectorizer, top_n=10):\n",
    "    words = vectorizer.get_feature_names_out()\n",
    "    for idx, topic in enumerate(model.components_):\n",
    "        print(f\"\\nТема #{idx+1}:\")\n",
    "        print(\" \".join([words[i] for i in topic.argsort()[:-top_n - 1:-1]]))\n",
    "start_pred_sk = time.time()\n",
    "print_topics(lda, vectorizer)\n",
    "end_pred_sk = time.time()\n"
   ],
   "metadata": {
    "collapsed": false
   }
  },
  {
   "cell_type": "code",
   "execution_count": 11,
   "outputs": [
    {
     "name": "stderr",
     "output_type": "stream",
     "text": [
      "Training LDA: 100%|██████████| 18/18 [04:53<00:00, 16.32s/it]"
     ]
    },
    {
     "name": "stdout",
     "output_type": "stream",
     "text": [
      "Тема #1: string public name new return class null int\n",
      "Тема #2: android class layout image com width app height\n",
      "Тема #3: value input name function var type get php\n",
      "Тема #4: int array number return list code time print\n",
      "Тема #5: java new add system public class void string\n",
      "Тема #6: file data want like use name using value\n",
      "Тема #7: file error app module http using version com\n"
     ]
    },
    {
     "name": "stderr",
     "output_type": "stream",
     "text": [
      "\n"
     ]
    }
   ],
   "source": [
    "from lda import LDA\n",
    "tokenized_docs = [doc.split() for doc in df_train['clean_text']]\n",
    "\n",
    "start_train_cu = time.time()\n",
    "model = LDA(n_topics=n_topics, alpha=0.1, beta=0.1, n_iter=n_iter)\n",
    "model.fit(tokenized_docs)\n",
    "end_train_cu = time.time()\n",
    "\n",
    "\n",
    "# Топ слова по темам\n",
    "start_pred_cu = time.time()\n",
    "for idx, topic in enumerate(model.get_topic_words(top_n=8)):\n",
    "    print(f\"Тема #{idx+1}: {' '.join(topic)}\")\n",
    "end_pred_cu = time.time()\n"
   ],
   "metadata": {
    "collapsed": false
   }
  },
  {
   "cell_type": "code",
   "execution_count": 12,
   "outputs": [
    {
     "name": "stdout",
     "output_type": "stream",
     "text": [
      "[sklearn] Время обучения: 12.68 сек\n",
      "[sklearn] Время предсказания: 0.00 сек\n",
      "[LDA_custom] Время обучения: 294.20 сек\n",
      "[LDA_custom] Время предсказания: 0.00 сек\n"
     ]
    }
   ],
   "source": [
    "print(f\"[sklearn] Время обучения: {end_train_sk - start_train_sk:.2f} сек\")\n",
    "print(f\"[sklearn] Время предсказания: {end_pred_sk - start_pred_sk:.2f} сек\")\n",
    "print(f\"[LDA_custom] Время обучения: {end_train_cu - start_train_cu:.2f} сек\")\n",
    "print(f\"[LDA_custom] Время предсказания: {end_pred_cu - start_pred_cu:.2f} сек\")"
   ],
   "metadata": {
    "collapsed": false
   }
  },
  {
   "cell_type": "code",
   "execution_count": 13,
   "outputs": [],
   "source": [
    "from gensim.models import CoherenceModel\n",
    "from gensim import corpora\n",
    "\n",
    "def compute_coherence_gensim(topics_words, tokenized_texts, coherence='c_v'):\n",
    "    dictionary = corpora.Dictionary(tokenized_texts)\n",
    "    coherence_model = CoherenceModel(topics=topics_words,\n",
    "                                     texts=tokenized_texts,\n",
    "                                     dictionary=dictionary,\n",
    "                                     coherence=coherence)\n",
    "    return coherence_model.get_coherence()\n"
   ],
   "metadata": {
    "collapsed": false
   }
  },
  {
   "cell_type": "code",
   "execution_count": 14,
   "outputs": [
    {
     "name": "stdout",
     "output_type": "stream",
     "text": [
      "Когерентность custom реализации LDA: 0.5854\n"
     ]
    }
   ],
   "source": [
    "tokenized_docs = [doc.split() for doc in df_train['clean_text']]\n",
    "top_words_lda = model.get_topic_words(top_n=10)\n",
    "\n",
    "coherence_lda = compute_coherence_gensim(top_words_lda, tokenized_docs)\n",
    "print(f\"Когерентность custom реализации LDA: {coherence_lda:.4f}\")\n"
   ],
   "metadata": {
    "collapsed": false
   }
  },
  {
   "cell_type": "code",
   "execution_count": 15,
   "outputs": [
    {
     "name": "stdout",
     "output_type": "stream",
     "text": [
      "Когерентность sklearn LDA: 0.5367\n"
     ]
    }
   ],
   "source": [
    "def get_sklearn_topics(lda_model, vectorizer, top_n=10):\n",
    "    feature_names = vectorizer.get_feature_names_out()\n",
    "    topics = []\n",
    "    for topic in lda_model.components_:\n",
    "        top_indices = topic.argsort()[:-top_n - 1:-1]\n",
    "        topics.append([feature_names[i] for i in top_indices])\n",
    "    return topics\n",
    "\n",
    "top_words_sklearn = get_sklearn_topics(lda, vectorizer, top_n=10)\n",
    "\n",
    "coherence_sklearn = compute_coherence_gensim(top_words_sklearn, tokenized_docs)\n",
    "print(f\"Когерентность sklearn LDA: {coherence_sklearn:.4f}\")\n"
   ],
   "metadata": {
    "collapsed": false
   }
  }
 ],
 "metadata": {
  "kernelspec": {
   "display_name": "Python 3",
   "language": "python",
   "name": "python3"
  },
  "language_info": {
   "codemirror_mode": {
    "name": "ipython",
    "version": 2
   },
   "file_extension": ".py",
   "mimetype": "text/x-python",
   "name": "python",
   "nbconvert_exporter": "python",
   "pygments_lexer": "ipython2",
   "version": "2.7.6"
  }
 },
 "nbformat": 4,
 "nbformat_minor": 0
}
