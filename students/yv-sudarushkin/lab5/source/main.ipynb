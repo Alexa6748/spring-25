{
 "cells": [
  {
   "cell_type": "code",
   "execution_count": 1,
   "outputs": [],
   "source": [
    "import numpy as np\n",
    "import pandas as pd"
   ],
   "metadata": {
    "collapsed": false
   }
  },
  {
   "cell_type": "code",
   "execution_count": 2,
   "outputs": [],
   "source": [
    "%load_ext autoreload\n",
    "%autoreload 2"
   ],
   "metadata": {
    "collapsed": false
   }
  },
  {
   "cell_type": "code",
   "execution_count": 3,
   "outputs": [],
   "source": [
    "from load_data import load_data\n",
    "df, _ = load_data()"
   ],
   "metadata": {
    "collapsed": false
   }
  },
  {
   "cell_type": "code",
   "execution_count": 4,
   "outputs": [],
   "source": [
    "user_n = 4000\n",
    "anime_n = 4000\n",
    "stump_df_idx = (df['rating'] != -1) & (df['user_id'] < user_n) & (df['anime_id'] < anime_n)"
   ],
   "metadata": {
    "collapsed": false
   }
  },
  {
   "cell_type": "code",
   "execution_count": 5,
   "outputs": [
    {
     "data": {
      "text/plain": "        user_id  anime_id  rating\n156           3        20       8\n157           3       154       6\n158           3       170       9\n159           3       199      10\n160           3       225       9\n...         ...       ...     ...\n388281     3998      3503       2\n388282     3998      3782       9\n388283     3998      3783       9\n388377     3999        20       7\n388378     3999       269      10\n\n[89416 rows x 3 columns]",
      "text/html": "<div>\n<style scoped>\n    .dataframe tbody tr th:only-of-type {\n        vertical-align: middle;\n    }\n\n    .dataframe tbody tr th {\n        vertical-align: top;\n    }\n\n    .dataframe thead th {\n        text-align: right;\n    }\n</style>\n<table border=\"1\" class=\"dataframe\">\n  <thead>\n    <tr style=\"text-align: right;\">\n      <th></th>\n      <th>user_id</th>\n      <th>anime_id</th>\n      <th>rating</th>\n    </tr>\n  </thead>\n  <tbody>\n    <tr>\n      <th>156</th>\n      <td>3</td>\n      <td>20</td>\n      <td>8</td>\n    </tr>\n    <tr>\n      <th>157</th>\n      <td>3</td>\n      <td>154</td>\n      <td>6</td>\n    </tr>\n    <tr>\n      <th>158</th>\n      <td>3</td>\n      <td>170</td>\n      <td>9</td>\n    </tr>\n    <tr>\n      <th>159</th>\n      <td>3</td>\n      <td>199</td>\n      <td>10</td>\n    </tr>\n    <tr>\n      <th>160</th>\n      <td>3</td>\n      <td>225</td>\n      <td>9</td>\n    </tr>\n    <tr>\n      <th>...</th>\n      <td>...</td>\n      <td>...</td>\n      <td>...</td>\n    </tr>\n    <tr>\n      <th>388281</th>\n      <td>3998</td>\n      <td>3503</td>\n      <td>2</td>\n    </tr>\n    <tr>\n      <th>388282</th>\n      <td>3998</td>\n      <td>3782</td>\n      <td>9</td>\n    </tr>\n    <tr>\n      <th>388283</th>\n      <td>3998</td>\n      <td>3783</td>\n      <td>9</td>\n    </tr>\n    <tr>\n      <th>388377</th>\n      <td>3999</td>\n      <td>20</td>\n      <td>7</td>\n    </tr>\n    <tr>\n      <th>388378</th>\n      <td>3999</td>\n      <td>269</td>\n      <td>10</td>\n    </tr>\n  </tbody>\n</table>\n<p>89416 rows × 3 columns</p>\n</div>"
     },
     "execution_count": 5,
     "metadata": {},
     "output_type": "execute_result"
    }
   ],
   "source": [
    "df[stump_df_idx]"
   ],
   "metadata": {
    "collapsed": false
   }
  },
  {
   "cell_type": "code",
   "execution_count": 6,
   "outputs": [],
   "source": [
    "df_without_trash = df[stump_df_idx]"
   ],
   "metadata": {
    "collapsed": false
   }
  },
  {
   "cell_type": "code",
   "execution_count": 7,
   "outputs": [
    {
     "name": "stderr",
     "output_type": "stream",
     "text": [
      "c:\\python310\\lib\\site-packages\\sklearn\\utils\\_param_validation.py:11: UserWarning: A NumPy version >=1.23.5 and <2.5.0 is required for this version of SciPy (detected version 1.23.3)\n",
      "  from scipy.sparse import csr_matrix, issparse\n"
     ]
    }
   ],
   "source": [
    "from sklearn.model_selection import train_test_split\n",
    "\n",
    "train_df, test_df = train_test_split(df_without_trash, test_size=0.2, random_state=42)\n"
   ],
   "metadata": {
    "collapsed": false
   }
  },
  {
   "cell_type": "code",
   "execution_count": 8,
   "outputs": [],
   "source": [
    "from lfm import LatentFactorModel\n"
   ],
   "metadata": {
    "collapsed": false
   }
  },
  {
   "cell_type": "code",
   "execution_count": 9,
   "outputs": [],
   "source": [
    "n_fact = 30\n",
    "lr = 0.01\n",
    "reg = 0.1\n",
    "n_epoch = 50"
   ],
   "metadata": {
    "collapsed": false
   }
  },
  {
   "cell_type": "code",
   "execution_count": 10,
   "outputs": [
    {
     "name": "stdout",
     "output_type": "stream",
     "text": [
      "Iteration 1/50, RMSE = 6.7711\n",
      "Iteration 2/50, RMSE = 4.0843\n",
      "Iteration 3/50, RMSE = 3.0581\n",
      "Iteration 4/50, RMSE = 2.5983\n",
      "Iteration 5/50, RMSE = 2.3331\n",
      "Iteration 6/50, RMSE = 2.1601\n",
      "Iteration 7/50, RMSE = 2.0382\n",
      "Iteration 8/50, RMSE = 1.9477\n",
      "Iteration 9/50, RMSE = 1.8779\n",
      "Iteration 10/50, RMSE = 1.8227\n",
      "Iteration 11/50, RMSE = 1.7779\n",
      "Iteration 12/50, RMSE = 1.7409\n",
      "Iteration 13/50, RMSE = 1.7100\n",
      "Iteration 14/50, RMSE = 1.6838\n",
      "Iteration 15/50, RMSE = 1.6614\n",
      "Iteration 16/50, RMSE = 1.6420\n",
      "Iteration 17/50, RMSE = 1.6251\n",
      "Iteration 18/50, RMSE = 1.6103\n",
      "Iteration 19/50, RMSE = 1.5972\n",
      "Iteration 20/50, RMSE = 1.5856\n",
      "Iteration 21/50, RMSE = 1.5752\n",
      "Iteration 22/50, RMSE = 1.5659\n",
      "Iteration 23/50, RMSE = 1.5576\n",
      "Iteration 24/50, RMSE = 1.5500\n",
      "Iteration 25/50, RMSE = 1.5432\n",
      "Iteration 26/50, RMSE = 1.5369\n",
      "Iteration 27/50, RMSE = 1.5313\n",
      "Iteration 28/50, RMSE = 1.5261\n",
      "Iteration 29/50, RMSE = 1.5214\n",
      "Iteration 30/50, RMSE = 1.5170\n",
      "Iteration 31/50, RMSE = 1.5131\n",
      "Iteration 32/50, RMSE = 1.5094\n",
      "Iteration 33/50, RMSE = 1.5061\n",
      "Iteration 34/50, RMSE = 1.5030\n",
      "Iteration 35/50, RMSE = 1.5002\n",
      "Iteration 36/50, RMSE = 1.4976\n",
      "Iteration 37/50, RMSE = 1.4952\n",
      "Iteration 38/50, RMSE = 1.4931\n",
      "Iteration 39/50, RMSE = 1.4910\n",
      "Iteration 40/50, RMSE = 1.4892\n",
      "Iteration 41/50, RMSE = 1.4875\n",
      "Iteration 42/50, RMSE = 1.4859\n",
      "Iteration 43/50, RMSE = 1.4844\n",
      "Iteration 44/50, RMSE = 1.4831\n",
      "Iteration 45/50, RMSE = 1.4818\n",
      "Iteration 46/50, RMSE = 1.4807\n",
      "Iteration 47/50, RMSE = 1.4796\n",
      "Iteration 48/50, RMSE = 1.4786\n",
      "Iteration 49/50, RMSE = 1.4777\n",
      "Iteration 50/50, RMSE = 1.4769\n"
     ]
    }
   ],
   "source": [
    "model = LatentFactorModel(learning_rate=lr, reg=reg, n_factors=n_fact)\n",
    "model.fit(train_df, user_col_name='user_id', item_col_name='anime_id', rating_col_name='rating', test_df=test_df, n_iters=n_epoch)"
   ],
   "metadata": {
    "collapsed": false
   }
  },
  {
   "cell_type": "code",
   "execution_count": 11,
   "outputs": [
    {
     "data": {
      "text/plain": "1.4768938279392494"
     },
     "execution_count": 11,
     "metadata": {},
     "output_type": "execute_result"
    }
   ],
   "source": [
    "model.evaluate(test_df)"
   ],
   "metadata": {
    "collapsed": false
   }
  },
  {
   "cell_type": "code",
   "execution_count": 20,
   "outputs": [
    {
     "name": "stdout",
     "output_type": "stream",
     "text": [
      "Evaluating RMSE, MAE of algorithm SVD on 5 split(s).\n",
      "\n",
      "                  Fold 1  Fold 2  Fold 3  Fold 4  Fold 5  Mean    Std     \n",
      "RMSE (testset)    1.2345  1.2347  1.2141  1.2399  1.2489  1.2344  0.0114  \n",
      "MAE (testset)     0.9399  0.9353  0.9271  0.9421  0.9463  0.9381  0.0066  \n",
      "Fit time          0.56    0.51    0.53    0.49    0.57    0.53    0.03    \n",
      "Test time         0.12    0.12    0.12    0.25    0.15    0.15    0.05    \n",
      "{'test_rmse': array([1.234519  , 1.2346701 , 1.21413591, 1.23990085, 1.24890386]), 'test_mae': array([0.93991806, 0.93526866, 0.92711926, 0.94209433, 0.94633719]), 'fit_time': (0.562861442565918, 0.5107367038726807, 0.5273182392120361, 0.4922168254852295, 0.5730063915252686), 'test_time': (0.12100100517272949, 0.12400126457214355, 0.12065768241882324, 0.2535364627838135, 0.14999151229858398)}\n"
     ]
    }
   ],
   "source": [
    "from surprise import Dataset, Reader, SVD\n",
    "from surprise.model_selection import cross_validate\n",
    "\n",
    "reader = Reader(rating_scale=(1, 10))\n",
    "data = Dataset.load_from_df(df_without_trash[[\"user_id\", \"anime_id\", \"rating\"]], reader)\n",
    "\n",
    "\n",
    "surprise_model = SVD(\n",
    "    n_factors=n_fact,\n",
    "    lr_all=lr,\n",
    "    reg_all=reg,\n",
    "    n_epochs=n_epoch,\n",
    ")\n",
    "print(\n",
    "    cross_validate(\n",
    "        surprise_model,\n",
    "        data,\n",
    "        measures=[\"RMSE\", \"MAE\"],\n",
    "        cv=5,\n",
    "        verbose=True,\n",
    "    )\n",
    ")"
   ],
   "metadata": {
    "collapsed": false
   }
  },
  {
   "cell_type": "code",
   "execution_count": 13,
   "outputs": [],
   "source": [
    "from sklearn.model_selection import KFold\n",
    "def cross_validate_model(df, model_gen, k=5):\n",
    "    kf = KFold(n_splits=k, shuffle=True, random_state=42)\n",
    "    rmse_history = []\n",
    "    it=0\n",
    "    for train_index, test_index in kf.split(df):\n",
    "        it+=1\n",
    "        df_train = df.iloc[train_index]\n",
    "        df_test = df.iloc[test_index]\n",
    "        model = model_gen(learning_rate=lr, reg=reg, n_factors=n_fact)\n",
    "        model.fit(df_train, user_col_name='user_id', item_col_name='anime_id', rating_col_name='rating', n_iters=20, flag_print=False)\n",
    "        rmse = model.evaluate(df_test)\n",
    "\n",
    "        rmse_history.append(rmse)\n",
    "        print(f\"Iteration {it}/{k}, RMSE = {rmse:.4f}\")\n",
    "\n",
    "    return np.mean(rmse_history), np.std(rmse_history)"
   ],
   "metadata": {
    "collapsed": false
   }
  },
  {
   "cell_type": "code",
   "execution_count": 14,
   "outputs": [
    {
     "name": "stdout",
     "output_type": "stream",
     "text": [
      "Iteration 1/5, RMSE = 1.5688\n",
      "Iteration 2/5, RMSE = 1.5863\n",
      "Iteration 3/5, RMSE = 1.5866\n",
      "Iteration 4/5, RMSE = 1.5591\n",
      "Iteration 5/5, RMSE = 1.6007\n",
      "Средняя точность (Custom): 1.5803 ± 0.0146\n"
     ]
    }
   ],
   "source": [
    "avg_acc_custom, std_acc_custom = cross_validate_model(df_without_trash, LatentFactorModel, k=5)\n",
    "print(f\"Средняя точность (Custom): {avg_acc_custom:.4f} ± {std_acc_custom:.4f}\")"
   ],
   "metadata": {
    "collapsed": false
   }
  },
  {
   "cell_type": "markdown",
   "source": [
    "# Время"
   ],
   "metadata": {
    "collapsed": false
   }
  },
  {
   "cell_type": "code",
   "execution_count": 16,
   "outputs": [],
   "source": [
    "n_epoch = 15"
   ],
   "metadata": {
    "collapsed": false
   }
  },
  {
   "cell_type": "code",
   "execution_count": 17,
   "outputs": [
    {
     "name": "stdout",
     "output_type": "stream",
     "text": [
      "1min 2s ± 7.6 s per loop (mean ± std. dev. of 7 runs, 1 loop each)\n"
     ]
    }
   ],
   "source": [
    "%%timeit\n",
    "model_for_time = LatentFactorModel(learning_rate=lr, reg=reg, n_factors=n_fact)\n",
    "model_for_time.fit(train_df, user_col_name='user_id', item_col_name='anime_id', rating_col_name='rating', n_iters=n_epoch)"
   ],
   "metadata": {
    "collapsed": false
   }
  },
  {
   "cell_type": "code",
   "execution_count": 21,
   "outputs": [
    {
     "name": "stdout",
     "output_type": "stream",
     "text": [
      "436 ms ± 109 ms per loop (mean ± std. dev. of 7 runs, 1 loop each)\n"
     ]
    }
   ],
   "source": [
    "%timeit model.predict_df(test_df)"
   ],
   "metadata": {
    "collapsed": false
   }
  },
  {
   "cell_type": "code",
   "execution_count": 24,
   "outputs": [],
   "source": [
    "from surprise.model_selection import train_test_split as train_test_split_surprise\n",
    "train_data, test_data = train_test_split_surprise(data, test_size=0.2, random_state=42)"
   ],
   "metadata": {
    "collapsed": false
   }
  },
  {
   "cell_type": "code",
   "execution_count": 25,
   "outputs": [
    {
     "name": "stdout",
     "output_type": "stream",
     "text": [
      "545 ms ± 83.3 ms per loop (mean ± std. dev. of 7 runs, 1 loop each)\n"
     ]
    }
   ],
   "source": [
    "%%timeit\n",
    "surprise_model_for_time = SVD(\n",
    "    n_factors=n_fact,\n",
    "    lr_all=lr,\n",
    "    reg_all=reg,\n",
    "    n_epochs=n_epoch,\n",
    ")\n",
    "surprise_model_for_time.fit(train_data)"
   ],
   "metadata": {
    "collapsed": false
   }
  },
  {
   "cell_type": "code",
   "execution_count": 26,
   "outputs": [
    {
     "name": "stdout",
     "output_type": "stream",
     "text": [
      "125 ms ± 9.51 ms per loop (mean ± std. dev. of 7 runs, 10 loops each)\n"
     ]
    }
   ],
   "source": [
    "%timeit surprise_model.test(test_data)"
   ],
   "metadata": {
    "collapsed": false
   }
  },
  {
   "cell_type": "code",
   "execution_count": 27,
   "outputs": [
    {
     "data": {
      "text/plain": "(3476, 2480)"
     },
     "execution_count": 27,
     "metadata": {},
     "output_type": "execute_result"
    }
   ],
   "source": [
    "len(df_without_trash['user_id'].unique()), len(df_without_trash['anime_id'].unique())"
   ],
   "metadata": {
    "collapsed": false
   }
  },
  {
   "cell_type": "code",
   "execution_count": null,
   "outputs": [],
   "source": [],
   "metadata": {
    "collapsed": false
   }
  },
  {
   "cell_type": "code",
   "execution_count": 28,
   "outputs": [],
   "source": [
    "_, anime = load_data()"
   ],
   "metadata": {
    "collapsed": false
   }
  },
  {
   "cell_type": "code",
   "execution_count": 32,
   "outputs": [
    {
     "data": {
      "text/plain": "       anime_id                                            name  \\\n151          33                                         Berserk   \n198       12115           Berserk: Ougon Jidai-hen III - Kourin   \n419       12113  Berserk: Ougon Jidai-hen II - Doldrey Kouryaku   \n657       10218     Berserk: Ougon Jidai-hen I - Haou no Tamago   \n4052      32379                                  Berserk (2016)   \n10924     34055                                  Berserk (2017)   \n\n                                                   genre   type episodes  \\\n151    Action, Adventure, Demons, Drama, Fantasy, Hor...     TV       25   \n198    Action, Adventure, Demons, Drama, Fantasy, Hor...  Movie        1   \n419    Action, Adventure, Demons, Drama, Fantasy, Hor...  Movie        1   \n657    Action, Adventure, Demons, Fantasy, Military, ...  Movie        1   \n4052   Action, Adventure, Demons, Drama, Fantasy, Hor...     TV       12   \n10924  Action, Adventure, Demons, Drama, Fantasy, Hor...     TV  Unknown   \n\n       rating  members  \n151      8.40   226430  \n198      8.33    65594  \n419      8.09    66721  \n657      7.91    77103  \n4052     6.81    90817  \n10924     NaN    13463  ",
      "text/html": "<div>\n<style scoped>\n    .dataframe tbody tr th:only-of-type {\n        vertical-align: middle;\n    }\n\n    .dataframe tbody tr th {\n        vertical-align: top;\n    }\n\n    .dataframe thead th {\n        text-align: right;\n    }\n</style>\n<table border=\"1\" class=\"dataframe\">\n  <thead>\n    <tr style=\"text-align: right;\">\n      <th></th>\n      <th>anime_id</th>\n      <th>name</th>\n      <th>genre</th>\n      <th>type</th>\n      <th>episodes</th>\n      <th>rating</th>\n      <th>members</th>\n    </tr>\n  </thead>\n  <tbody>\n    <tr>\n      <th>151</th>\n      <td>33</td>\n      <td>Berserk</td>\n      <td>Action, Adventure, Demons, Drama, Fantasy, Hor...</td>\n      <td>TV</td>\n      <td>25</td>\n      <td>8.40</td>\n      <td>226430</td>\n    </tr>\n    <tr>\n      <th>198</th>\n      <td>12115</td>\n      <td>Berserk: Ougon Jidai-hen III - Kourin</td>\n      <td>Action, Adventure, Demons, Drama, Fantasy, Hor...</td>\n      <td>Movie</td>\n      <td>1</td>\n      <td>8.33</td>\n      <td>65594</td>\n    </tr>\n    <tr>\n      <th>419</th>\n      <td>12113</td>\n      <td>Berserk: Ougon Jidai-hen II - Doldrey Kouryaku</td>\n      <td>Action, Adventure, Demons, Drama, Fantasy, Hor...</td>\n      <td>Movie</td>\n      <td>1</td>\n      <td>8.09</td>\n      <td>66721</td>\n    </tr>\n    <tr>\n      <th>657</th>\n      <td>10218</td>\n      <td>Berserk: Ougon Jidai-hen I - Haou no Tamago</td>\n      <td>Action, Adventure, Demons, Fantasy, Military, ...</td>\n      <td>Movie</td>\n      <td>1</td>\n      <td>7.91</td>\n      <td>77103</td>\n    </tr>\n    <tr>\n      <th>4052</th>\n      <td>32379</td>\n      <td>Berserk (2016)</td>\n      <td>Action, Adventure, Demons, Drama, Fantasy, Hor...</td>\n      <td>TV</td>\n      <td>12</td>\n      <td>6.81</td>\n      <td>90817</td>\n    </tr>\n    <tr>\n      <th>10924</th>\n      <td>34055</td>\n      <td>Berserk (2017)</td>\n      <td>Action, Adventure, Demons, Drama, Fantasy, Hor...</td>\n      <td>TV</td>\n      <td>Unknown</td>\n      <td>NaN</td>\n      <td>13463</td>\n    </tr>\n  </tbody>\n</table>\n</div>"
     },
     "execution_count": 32,
     "metadata": {},
     "output_type": "execute_result"
    }
   ],
   "source": [
    "filtered_df = anime[anime['name'].str.contains('Berserk', case=False, na=False)]\n",
    "filtered_df"
   ],
   "metadata": {
    "collapsed": false
   }
  },
  {
   "cell_type": "code",
   "execution_count": 39,
   "outputs": [
    {
     "data": {
      "text/plain": "4859      8.257078\n4952      9.041274\n6003      7.947333\n8832      8.055352\n10038     7.397682\n            ...   \n382180    9.889663\n383363    8.095561\n383557    8.317863\n386598    8.561800\n387520    7.759800\nLength: 269, dtype: float64"
     },
     "execution_count": 39,
     "metadata": {},
     "output_type": "execute_result"
    }
   ],
   "source": [
    "berserk_pred = model.predict_df(df_without_trash[df_without_trash['anime_id'] == 33])\n",
    "berserk_pred"
   ],
   "metadata": {
    "collapsed": false
   }
  },
  {
   "cell_type": "code",
   "execution_count": 40,
   "outputs": [
    {
     "data": {
      "text/plain": "count    269.000000\nmean       7.955258\nstd        0.750086\nmin        4.112557\n25%        7.523219\n50%        7.975763\n75%        8.445199\nmax        9.889663\ndtype: float64"
     },
     "execution_count": 40,
     "metadata": {},
     "output_type": "execute_result"
    }
   ],
   "source": [
    "berserk_pred.describe()"
   ],
   "metadata": {
    "collapsed": false
   }
  },
  {
   "cell_type": "code",
   "execution_count": 35,
   "outputs": [
    {
     "data": {
      "text/plain": "       anime_id                                            name  \\\n90         3784           Evangelion: 2.0 You Can (Not) Advance   \n130          32  Neon Genesis Evangelion: The End of Evangelion   \n211          30                         Neon Genesis Evangelion   \n294        2759             Evangelion: 1.0 You Are (Not) Alone   \n1029       3785              Evangelion: 3.0 You Can (Not) Redo   \n1538         31    Neon Genesis Evangelion: Death &amp; Rebirth   \n6628       4130                    Petit Eva: Evangelion@School   \n7320      31115                             Schick x Evangelion   \n10976      3786                             Evangelion: 3.0+1.0   \n\n                                                   genre     type episodes  \\\n90                                 Action, Mecha, Sci-Fi    Movie        1   \n130        Dementia, Drama, Mecha, Psychological, Sci-Fi    Movie        1   \n211    Action, Dementia, Drama, Mecha, Psychological,...       TV       26   \n294                                Action, Mecha, Sci-Fi    Movie        1   \n1029                               Action, Mecha, Sci-Fi    Movie        1   \n1538                 Drama, Mecha, Psychological, Sci-Fi    Movie        1   \n6628                              Comedy, Parody, School      ONA       24   \n7320                                      Comedy, Parody  Special        2   \n10976                              Action, Mecha, Sci-Fi    Movie        1   \n\n       rating  members  \n90       8.53   182224  \n130      8.45   215630  \n211      8.32   461946  \n294      8.21   194561  \n1029     7.71   135318  \n1538     7.51   102093  \n6628     6.03    15734  \n7320     5.56     2021  \n10976     NaN    66600  ",
      "text/html": "<div>\n<style scoped>\n    .dataframe tbody tr th:only-of-type {\n        vertical-align: middle;\n    }\n\n    .dataframe tbody tr th {\n        vertical-align: top;\n    }\n\n    .dataframe thead th {\n        text-align: right;\n    }\n</style>\n<table border=\"1\" class=\"dataframe\">\n  <thead>\n    <tr style=\"text-align: right;\">\n      <th></th>\n      <th>anime_id</th>\n      <th>name</th>\n      <th>genre</th>\n      <th>type</th>\n      <th>episodes</th>\n      <th>rating</th>\n      <th>members</th>\n    </tr>\n  </thead>\n  <tbody>\n    <tr>\n      <th>90</th>\n      <td>3784</td>\n      <td>Evangelion: 2.0 You Can (Not) Advance</td>\n      <td>Action, Mecha, Sci-Fi</td>\n      <td>Movie</td>\n      <td>1</td>\n      <td>8.53</td>\n      <td>182224</td>\n    </tr>\n    <tr>\n      <th>130</th>\n      <td>32</td>\n      <td>Neon Genesis Evangelion: The End of Evangelion</td>\n      <td>Dementia, Drama, Mecha, Psychological, Sci-Fi</td>\n      <td>Movie</td>\n      <td>1</td>\n      <td>8.45</td>\n      <td>215630</td>\n    </tr>\n    <tr>\n      <th>211</th>\n      <td>30</td>\n      <td>Neon Genesis Evangelion</td>\n      <td>Action, Dementia, Drama, Mecha, Psychological,...</td>\n      <td>TV</td>\n      <td>26</td>\n      <td>8.32</td>\n      <td>461946</td>\n    </tr>\n    <tr>\n      <th>294</th>\n      <td>2759</td>\n      <td>Evangelion: 1.0 You Are (Not) Alone</td>\n      <td>Action, Mecha, Sci-Fi</td>\n      <td>Movie</td>\n      <td>1</td>\n      <td>8.21</td>\n      <td>194561</td>\n    </tr>\n    <tr>\n      <th>1029</th>\n      <td>3785</td>\n      <td>Evangelion: 3.0 You Can (Not) Redo</td>\n      <td>Action, Mecha, Sci-Fi</td>\n      <td>Movie</td>\n      <td>1</td>\n      <td>7.71</td>\n      <td>135318</td>\n    </tr>\n    <tr>\n      <th>1538</th>\n      <td>31</td>\n      <td>Neon Genesis Evangelion: Death &amp;amp; Rebirth</td>\n      <td>Drama, Mecha, Psychological, Sci-Fi</td>\n      <td>Movie</td>\n      <td>1</td>\n      <td>7.51</td>\n      <td>102093</td>\n    </tr>\n    <tr>\n      <th>6628</th>\n      <td>4130</td>\n      <td>Petit Eva: Evangelion@School</td>\n      <td>Comedy, Parody, School</td>\n      <td>ONA</td>\n      <td>24</td>\n      <td>6.03</td>\n      <td>15734</td>\n    </tr>\n    <tr>\n      <th>7320</th>\n      <td>31115</td>\n      <td>Schick x Evangelion</td>\n      <td>Comedy, Parody</td>\n      <td>Special</td>\n      <td>2</td>\n      <td>5.56</td>\n      <td>2021</td>\n    </tr>\n    <tr>\n      <th>10976</th>\n      <td>3786</td>\n      <td>Evangelion: 3.0+1.0</td>\n      <td>Action, Mecha, Sci-Fi</td>\n      <td>Movie</td>\n      <td>1</td>\n      <td>NaN</td>\n      <td>66600</td>\n    </tr>\n  </tbody>\n</table>\n</div>"
     },
     "execution_count": 35,
     "metadata": {},
     "output_type": "execute_result"
    }
   ],
   "source": [
    "filtered_df = anime[anime['name'].str.contains('Evangelion', case=False, na=False)]\n",
    "filtered_df"
   ],
   "metadata": {
    "collapsed": false
   }
  },
  {
   "cell_type": "code",
   "execution_count": 37,
   "outputs": [],
   "source": [
    "evangilion_pred = model.predict_df(df_without_trash[df_without_trash['anime_id'] == 30])"
   ],
   "metadata": {
    "collapsed": false
   }
  },
  {
   "cell_type": "code",
   "execution_count": 41,
   "outputs": [
    {
     "data": {
      "text/plain": "count    691.000000\nmean       7.987436\nstd        0.837766\nmin        2.840964\n25%        7.543509\n50%        8.040452\n75%        8.521086\nmax        9.914933\ndtype: float64"
     },
     "execution_count": 41,
     "metadata": {},
     "output_type": "execute_result"
    }
   ],
   "source": [
    "evangilion_pred.describe()"
   ],
   "metadata": {
    "collapsed": false
   }
  },
  {
   "cell_type": "code",
   "execution_count": null,
   "outputs": [],
   "source": [],
   "metadata": {
    "collapsed": false
   }
  }
 ],
 "metadata": {
  "kernelspec": {
   "display_name": "Python 3",
   "language": "python",
   "name": "python3"
  },
  "language_info": {
   "codemirror_mode": {
    "name": "ipython",
    "version": 2
   },
   "file_extension": ".py",
   "mimetype": "text/x-python",
   "name": "python",
   "nbconvert_exporter": "python",
   "pygments_lexer": "ipython2",
   "version": "2.7.6"
  }
 },
 "nbformat": 4,
 "nbformat_minor": 0
}
